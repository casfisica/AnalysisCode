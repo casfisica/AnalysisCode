{
 "cells": [
  {
   "cell_type": "markdown",
   "metadata": {},
   "source": [
    "## Numero de Eventos\n",
    "$N_{x}=\\mathcal{L}\\sigma_{x}$, $N_{x}$: Numero de eventos de $x$, $\\mathcal{L}$: Luminosity\n",
    "\n",
    "## Efficiencia\n",
    "$E_{ff_x}=\\frac{N_{x_f}}{N_{x_o}}$, $N_{x_f}$:Numero de eventos de x despues de cortes, $N_{o_f}$: Numero de eventos de x antes de cortes."
   ]
  },
  {
   "cell_type": "markdown",
   "metadata": {},
   "source": [
    "Luego:\n",
    "\n",
    "$N_{x_f}=E_{ff_x}N_{x_o}~\\Rightarrow~N_{x_f}=E_{ff_x}\\sigma_{x}\\mathcal{L}$"
   ]
  },
  {
   "cell_type": "code",
   "execution_count": 1,
   "metadata": {},
   "outputs": [],
   "source": [
    "#include<cmath>"
   ]
  },
  {
   "cell_type": "code",
   "execution_count": 2,
   "metadata": {},
   "outputs": [
    {
     "name": "stdout",
     "output_type": "stream",
     "text": [
      "(int) 0\n"
     ]
    }
   ],
   "source": [
    "gROOT->ProcessLine(\".x CVSReader.C\");"
   ]
  },
  {
   "cell_type": "markdown",
   "metadata": {},
   "source": [
    "## Significancia\n",
    "$Z=\\frac{S}{\\sqrt{S+B}}$, $S$: Numero de eventos de señal , $B$: Numero de eventos de background"
   ]
  },
  {
   "cell_type": "code",
   "execution_count": 3,
   "metadata": {},
   "outputs": [],
   "source": [
    "/*XC pb and Lumi fb^{-1}*/\n",
    "Double_t Significance(Double_t Lumi,Double_t XCSignal,Double_t EffSignal,std::vector<Double_t> XCBG,std::vector<Double_t> EffBG){\n",
    "  \n",
    "    if(XCBG.size() != EffBG.size()){\n",
    "        std::cout<<  \"ERROR: XCBG and EffBG should be same size\" << std::endl;\n",
    "        return 0;\n",
    "    }\n",
    "    Double_t TotalBG = 0;\n",
    "    for (Int_t i=0;i<XCBG.size();i++){\n",
    "        TotalBG += XCBG[i]*EffBG[i]*1000;//*1000 bp to fb\n",
    "        //std::cout<<  TotalBG << std::endl;\n",
    "    }\n",
    "    Double_t Denominator = std::sqrt((XCSignal*EffSignal*1000+TotalBG)*Lumi);//*1000 bp to fb\n",
    "    Double_t Numerator = XCSignal*EffSignal*Lumi*1000;\n",
    "    Double_t Z = Numerator/Denominator;\n",
    "    return Z;\n",
    "}"
   ]
  },
  {
   "cell_type": "markdown",
   "metadata": {},
   "source": [
    "$Z=\\frac{S}{\\sqrt{S+B}}~\\Rightarrow~Z^2=\\frac{S^2}{S+B}~\\Rightarrow~Z^2=\\frac{(E_{ff_S}\\sigma_{S}\\mathcal{L})^2}{(E_{ff_S}\\sigma_{S}\\mathcal{L})+(E_{ff_B}\\sigma_{B}\\mathcal{L})}$\n",
    "\n",
    "\n",
    "$Z^2=\\frac{E_{ff_S}\\sigma_{S}^2\\mathcal{L}}{E_{ff_S}\\sigma_{S}+E_{ff_B}\\sigma_{B}}$"
   ]
  },
  {
   "cell_type": "raw",
   "metadata": {},
   "source": [
    "## Luminosity to have some Significance\n",
    "$\\mathcal{L}=Z^2 \\frac{E_{ff_S}\\sigma_{S}+E_{ff_B}\\sigma_{B}}{(E_{ff_S}\\sigma_{S})^2}$\n",
    "\n",
    "Si se tiene $N_{f_B}(100fb^{-1})=569978$, como $E_{ff_B}\\sigma_{B}=\\frac{N_{f_B}(100fb^{-1})}{100fb^{-1}}$, entonces\n",
    "\n",
    "$E_{ff_B}\\sigma_{B}=5699.78fb=5.69978pb$"
   ]
  },
  {
   "cell_type": "markdown",
   "metadata": {},
   "source": [
    "## Luminosity to have some Significance\n",
    "$\\mathcal{L}=Z^2 \\frac{E_{ff_S}\\sigma_{S}+E_{ff_B}\\sigma_{B}}{(E_{ff_S}\\sigma_{S})^2}$\n",
    "\n",
    "Si se tiene $N_{f_B}(100fb^{-1})=277606.870$, como $E_{ff_B}\\sigma_{B}=\\frac{N_{f_B}(100fb^{-1})}{100fb^{-1}}$, entonces\n",
    "\n",
    "$E_{ff_B}\\sigma_{B}=2776.06870fb=2.77606870pb$"
   ]
  },
  {
   "cell_type": "code",
   "execution_count": 4,
   "metadata": {},
   "outputs": [],
   "source": [
    "//XC pb y lumi fb-1\n",
    "Double_t Lumi(Double_t Z,Double_t XCSignal,Double_t EffSignal,std::vector<Double_t> XCBG,std::vector<Double_t> EffBG){\n",
    "  \n",
    "    if(XCBG.size() != EffBG.size()){\n",
    "        std::cout<<  \"ERROR: XCBG and EffBG should be same size\" << std::endl;\n",
    "        return 0;\n",
    "    }\n",
    "    Double_t TotalBG = 0;\n",
    "    for (Int_t i=0;i<XCBG.size();i++){\n",
    "        TotalBG += XCBG[i]*EffBG[i]*1000;//pb to fb\n",
    "        //std::cout<< \"XC: \" <<XCBG[i] <<\" , Eff: \"<< EffBG[i]<< std::endl;\n",
    "    }\n",
    "    Double_t Numerator = ((EffSignal*XCSignal*1000)+TotalBG)*Z*Z;\n",
    "    Double_t Denominator = (EffSignal*XCSignal*1000)*(EffSignal*XCSignal*1000);\n",
    "    \n",
    "    Double_t Lum = Numerator/Denominator;\n",
    "    return Lum;\n",
    "}"
   ]
  },
  {
   "cell_type": "code",
   "execution_count": 5,
   "metadata": {},
   "outputs": [],
   "source": [
    "//Xs fb\n",
    "Double_t Xs[]= {751.3, 633.5, 540.3, 460.3, 398.0, 343.3, 300.1, 262.3, 231.9, 203.9, 181.0, 161.1, 144.1, 128.9, 115.6, 103.8, 93.82, 84.97, 77.13};\n",
    "Double_t MF[]= {100  , 105  , 110  , 115  , 120  , 125  , 130  , 135  , 140  , 145  , 150  , 155  , 160  , 165, 170, 175, 180, 185, 190};\n",
    "// You can choose among the following methods:\n",
    "// kLINEAR, kPOLYNOMIAL, kCSPLINE, kCSPLINE_PERIODIC, kAKIMA, kAKIMA_PERIODIC \n",
    "const Int_t ni = 19;//size of the arrays\n",
    "ROOT::Math::Interpolator XS(ni, ROOT::Math::Interpolation::kLINEAR);\n",
    "XS.SetData(ni, MF, Xs);"
   ]
  },
  {
   "cell_type": "code",
   "execution_count": 6,
   "metadata": {},
   "outputs": [],
   "source": [
    "std::vector<Double_t> _XCBG;\n",
    "std::vector<Double_t> _EffBG;\n",
    "_XCBG.push_back(2.776068702);//In pb 2.776068702\n",
    "_EffBG.push_back(1);"
   ]
  },
  {
   "cell_type": "code",
   "execution_count": 7,
   "metadata": {},
   "outputs": [],
   "source": [
    "// Creating an object of CSVWriter\n",
    "CSVReader reader(\"EffVLF_BRmu25_BRtau75_inter.csv\");"
   ]
  },
  {
   "cell_type": "code",
   "execution_count": 8,
   "metadata": {},
   "outputs": [],
   "source": [
    "// Get the data from CSV File\n",
    "std::vector<std::vector<std::string> > dataList = reader.getData();"
   ]
  },
  {
   "cell_type": "code",
   "execution_count": 9,
   "metadata": {},
   "outputs": [],
   "source": [
    "TCanvas *c1 = new TCanvas(\"c1\",\"ContornPlot\",200,10,700,500);"
   ]
  },
  {
   "cell_type": "code",
   "execution_count": 10,
   "metadata": {},
   "outputs": [],
   "source": [
    "Double_t MinY = 2;\n",
    "Double_t MinX = 100;\n",
    "Double_t MaxY = 21;\n",
    "Double_t MaxX = 170;"
   ]
  },
  {
   "cell_type": "code",
   "execution_count": 11,
   "metadata": {},
   "outputs": [],
   "source": [
    "gStyle->SetOptStat(0);\n",
    "//TH2D *h1 = new TH2D(\"h1\",\"h1\",19,MinX,MaxX,14,MinY,MaxY);\n",
    "TH2D *h1 = new TH2D(\"h1\",\"h1\",14,MinX,MaxX,19,MinY,MaxY);\n",
    "std::vector<Double_t> FistRow;\n",
    "std::vector<Double_t> FistCol;\n",
    "int count1 = 0;"
   ]
  },
  {
   "cell_type": "code",
   "execution_count": 12,
   "metadata": {},
   "outputs": [],
   "source": [
    "auto Frame = c1->DrawFrame(MinX,MinY,MaxX,MaxY);\n",
    "c1->SetRightMargin(0.15);\n",
    " //gStyle->SetPalette(55);\n",
    "gStyle->SetPalette(87);"
   ]
  },
  {
   "cell_type": "code",
   "execution_count": 13,
   "metadata": {},
   "outputs": [],
   "source": [
    "Frame->GetXaxis()->SetTitle(\"m_{F} [GeV]\");\n",
    "Frame->GetYaxis()->SetTitle(\"#Deltam(F,#chi) [GeV]\");\n",
    "Frame->GetYaxis()->CenterTitle(\"True\");\n",
    "Frame->GetYaxis()->SetTitleFont(42);\n",
    "Frame->GetXaxis()->SetTitleFont(42);\n",
    "Frame->GetYaxis()->SetTitleSize(0.04);\n",
    "Frame->GetXaxis()->SetTitleSize(0.04);"
   ]
  },
  {
   "cell_type": "code",
   "execution_count": 14,
   "metadata": {},
   "outputs": [],
   "source": [
    "//TLatex *   tex = new TLatex(0.85,0.91,\"BR(F#rightarrow #mu,#tau)= 25%,75%; 3#sigma (13 TeV, 0 PU)\");\n",
    "TLatex *   tex = new TLatex(0.85,0.91,\"BR(F #rightarrow #mu)= 25%, BR(F #rightarrow #tau)= 75%; 3#sigma, 13 TeV\");\n",
    "tex->SetNDC();\n",
    "tex->SetTextAlign(31);\n",
    "tex->SetTextFont(42);\n",
    "tex->SetTextSize(0.04);\n",
    "tex->SetLineWidth(2);\n",
    "tex->Draw(\"Same\");"
   ]
  },
  {
   "cell_type": "code",
   "execution_count": 15,
   "metadata": {},
   "outputs": [],
   "source": [
    "TLatex *   tex1 = new TLatex(0.97,0.7,\"Luminosity [10^{3} fb^{-1}]\");\n",
    "tex1->SetNDC();\n",
    "tex1->SetTextAlign(31);\n",
    "tex1->SetTextFont(42);\n",
    "tex1->SetTextSize(0.04);\n",
    "tex1->SetLineWidth(2);\n",
    "tex1->SetTextAngle(90);\n",
    "//tex1->Draw(\"Same\");"
   ]
  },
  {
   "cell_type": "code",
   "execution_count": 16,
   "metadata": {},
   "outputs": [],
   "source": [
    "//gStyle->SetPaintTextFormat(\"4.1f m\");\n",
    "gStyle->SetPaintTextFormat(\"1.2f\");"
   ]
  },
  {
   "cell_type": "code",
   "execution_count": 17,
   "metadata": {},
   "outputs": [],
   "source": [
    "Bool_t debug = kFALSE;  //kTRUE"
   ]
  },
  {
   "cell_type": "code",
   "execution_count": 18,
   "metadata": {},
   "outputs": [],
   "source": [
    "// Print the content of row by row on screen\n",
    "count1 = 0; \n",
    "for(std::vector<std::string> vec : dataList){\n",
    "    int count2 = 0;\n",
    "    for(std::string Data : vec){\n",
    "        Double_t data = atof(Data.c_str());\n",
    "        if (count1 == 0){\n",
    "            FistRow.push_back(data);\n",
    "        }else{\n",
    "            if (count2 == 0){\n",
    "                FistCol.push_back(data);\n",
    "            }else{\n",
    "                if(data != 0){//To be sure dont use the 0s\n",
    "                    // Z/31.63 Para que Lumi=lumi/1000\n",
    "                    /*\n",
    "                    3sigma = 0.0948466646\n",
    "                    5sigma = 0.1580777743                \n",
    "                    */\n",
    "                    Double_t Lum = Lumi(0.0948466646,XS.Eval((Double_t)FistRow[count2])*0.001,data,_XCBG,_EffBG);\n",
    "                    //h1->Fill(FistCol.back(),FistRow[count2],Lum);\n",
    "                    h1->Fill(FistRow[count2],FistCol.back(),Lum);\n",
    "                    if(debug){\n",
    "                        std::cout<<\"XS: \"<<XS.Eval(FistRow[count2])*0.001,4;\n",
    "                        std::cout<<\" (\" << FistCol.back() << \",\"; \n",
    "                        std::cout<<FistRow[count2] << \",\";\n",
    "                        std::cout<<data << \") , \";\n",
    "                    }\n",
    "                    }else{\n",
    "                        //Deberia extrapolar entre los que o tengo\n",
    "                    }\n",
    "                }\n",
    "            \n",
    "        }\n",
    "        count2++;\n",
    "    }\n",
    "    count1++;\n",
    "    if(debug){\n",
    "        std::cout<<std::endl;\n",
    "        std::cout<<std::endl;\n",
    "    }\n",
    "} "
   ]
  },
  {
   "cell_type": "code",
   "execution_count": 19,
   "metadata": {},
   "outputs": [],
   "source": [
    "//double contours[1];\n",
    "//contours[0] = 3;\n",
    "//contours[1] = 5;\n",
    "//contours[2] = 0.01;\n",
    "//contours[3] = 0.001;\n",
    "\n",
    "h1->DrawCopy(\"colz same\");\n",
    "h1->DrawCopy(\"TEXT same\");\n",
    "//h1->DrawCopy(\"TEXTE0 same\");\n",
    "//h1->SetContour(1,contours);\n",
    "//h1->Draw(\"cont2 same\");\n",
    "//h1->SetLineColor(kRed);\n",
    "tex1->Draw(\"Same\");"
   ]
  },
  {
   "cell_type": "code",
   "execution_count": 20,
   "metadata": {},
   "outputs": [
    {
     "data": {
      "image/png": "[encoded data removed]",
      "text/plain": [
       "<IPython.core.display.Image object>"
      ]
     },
     "metadata": {},
     "output_type": "display_data"
    }
   ],
   "source": [
    "c1->Draw()"
   ]
  },
  {
   "cell_type": "code",
   "execution_count": 21,
   "metadata": {},
   "outputs": [],
   "source": [
    "string Name    = \"\";\n",
    "string NameC   = \"\";\n",
    "string NamePDF = \"\";"
   ]
  },
  {
   "cell_type": "code",
   "execution_count": 22,
   "metadata": {},
   "outputs": [
    {
     "name": "stderr",
     "output_type": "stream",
     "text": [
      "Info in <TCanvas::SaveSource>: C++ Macro file: LumiToExclusionSigma3_BRmu25tau75.C has been generated\n",
      "Info in <TCanvas::Print>: pdf file LumiToExclusionSigma3_BRmu25tau75.pdf has been created\n"
     ]
    }
   ],
   "source": [
    "Name = \"LumiToExclusionSigma3_BRmu25tau75\";\n",
    "NameC = Name +\".C\";\n",
    "NamePDF = Name +\".pdf\";\n",
    "c1->SaveSource(NameC.c_str());\n",
    "c1->SaveAs(NamePDF.c_str(),\"pdf\");"
   ]
  },
  {
   "cell_type": "code",
   "execution_count": 23,
   "metadata": {},
   "outputs": [
    {
     "name": "stdout",
     "output_type": "stream",
     "text": [
      "/Storage/cms/AnalysisCode/ContourPlot\n"
     ]
    }
   ],
   "source": [
    ".! pwd"
   ]
  },
  {
   "cell_type": "code",
   "execution_count": null,
   "metadata": {},
   "outputs": [],
   "source": []
  }
 ],
 "metadata": {
  "kernelspec": {
   "display_name": "ROOT C++",
   "language": "c++",
   "name": "root"
  },
  "language_info": {
   "codemirror_mode": "text/x-c++src",
   "file_extension": ".C",
   "mimetype": " text/x-c++src",
   "name": "c++"
  }
 },
 "nbformat": 4,
 "nbformat_minor": 2
}
