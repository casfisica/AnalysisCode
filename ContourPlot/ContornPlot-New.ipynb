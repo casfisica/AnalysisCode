{
 "cells": [
  {
   "cell_type": "markdown",
   "metadata": {},
   "source": [
    "void set_plot_style()\n",
    "{\n",
    "    const Int_t NRGBs = 5;\n",
    "    const Int_t NCont = 255;\n",
    "\n",
    "    Double_t stops[NRGBs] = { 0.00, 0.34, 0.61, 0.84, 1.00 };\n",
    "    Double_t red[NRGBs]   = { 0.00, 0.00, 0.87, 1.00, 0.51 };\n",
    "    Double_t green[NRGBs] = { 0.00, 0.81, 1.00, 0.20, 0.00 };\n",
    "    Double_t blue[NRGBs]  = { 0.51, 1.00, 0.12, 0.00, 0.00 };\n",
    "    TColor::CreateGradientColorTable(NRGBs, stops, red, green, blue, NCont);\n",
    "    gStyle->SetNumberContours(NCont);\n",
    "}"
   ]
  },
  {
   "cell_type": "markdown",
   "metadata": {},
   "source": [
    "## Numero de Eventos\n",
    "$N_{x}=\\mathcal{L}\\sigma_{x}$, $N_{x}$: Numero de eventos de $x$, $\\mathcal{L}$: Luminosity\n",
    "\n",
    "## Efficiencia\n",
    "$E_{ff_x}=\\frac{N_{x_f}}{N_{x_o}}$, $N_{x_f}$:Numero de eventos de x despues de cortes, $N_{o_f}$: Numero de eventos de x antes de cortes."
   ]
  },
  {
   "cell_type": "markdown",
   "metadata": {},
   "source": [
    "Luego:\n",
    "\n",
    "$N_{x_f}=E_{ff_x}N_{x_o}~\\Rightarrow~N_{x_f}=E_{ff_x}\\sigma_{x}\\mathcal{L}$"
   ]
  },
  {
   "cell_type": "code",
   "execution_count": 1,
   "metadata": {},
   "outputs": [],
   "source": [
    "#include<cmath>"
   ]
  },
  {
   "cell_type": "code",
   "execution_count": 2,
   "metadata": {},
   "outputs": [
    {
     "name": "stdout",
     "output_type": "stream",
     "text": [
      "(int) 0\n"
     ]
    }
   ],
   "source": [
    "gROOT->ProcessLine(\".x CVSReader.C\");"
   ]
  },
  {
   "cell_type": "markdown",
   "metadata": {},
   "source": [
    "## Significancia\n",
    "$Z=\\frac{S}{\\sqrt{S+B}}$, $S$: Numero de eventos de señal , $B$: Numero de eventos de background"
   ]
  },
  {
   "cell_type": "code",
   "execution_count": 3,
   "metadata": {},
   "outputs": [],
   "source": [
    "/*XC pb and Lumi fb^{-1}*/\n",
    "Double_t Significance(Double_t Lumi,Double_t XCSignal,Double_t EffSignal,std::vector<Double_t> XCBG,std::vector<Double_t> EffBG){\n",
    "  \n",
    "    if(XCBG.size() != EffBG.size()){\n",
    "        std::cout<<  \"ERROR: XCBG and EffBG should be same size\" << std::endl;\n",
    "        return 0;\n",
    "    }\n",
    "    Double_t TotalBG = 0;\n",
    "    for (Int_t i=0;i<XCBG.size();i++){\n",
    "        TotalBG += XCBG[i]*EffBG[i]*1000;//*1000 bp to fb\n",
    "        //std::cout<<  TotalBG << std::endl;\n",
    "    }\n",
    "    Double_t Denominator = std::sqrt((XCSignal*EffSignal*1000+TotalBG)*Lumi);//*1000 bp to fb\n",
    "    Double_t Numerator = XCSignal*EffSignal*Lumi*1000;\n",
    "    Double_t Z = Numerator/Denominator;\n",
    "    return Z;\n",
    "}"
   ]
  },
  {
   "cell_type": "markdown",
   "metadata": {},
   "source": [
    "$Z=\\frac{S}{\\sqrt{S+B}}~\\Rightarrow~Z^2=\\frac{S^2}{S+B}~\\Rightarrow~Z^2=\\frac{(E_{ff_S}\\sigma_{S}\\mathcal{L})^2}{(E_{ff_S}\\sigma_{S}\\mathcal{L})+(E_{ff_B}\\sigma_{B}\\mathcal{L})}$\n",
    "\n",
    "\n",
    "$Z^2=\\frac{E_{ff_S}\\sigma_{S}^2\\mathcal{L}}{E_{ff_S}\\sigma_{S}+E_{ff_B}\\sigma_{B}}$"
   ]
  },
  {
   "cell_type": "raw",
   "metadata": {},
   "source": [
    "## Luminosity to have some Significance\n",
    "$\\mathcal{L}=Z^2 \\frac{E_{ff_S}\\sigma_{S}+E_{ff_B}\\sigma_{B}}{(E_{ff_S}\\sigma_{S})^2}$\n",
    "\n",
    "Si se tiene $N_{f_B}(100fb^{-1})=569978$, como $E_{ff_B}\\sigma_{B}=\\frac{N_{f_B}(100fb^{-1})}{100fb^{-1}}$, entonces\n",
    "\n",
    "$E_{ff_B}\\sigma_{B}=5699.78fb=5.69978pb$"
   ]
  },
  {
   "cell_type": "markdown",
   "metadata": {},
   "source": [
    "## Luminosity to have some Significance\n",
    "$\\mathcal{L}=Z^2 \\frac{E_{ff_S}\\sigma_{S}+E_{ff_B}\\sigma_{B}}{(E_{ff_S}\\sigma_{S})^2}$\n",
    "\n",
    "Si se tiene $N_{f_B}(100fb^{-1})=277606.870$, como $E_{ff_B}\\sigma_{B}=\\frac{N_{f_B}(100fb^{-1})}{100fb^{-1}}$, entonces\n",
    "\n",
    "$E_{ff_B}\\sigma_{B}=2776.06870fb=2.77606870pb$"
   ]
  },
  {
   "cell_type": "code",
   "execution_count": 4,
   "metadata": {},
   "outputs": [],
   "source": [
    "//XC pb y lumi fb-1\n",
    "Double_t Lumi(Double_t Z,Double_t XCSignal,Double_t EffSignal,std::vector<Double_t> XCBG,std::vector<Double_t> EffBG){\n",
    "  \n",
    "    if(XCBG.size() != EffBG.size()){\n",
    "        std::cout<<  \"ERROR: XCBG and EffBG should be same size\" << std::endl;\n",
    "        return 0;\n",
    "    }\n",
    "    Double_t TotalBG = 0;\n",
    "    for (Int_t i=0;i<XCBG.size();i++){\n",
    "        TotalBG += XCBG[i]*EffBG[i]*1000;//pb to fb\n",
    "        //std::cout<< \"XC: \" <<XCBG[i] <<\" , Eff: \"<< EffBG[i]<< std::endl;\n",
    "    }\n",
    "    Double_t Numerator = ((EffSignal*XCSignal*1000)+TotalBG)*Z*Z;\n",
    "    Double_t Denominator = (EffSignal*XCSignal*1000)*(EffSignal*XCSignal*1000);\n",
    "    \n",
    "    Double_t Lum = Numerator/Denominator;\n",
    "    return Lum;\n",
    "}"
   ]
  },
  {
   "cell_type": "code",
   "execution_count": 5,
   "metadata": {},
   "outputs": [],
   "source": [
    "//Xs fb\n",
    "Double_t Xs[]= {751.3, 633.5, 540.3, 460.3, 398.0, 343.3, 300.1, 262.3, 231.9, 203.9, 181.0, 161.1, 144.1, 128.9, 115.6, 103.8, 93.82, 84.97, 77.13};\n",
    "Double_t MF[]= {100  , 105  , 110  , 115  , 120  , 125  , 130  , 135  , 140  , 145  , 150  , 155  , 160  , 165, 170, 175, 180, 185, 190};\n",
    "// You can choose among the following methods:\n",
    "// kLINEAR, kPOLYNOMIAL, kCSPLINE, kCSPLINE_PERIODIC, kAKIMA, kAKIMA_PERIODIC \n",
    "const Int_t ni = 19;//size of the arrays\n",
    "ROOT::Math::Interpolator XS(ni, ROOT::Math::Interpolation::kLINEAR);\n",
    "XS.SetData(ni, MF, Xs);"
   ]
  },
  {
   "cell_type": "code",
   "execution_count": 6,
   "metadata": {},
   "outputs": [],
   "source": [
    "std::vector<Double_t> _XCBG;\n",
    "std::vector<Double_t> _EffBG;\n",
    "_XCBG.push_back(2.776068702);//In pb 2.776068702\n",
    "_EffBG.push_back(1);"
   ]
  },
  {
   "cell_type": "code",
   "execution_count": 7,
   "metadata": {},
   "outputs": [],
   "source": [
    "// Creating an object of CSVWriter\n",
    "CSVReader reader(\"EffVLF_BRmu25_BRtau75_inter.csv\");"
   ]
  },
  {
   "cell_type": "code",
   "execution_count": 8,
   "metadata": {},
   "outputs": [],
   "source": [
    "// Get the data from CSV File\n",
    "std::vector<std::vector<std::string> > dataList = reader.getData();"
   ]
  },
  {
   "cell_type": "code",
   "execution_count": 9,
   "metadata": {},
   "outputs": [],
   "source": [
    "TCanvas *c1 = new TCanvas(\"c1\",\"ContornPlot\",200,10,700,500);"
   ]
  },
  {
   "cell_type": "code",
   "execution_count": 10,
   "metadata": {},
   "outputs": [],
   "source": [
    "Double_t MinY = 2;\n",
    "Double_t MinX = 100;\n",
    "Double_t MaxY = 21;\n",
    "Double_t MaxX = 170;"
   ]
  },
  {
   "cell_type": "code",
   "execution_count": 11,
   "metadata": {},
   "outputs": [],
   "source": [
    "gStyle->SetOptStat(0);\n",
    "//TH2D *h1 = new TH2D(\"h1\",\"h1\",19,MinX,MaxX,14,MinY,MaxY);\n",
    "TH2D *h1 = new TH2D(\"h1\",\"h1\",14,MinX,MaxX,19,MinY,MaxY);\n",
    "std::vector<Double_t> FistRow;\n",
    "std::vector<Double_t> FistCol;\n",
    "int count1 = 0;"
   ]
  },
  {
   "cell_type": "code",
   "execution_count": 12,
   "metadata": {},
   "outputs": [],
   "source": [
    "auto Frame = c1->DrawFrame(MinX,MinY,MaxX,MaxY);\n",
    "c1->SetRightMargin(0.15);\n",
    "//gStyle->SetPalette(55);\n",
    "//gStyle->SetPalette(87);\n",
    "gStyle->SetPalette(1);\n",
    "gStyle->SetNumberContours(35)"
   ]
  },
  {
   "cell_type": "code",
   "execution_count": 13,
   "metadata": {},
   "outputs": [],
   "source": [
    "Frame->GetXaxis()->SetTitle(\"m_{F} [GeV]\");\n",
    "Frame->GetYaxis()->SetTitle(\"#Deltam(F,#chi) [GeV]\");\n",
    "Frame->GetYaxis()->CenterTitle(\"True\");\n",
    "Frame->GetYaxis()->SetTitleFont(42);\n",
    "Frame->GetXaxis()->SetTitleFont(42);\n",
    "Frame->GetYaxis()->SetTitleSize(0.04);\n",
    "Frame->GetXaxis()->SetTitleSize(0.04);"
   ]
  },
  {
   "cell_type": "code",
   "execution_count": 14,
   "metadata": {},
   "outputs": [],
   "source": [
    "//TLatex *   tex = new TLatex(0.85,0.91,\"BR(F#rightarrow #mu,#tau)= 25%,75%; 3#sigma (13 TeV, 0 PU)\");\n",
    "TLatex *   tex = new TLatex(0.85,0.91,\"BR(F #rightarrow #mu)= 25%, BR(F #rightarrow #tau)= 75%; 3#sigma, 13 TeV\");\n",
    "tex->SetNDC();\n",
    "tex->SetTextAlign(31);\n",
    "tex->SetTextFont(42);\n",
    "tex->SetTextSize(0.04);\n",
    "tex->SetLineWidth(2);\n",
    "tex->Draw(\"Same\");"
   ]
  },
  {
   "cell_type": "code",
   "execution_count": 15,
   "metadata": {},
   "outputs": [],
   "source": [
    "TLatex *   tex1 = new TLatex(0.97,0.7,\"Luminosity [10^{3} fb^{-1}]\");\n",
    "tex1->SetNDC();\n",
    "tex1->SetTextAlign(31);\n",
    "tex1->SetTextFont(42);\n",
    "tex1->SetTextSize(0.04);\n",
    "tex1->SetLineWidth(2);\n",
    "tex1->SetTextAngle(90);\n",
    "//tex1->Draw(\"Same\");"
   ]
  },
  {
   "cell_type": "code",
   "execution_count": 16,
   "metadata": {},
   "outputs": [],
   "source": [
    "//gStyle->SetPaintTextFormat(\"4.1f m\");\n",
    "gStyle->SetPaintTextFormat(\"1.2f\");"
   ]
  },
  {
   "cell_type": "code",
   "execution_count": 17,
   "metadata": {},
   "outputs": [],
   "source": [
    "//Bool_t debug = kFALSE;  \n",
    "Bool_t debug = kTRUE;  "
   ]
  },
  {
   "cell_type": "code",
   "execution_count": 18,
   "metadata": {},
   "outputs": [
    {
     "name": "stdout",
     "output_type": "stream",
     "text": [
      "\n",
      "\n",
      "XS: 0.6335 (20,105,0.00379685) , XS: 0.5403 (20,110,0.00447043) , XS: 0.4603 (20,115,0.00403681) , XS: 0.398 (20,120,0.00425467) , XS: 0.3433 (20,125,0.00434561) , XS: 0.3001 (20,130,0.00533655) , XS: 0.2623 (20,135,0.00505628) , XS: 0.2319 (20,140,0.0055302) , XS: 0.2039 (20,145,0.0049309) , XS: 0.181 (20,150,0.00550153) , XS: 0.1611 (20,155,0.00530308) , XS: 0.1441 (20,160,0.00614862) , XS: 0.1289 (20,165,0.00588782) , \n",
      "\n",
      "XS: 0.7513 (19,100,0.00357097) , XS: 0.6335 (19,105,0.0038263) , XS: 0.5403 (19,110,0.00478445) , XS: 0.4603 (19,115,0.00422278) , XS: 0.398 (19,120,0.00535675) , XS: 0.3433 (19,125,0.00483937) , XS: 0.3001 (19,130,0.0048736) , XS: 0.2623 (19,135,0.00518944) , XS: 0.2319 (19,140,0.00584294) , XS: 0.2039 (19,145,0.0053508) , XS: 0.181 (19,150,0.00594941) , XS: 0.1611 (19,155,0.0057148) , XS: 0.1441 (19,160,0.00546418) , XS: 0.1289 (19,165,0.00687605) , \n",
      "\n",
      "XS: 0.7513 (18,100,0.00393839) , XS: 0.6335 (18,105,0.0042203) , XS: 0.5403 (18,110,0.0041489) , XS: 0.4603 (18,115,0.00479453) , XS: 0.398 (18,120,0.00508606) , XS: 0.3433 (18,125,0.00476754) , XS: 0.3001 (18,130,0.00496414) , XS: 0.2623 (18,135,0.00495554) , XS: 0.2319 (18,140,0.00545464) , XS: 0.2039 (18,145,0.00621765) , XS: 0.181 (18,150,0.00555744) , XS: 0.1611 (18,155,0.00600552) , XS: 0.1441 (18,160,0.00580355) , XS: 0.1289 (18,165,0.00657126) , \n",
      "\n",
      "XS: 0.7513 (17,100,0.00398074) , XS: 0.6335 (17,105,0.00430887) , XS: 0.5403 (17,110,0.00491429) , XS: 0.4603 (17,115,0.00482859) , XS: 0.398 (17,120,0.00450291) , XS: 0.3433 (17,125,0.00546624) , XS: 0.3001 (17,130,0.00580447) , XS: 0.2623 (17,135,0.00593503) , XS: 0.2319 (17,140,0.00564229) , XS: 0.2039 (17,145,0.00600988) , XS: 0.181 (17,150,0.00644254) , XS: 0.1611 (17,155,0.00654392) , XS: 0.1441 (17,160,0.00644892) , XS: 0.1289 (17,165,0.00732607) , \n",
      "\n",
      "XS: 0.7513 (16,100,0.0044245) , XS: 0.6335 (16,105,0.00462535) , XS: 0.5403 (16,110,0.00438842) , XS: 0.4603 (16,115,0.00529854) , XS: 0.398 (16,120,0.00584087) , XS: 0.3433 (16,125,0.00573981) , XS: 0.3001 (16,130,0.00538143) , XS: 0.2623 (16,135,0.00641757) , XS: 0.2319 (16,140,0.00590191) , XS: 0.2039 (16,145,0.00645548) , XS: 0.181 (16,150,0.00640707) , XS: 0.1611 (16,155,0.00720853) , XS: 0.1441 (16,160,0.00743441) , XS: 0.1289 (16,165,0.00666934) , \n",
      "\n",
      "XS: 0.7513 (15,100,0.00464238) , XS: 0.6335 (15,105,0.00490204) , XS: 0.5403 (15,110,0.00565941) , XS: 0.4603 (15,115,0.00613701) , XS: 0.398 (15,120,0.00609089) , XS: 0.3433 (15,125,0.0060987) , XS: 0.3001 (15,130,0.006185) , XS: 0.2623 (15,135,0.00625778) , XS: 0.2319 (15,140,0.00707041) , XS: 0.2039 (15,145,0.0075854) , XS: 0.181 (15,150,0.00674029) , XS: 0.1611 (15,155,0.00738608) , XS: 0.1441 (15,160,0.00760947) , XS: 0.1289 (15,165,0.00744113) , \n",
      "\n",
      "XS: 0.7513 (14,100,0.00481448) , XS: 0.6335 (14,105,0.00588694) , XS: 0.5403 (14,110,0.00588313) , XS: 0.4603 (14,115,0.00562883) , XS: 0.398 (14,120,0.00563603) , XS: 0.3433 (14,125,0.00598376) , XS: 0.3001 (14,130,0.00686825) , XS: 0.2623 (14,135,0.0070176) , XS: 0.2319 (14,140,0.00724297) , XS: 0.2039 (14,145,0.00760784) , XS: 0.181 (14,150,0.0077929) , XS: 0.1611 (14,155,0.00713211) , XS: 0.1441 (14,160,0.00812492) , XS: 0.1289 (14,165,0.00853438) , \n",
      "\n",
      "XS: 0.7513 (13,100,0.005019) , XS: 0.6335 (13,105,0.00601215) , XS: 0.5403 (13,110,0.00667686) , XS: 0.4603 (13,115,0.00618022) , XS: 0.398 (13,120,0.00665891) , XS: 0.3433 (13,125,0.00697421) , XS: 0.3001 (13,130,0.00736412) , XS: 0.2623 (13,135,0.00796696) , XS: 0.2319 (13,140,0.00808278) , XS: 0.2039 (13,145,0.00795131) , XS: 0.181 (13,150,0.00771777) , XS: 0.1611 (13,155,0.00859999) , XS: 0.1441 (13,160,0.00845834) , XS: 0.1289 (13,165,0.00921213) , \n",
      "\n",
      "XS: 0.7513 (12,100,0.00639049) , XS: 0.6335 (12,105,0.00624137) , XS: 0.5403 (12,110,0.00664348) , XS: 0.4603 (12,115,0.00690243) , XS: 0.398 (12,120,0.0074647) , XS: 0.3433 (12,125,0.00761762) , XS: 0.3001 (12,130,0.00804074) , XS: 0.2623 (12,135,0.00840598) , XS: 0.2319 (12,140,0.0083547) , XS: 0.2039 (12,145,0.00858362) , XS: 0.181 (12,150,0.00907847) , XS: 0.1611 (12,155,0.00873714) , XS: 0.1441 (12,160,0.00939772) , XS: 0.1289 (12,165,0.00984853) , \n",
      "\n",
      "XS: 0.7513 (11,100,0.00613487) , XS: 0.6335 (11,105,0.0063451) , XS: 0.5403 (11,110,0.00717778) , XS: 0.4603 (11,115,0.00699987) , XS: 0.398 (11,120,0.00771403) , XS: 0.3433 (11,125,0.00837133) , XS: 0.3001 (11,130,0.00927084) , XS: 0.2623 (11,135,0.00854287) , XS: 0.2319 (11,140,0.00923497) , XS: 0.2039 (11,145,0.00931578) , XS: 0.181 (11,150,0.00926058) , XS: 0.1611 (11,155,0.00942448) , XS: 0.1441 (11,160,0.0099621) , XS: 0.1289 (11,165,0.0109469) , \n",
      "\n",
      "XS: 0.7513 (10,100,0.00673137) , XS: 0.6335 (10,105,0.00693013) , XS: 0.5403 (10,110,0.00806915) , XS: 0.4603 (10,115,0.00820612) , XS: 0.398 (10,120,0.00841214) , XS: 0.3433 (10,125,0.00883242) , XS: 0.3001 (10,130,0.00853234) , XS: 0.2623 (10,135,0.00924362) , XS: 0.2319 (10,140,0.00902442) , XS: 0.2039 (10,145,0.0104064) , XS: 0.181 (10,150,0.00929464) , XS: 0.1611 (10,155,0.0102992) , XS: 0.1441 (10,160,0.0106878) , XS: 0.1289 (10,165,0.0113291) , \n",
      "\n",
      "XS: 0.7513 (9,100,0.00708753) , XS: 0.6335 (9,105,0.00798998) , XS: 0.5403 (9,110,0.0085577) , XS: 0.4603 (9,115,0.00839454) , XS: 0.398 (9,120,0.00890013) , XS: 0.3433 (9,125,0.00971769) , XS: 0.3001 (9,130,0.00910152) , XS: 0.2623 (9,135,0.00922922) , XS: 0.2319 (9,140,0.00992743) , XS: 0.2039 (9,145,0.0103885) , XS: 0.181 (9,150,0.0106234) , XS: 0.1611 (9,155,0.0105312) , XS: 0.1441 (9,160,0.0111938) , XS: 0.1289 (9,165,0.0119076) , \n",
      "\n",
      "XS: 0.7513 (8,100,0.00792413) , XS: 0.6335 (8,105,0.00833712) , XS: 0.5403 (8,110,0.00846746) , XS: 0.4603 (8,115,0.0095976) , XS: 0.398 (8,120,0.00993956) , XS: 0.3433 (8,125,0.00976543) , XS: 0.3001 (8,130,0.0108888) , XS: 0.2623 (8,135,0.011072) , XS: 0.2319 (8,140,0.0109248) , XS: 0.2039 (8,145,0.011256) , XS: 0.181 (8,150,0.0116511) , XS: 0.1611 (8,155,0.0114693) , XS: 0.1441 (8,160,0.012101) , XS: 0.1289 (8,165,0.011895) , \n",
      "\n",
      "XS: 0.7513 (7,100,0.00836882) , XS: 0.6335 (7,105,0.00902865) , XS: 0.5403 (7,110,0.00975393) , XS: 0.4603 (7,115,0.00989323) , XS: 0.398 (7,120,0.0104707) , XS: 0.3433 (7,125,0.011234) , XS: 0.3001 (7,130,0.0111524) , XS: 0.2623 (7,135,0.0108322) , XS: 0.2319 (7,140,0.0125583) , XS: 0.2039 (7,145,0.0130183) , XS: 0.181 (7,150,0.011335) , XS: 0.1611 (7,155,0.0130197) , XS: 0.1441 (7,160,0.0122745) , XS: 0.1289 (7,165,0.0139746) , \n",
      "\n",
      "XS: 0.7513 (6,100,0.00841358) , XS: 0.6335 (6,105,0.00980074) , XS: 0.5403 (6,110,0.00978742) , XS: 0.4603 (6,115,0.0112026) , XS: 0.398 (6,120,0.0110904) , XS: 0.3433 (6,125,0.0112679) , XS: 0.3001 (6,130,0.0111096) , XS: 0.2623 (6,135,0.0115571) , XS: 0.2319 (6,140,0.0123489) , XS: 0.2039 (6,145,0.0120197) , XS: 0.181 (6,150,0.0135344) , XS: 0.1611 (6,155,0.0122282) , XS: 0.1441 (6,160,0.0137337) , XS: 0.1289 (6,165,0.0135799) , \n",
      "\n",
      "XS: 0.7513 (5,100,0.00920075) , XS: 0.6335 (5,105,0.00964667) , XS: 0.5403 (5,110,0.00979491) , XS: 0.4603 (5,115,0.0100333) , XS: 0.398 (5,120,0.0108683) , XS: 0.3433 (5,125,0.0105592) , XS: 0.3001 (5,130,0.011878) , XS: 0.2623 (5,135,0.0119678) , XS: 0.2319 (5,140,0.0128434) , XS: 0.2039 (5,145,0.0120463) , XS: 0.181 (5,150,0.0127489) , XS: 0.1611 (5,155,0.013184) , XS: 0.1441 (5,160,0.0130463) , XS: 0.1289 (5,165,0.0137024) , \n",
      "\n",
      "XS: 0.7513 (4,100,0.00923018) , XS: 0.6335 (4,105,0.00991663) , XS: 0.5403 (4,110,0.00857783) , XS: 0.4603 (4,115,0.0112522) , XS: 0.398 (4,120,0.0110469) , XS: 0.3433 (4,125,0.0104633) , XS: 0.3001 (4,130,0.0113627) , XS: 0.2623 (4,135,0.0111922) , XS: 0.2319 (4,140,0.0121864) , XS: 0.2039 (4,145,0.0120945) , XS: 0.181 (4,150,0.0122506) , XS: 0.1611 (4,155,0.0131032) , XS: 0.1441 (4,160,0.0129624) , XS: 0.1289 (4,165,0.0135999) , \n",
      "\n",
      "XS: 0.7513 (3,100,0.00809755) , XS: 0.6335 (3,105,0.00787261) , XS: 0.5403 (3,110,0.00842798) , XS: 0.4603 (3,115,0.00940914) , XS: 0.398 (3,120,0.00948932) , XS: 0.3433 (3,125,0.00932187) , XS: 0.3001 (3,130,0.0104299) , XS: 0.2623 (3,135,0.010348) , XS: 0.2319 (3,140,0.0105223) , XS: 0.2039 (3,145,0.0108598) , XS: 0.181 (3,150,0.0119665) , XS: 0.1611 (3,155,0.0106404) , XS: 0.1441 (3,160,0.0113447) , XS: 0.1289 (3,165,0.0114922) , \n",
      "\n",
      "XS: 0.7513 (2,100,0.00557889) , XS: 0.6335 (2,105,0.00619687) , XS: 0.5403 (2,110,0.0061773) , XS: 0.4603 (2,115,0.00650314) , XS: 0.398 (2,120,0.00914119) , XS: 0.3433 (2,125,0.00582435) , XS: 0.3001 (2,130,0.00681732) , XS: 0.2623 (2,135,0.006519) , XS: 0.2319 (2,140,0.00655496) , XS: 0.2039 (2,145,0.00765347) , XS: 0.181 (2,150,0.00690121) , XS: 0.1611 (2,155,0.00738864) , XS: 0.1441 (2,160,0.0074177) , XS: 0.1289 (2,165,0.0113634) , \n",
      "\n"
     ]
    }
   ],
   "source": [
    "// Print the content of row by row on screen\n",
    "count1 = 0; \n",
    "for(std::vector<std::string> vec : dataList){\n",
    "    int count2 = 0;\n",
    "    for(std::string Data : vec){\n",
    "        Double_t data = atof(Data.c_str());\n",
    "        if (count1 == 0){\n",
    "            FistRow.push_back(data);\n",
    "        }else{\n",
    "            if (count2 == 0){\n",
    "                FistCol.push_back(data);\n",
    "            }else{\n",
    "                if(data != 0){//To be sure dont use the 0s\n",
    "                    // Z/31.63 Para que Lumi=lumi/1000\n",
    "                    /*\n",
    "                    3sigma = 0.0948466646\n",
    "                    5sigma = 0.1580777743                \n",
    "                    */\n",
    "                    Double_t Lum = Lumi(0.0948466646,XS.Eval((Double_t)FistRow[count2])*0.001,data,_XCBG,_EffBG);\n",
    "                    //h1->Fill(FistCol.back(),FistRow[count2],Lum);\n",
    "                    h1->Fill(FistRow[count2],FistCol.back(),Lum);\n",
    "                    if(debug){\n",
    "                        std::cout<<\"XS: \"<<XS.Eval(FistRow[count2])*0.001,4;\n",
    "                        std::cout<<\" (\" << FistCol.back() << \",\"; \n",
    "                        std::cout<<FistRow[count2] << \",\";\n",
    "                        std::cout<<data << \") , \";\n",
    "                    }\n",
    "                    }else{\n",
    "                        //Deberia extrapolar entre los que o tengo\n",
    "                    }\n",
    "                }\n",
    "            \n",
    "        }\n",
    "        count2++;\n",
    "    }\n",
    "    count1++;\n",
    "    if(debug){\n",
    "        std::cout<<std::endl;\n",
    "        std::cout<<std::endl;\n",
    "    }\n",
    "} "
   ]
  },
  {
   "cell_type": "code",
   "execution_count": 19,
   "metadata": {},
   "outputs": [],
   "source": [
    "h1->DrawCopy(\"colz same\");\n",
    "h1->DrawCopy(\"TEXT same\");\n",
    "//h1->DrawCopy(\"TEXTE0 same\");\n",
    "tex1->Draw(\"Same\");\n",
    "\n",
    "Double_t contours[2];\n",
    "contours[0] = 1.0;\n",
    "contours[1] = 3.0;\n",
    "//contours[2] = 3.0;\n",
    "//contours[3] = 4.0;\n",
    "//contours[4] = 5.0;\n",
    "//contours[5] = 6.0;\n",
    "\n",
    "h1->SetContour(2, contours);\n",
    "\n",
    "// Draw contours as filled regions, and Save points\n",
    "//h1->Draw(\"CONT Z LIST\");\n",
    "h1->Draw(\"CONT1 SAME\");\n",
    "c1->Update(); // Needed to force the plotting and retrieve the contours in TGraphs"
   ]
  },
  {
   "cell_type": "code",
   "execution_count": 20,
   "metadata": {
    "scrolled": false
   },
   "outputs": [
    {
     "data": {
      "image/png": "[encoded data removed]",
      "text/plain": [
       "<IPython.core.display.Image object>"
      ]
     },
     "metadata": {},
     "output_type": "display_data"
    }
   ],
   "source": [
    "c1->Draw()"
   ]
  },
  {
   "cell_type": "code",
   "execution_count": 21,
   "metadata": {},
   "outputs": [],
   "source": [
    "string Name    = \"\";\n",
    "string NameC   = \"\";\n",
    "string NamePDF = \"\";"
   ]
  },
  {
   "cell_type": "code",
   "execution_count": 22,
   "metadata": {},
   "outputs": [],
   "source": [
    "Name = \"LumiToExclusionSigma3_BRmu25tau75\";\n",
    "NameC = Name +\".C\";\n",
    "NamePDF = Name +\".pdf\";\n",
    "//c1->SaveSource(NameC.c_str());\n",
    "//c1->SaveAs(NamePDF.c_str(),\"pdf\");"
   ]
  },
  {
   "cell_type": "code",
   "execution_count": 23,
   "metadata": {},
   "outputs": [
    {
     "name": "stdout",
     "output_type": "stream",
     "text": [
      "/home/camilo/cms/AnalysisCode/ContourPlot\n"
     ]
    }
   ],
   "source": [
    ".! pwd"
   ]
  }
 ],
 "metadata": {
  "kernelspec": {
   "display_name": "ROOT C++",
   "language": "c++",
   "name": "root"
  },
  "language_info": {
   "codemirror_mode": "text/x-c++src",
   "file_extension": ".C",
   "mimetype": " text/x-c++src",
   "name": "c++"
  }
 },
 "nbformat": 4,
 "nbformat_minor": 2
}
