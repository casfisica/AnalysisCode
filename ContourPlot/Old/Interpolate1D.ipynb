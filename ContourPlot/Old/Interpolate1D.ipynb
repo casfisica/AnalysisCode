{
 "cells": [
  {
   "cell_type": "code",
   "execution_count": 1,
   "metadata": {},
   "outputs": [],
   "source": [
    "#include \"Math/Polynomial.h\"\n",
    "#include \"Math/Interpolator.h\"\n",
    " \n",
    "#include <iostream>\n",
    "#include \"TCanvas.h\"\n",
    "#include \"TGraph.h\""
   ]
  },
  {
   "cell_type": "code",
   "execution_count": 2,
   "metadata": {},
   "outputs": [],
   "source": [
    "new TCanvas(\"c1\", \"Two Graphs\", 600, 400); "
   ]
  },
  {
   "cell_type": "code",
   "execution_count": null,
   "metadata": {},
   "outputs": [],
   "source": []
  },
  {
   "cell_type": "code",
   "execution_count": 3,
   "metadata": {},
   "outputs": [],
   "source": [
    "void interpolation()\n",
    "{\n",
    "   using namespace std;\n",
    " \n",
    "   Float_t xmin = -3, xmax = 2.5;\n",
    " \n",
    "   const Int_t nb = 100;\n",
    "   Double_t x[nb], y[nb], iy[nb];\n",
    " \n",
    "   const Int_t ni = 10;\n",
    "   Double_t xi[ni], yi[ni];\n",
    " \n",
    "   ROOT::Math::Polynomial polyf(4);\n",
    " \n",
    "   double p[4];\n",
    "   p[0] = 1;\n",
    "   p[1] = -1.5;\n",
    "   p[2] = 1;\n",
    "   p[3] = 1;\n",
    "   polyf.SetParameters(p);\n",
    "   ROOT::Math::IBaseFunctionOneDim & f1 = polyf;\n",
    " \n",
    "   // You can choose among the following methods:\n",
    "   // CSPLINE, LINEAR, POLYNOMIAL,\n",
    "   // CSPLINE_PERIODIC, AKIMA, AKIMA_PERIODIC\n",
    "   ROOT::Math::Interpolator inter(ni, ROOT::Math::Interpolation::kPOLYNOMIAL);\n",
    "   for ( Int_t i = 0; i < ni; ++i )\n",
    "   {   \n",
    "      xi[i] = (Double_t) i*(xmax-xmin)/(ni-1) + xmin;\n",
    "      yi[i] = f1(xi[i]);\n",
    "   }\n",
    "   inter.SetData(ni, xi, yi);\n",
    " \n",
    "   for ( Int_t i = 0; i < nb; ++i )\n",
    "   {\n",
    "      x[i]  = (Double_t) i*(xmax-xmin)/(nb-1) + xmin;\n",
    "      y[i]  = f1(x[i]);\n",
    "      iy[i] = inter.Eval(x[i]);\n",
    "   }\n",
    " \n",
    "    \n",
    " \n",
    "   TGraph* gf = new TGraph(ni, xi, yi);\n",
    "   gf->SetLineColor(14);\n",
    "   gf->SetLineWidth(3);\n",
    "   gf->SetTitle(\"Function: sin(x)\");\n",
    "   gf->SetMarkerStyle(22);\n",
    "   gf->Draw(\"AP\");\n",
    " \n",
    "   TGraph* gi = new TGraph(nb, x, iy);\n",
    "   gi->SetLineColor(28);\n",
    "   gi->SetLineWidth(1);\n",
    "   gi->SetTitle(\"Integral\");\n",
    "   gi->Draw(\"SAME L\"); \n",
    " \n",
    "   cout << \"done!\" << endl;\n",
    " \n",
    "   // Don't forget to delete all the objects once it's finished!\n",
    "}"
   ]
  },
  {
   "cell_type": "code",
   "execution_count": 4,
   "metadata": {},
   "outputs": [
    {
     "name": "stdout",
     "output_type": "stream",
     "text": [
      "done!\n"
     ]
    }
   ],
   "source": [
    "interpolation()"
   ]
  },
  {
   "cell_type": "code",
   "execution_count": 5,
   "metadata": {},
   "outputs": [
    {
     "data": {
      "image/png": "[encoded data removed]",
      "text/plain": [
       "<IPython.core.display.Image object>"
      ]
     },
     "metadata": {},
     "output_type": "display_data"
    }
   ],
   "source": [
    "c1->Draw()"
   ]
  },
  {
   "cell_type": "code",
   "execution_count": 6,
   "metadata": {},
   "outputs": [],
   "source": [
    "\n",
    "   ROOT::Math::Polynomial polyf(4);\n",
    " \n",
    "   double p[4];\n",
    "   p[0] = 1;\n",
    "   p[1] = -1.5;\n",
    "   p[2] = 1;\n",
    "   p[3] = 1;\n",
    "   polyf.SetParameters(p);\n",
    "   ROOT::Math::IBaseFunctionOneDim & f1 = polyf;\n",
    " \n",
    "   // You can choose among the following methods:\n",
    "   // CSPLINE, LINEAR, POLYNOMIAL,\n",
    "   // CSPLINE_PERIODIC, AKIMA, AKIMA_PERIODIC\n",
    "   //ROOT::Math::Interpolator inter(ni, ROOT::Math::Interpolation::kPOLYNOMIAL);"
   ]
  },
  {
   "cell_type": "code",
   "execution_count": 7,
   "metadata": {},
   "outputs": [
    {
     "name": "stdout",
     "output_type": "stream",
     "text": [
      "(double) 1.5000000\n"
     ]
    }
   ],
   "source": [
    "f1(1)"
   ]
  },
  {
   "cell_type": "code",
   "execution_count": null,
   "metadata": {},
   "outputs": [],
   "source": []
  }
 ],
 "metadata": {
  "kernelspec": {
   "display_name": "ROOT C++",
   "language": "c++",
   "name": "root"
  },
  "language_info": {
   "codemirror_mode": "text/x-c++src",
   "file_extension": ".C",
   "mimetype": " text/x-c++src",
   "name": "c++"
  }
 },
 "nbformat": 4,
 "nbformat_minor": 2
}
