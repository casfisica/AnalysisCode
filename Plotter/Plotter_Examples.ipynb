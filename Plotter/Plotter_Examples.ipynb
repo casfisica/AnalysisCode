{
 "cells": [
  {
   "cell_type": "code",
   "execution_count": null,
   "metadata": {
    "collapsed": true
   },
   "outputs": [],
   "source": [
    "#include \"TFile.h\"\n",
    "#include \"TTree.h\"\n",
    "#include \"TBrowser.h\"\n",
    "#include \"TH1.h\"\n",
    "#include \"TRandom.h\"\n",
    "#include \"TCanvas.h\"\n",
    "#include \"TMath.h\"\n",
    "#include \"TROOT.h\"\n",
    "#include <string>\n",
    "#include <iostream>\n",
    "#include \"TTreeReader.h\"\n",
    "#include <tuple>\n",
    "#include <vector>\n",
    "#include <utility>      // std::pair, std::make_pair\n",
    "//#include \"../test/Event.h\""
   ]
  },
  {
   "cell_type": "code",
   "execution_count": null,
   "metadata": {
    "collapsed": true
   },
   "outputs": [],
   "source": [
    "//TDRStyle\n",
    "gSystem->Load(\"style-CMSTDR.C\");"
   ]
  },
  {
   "cell_type": "code",
   "execution_count": null,
   "metadata": {
    "collapsed": true
   },
   "outputs": [],
   "source": [
    "int CreateRandomTree(std::string name){\n",
    "    /*\n",
    "    Create trees for tries   \n",
    "    */\n",
    "    gROOT->Reset();\n",
    "    /*\n",
    "    Create Ttrees for tries \n",
    "    */\n",
    "    std::string Name = name+\".root\";\n",
    "    //convierto en cadena de caracteres constante (es lo que recibe la función)\n",
    "    const char * constName = Name.c_str();\n",
    "    //const char * constname = name.c_str();\n",
    "    TFile hfile(constName,\"RECREATE\");\n",
    "    //The Ttrees must to have the same name \"tree\" in this case, \"Delphes\"\n",
    "    TTree *T = new TTree(\"tree\",\"test Ttree\");\n",
    "    Double_t px,py,pz;\n",
    "    UShort_t i;\n",
    "    T->Branch(\"px\",&px,\"px/D\");\n",
    "    T->Branch(\"py\",&py,\"py/D\");\n",
    "    T->Branch(\"pz\",&pz,\"pz/D\");\n",
    "    T->Branch(\"i\",&i,\"i/s\");\n",
    "    for (i = 0; i < 65000; i++) {\n",
    "        px = (Double_t) gRandom->Binomial(500,0.05);\n",
    "        pz = (Double_t) gRandom->Landau(-10,100);\n",
    "        py = (Double_t) gRandom->Gaus(0,1000);\n",
    "        T->Fill();\n",
    "    }\n",
    "\n",
    "    //T->Print();\n",
    "    hfile.Write();\n",
    "    hfile.Close();\n",
    "   return 0;\n",
    "}"
   ]
  },
  {
   "cell_type": "code",
   "execution_count": null,
   "metadata": {
    "collapsed": true
   },
   "outputs": [],
   "source": [
    "void* TypeAllocate(std::string str){\n",
    "    /*\n",
    "    C : a character string terminated by the 0 character\n",
    "    B : an 8 bit signed integer (Char_t)\n",
    "    b : an 8 bit unsigned integer (UChar_t)\n",
    "    S : a 16 bit signed integer (Short_t)\n",
    "    s : a 16 bit unsigned integer (UShort_t)\n",
    "    I : a 32 bit signed integer (Int_t)\n",
    "    i : a 32 bit unsigned integer (UInt_t)\n",
    "    F : a 32 bit floating point (Float_t)\n",
    "    D : a 64 bit floating point (Double_t)\n",
    "    L : a 64 bit signed integer (Long64_t)\n",
    "    l : a 64 bit unsigned integer (ULong64_t)\n",
    "    O : [the letter o, not a zero] a boolean (Bool_t)\n",
    "    */ \n",
    "    if (str==\"C\") {\n",
    "        char *ptr=new char;\n",
    "        return (void*)ptr;\n",
    "    }\n",
    "    if (str==\"B\"){\n",
    "        Char_t *ptr=new Char_t;\n",
    "        return (void*)ptr;\n",
    "    }\n",
    "    if (str==\"b\"){\n",
    "        UChar_t *ptr=new UChar_t;\n",
    "        return (void*)ptr;\n",
    "    }\n",
    "    if (str==\"S\"){\n",
    "        Short_t *ptr=new Short_t;\n",
    "        return (void*)ptr;\n",
    "    }\n",
    "    if (str==\"s\"){\n",
    "        UShort_t *ptr=new UShort_t;\n",
    "        return (void*)ptr;\n",
    "    }\n",
    "    if (str==\"I\"){\n",
    "        Int_t *ptr=new Int_t;\n",
    "        return (void*)ptr;\n",
    "    }\n",
    "    if (str==\"i\"){\n",
    "        UInt_t *ptr=new UInt_t;\n",
    "        return (void*)ptr;\n",
    "    }\n",
    "    if (str==\"F\"){\n",
    "        Float_t *ptr=new Float_t;\n",
    "        return (void*)ptr;\n",
    "    }\n",
    "    if (str==\"D\"){\n",
    "        Double_t *ptr=new Double_t;\n",
    "        return (void*)ptr;\n",
    "    }\n",
    "    if (str==\"L\"){\n",
    "        Long64_t *ptr=new Long64_t;\n",
    "        return (void*)ptr;\n",
    "    }\n",
    "    if (str==\"l\"){\n",
    "        ULong64_t *ptr=new ULong64_t;\n",
    "        return (void*)ptr;\n",
    "    }\n",
    "    if (str==\"O\"){\n",
    "        Bool_t *ptr=new Bool_t;\n",
    "        return (void*)ptr;\n",
    "    }\n",
    "    return NULL;\n",
    "}\n"
   ]
  },
  {
   "cell_type": "code",
   "execution_count": null,
   "metadata": {
    "collapsed": true
   },
   "outputs": [],
   "source": [
    "//CreateRandomTree(\"tree1\");\n",
    "//CreateRandomTree(\"tree2\");\n",
    "//CreateRandomTree(\"tree3\");\n",
    "//CreateRandomTree(\"tree4\");"
   ]
  },
  {
   "cell_type": "code",
   "execution_count": null,
   "metadata": {
    "collapsed": true
   },
   "outputs": [],
   "source": [
    "TChain * chain1 = new TChain(\"tree\",\"1\");\n",
    "TChain * chain2 = new TChain(\"tree\",\"2\");\n",
    "chain1->Add(\"tree1.root\");\n",
    "chain1->Add(\"tree2.root\");\n",
    "chain2->Add(\"tree3.root\");\n",
    "chain2->Add(\"tree4.root\");"
   ]
  },
  {
   "cell_type": "code",
   "execution_count": null,
   "metadata": {
    "collapsed": true
   },
   "outputs": [],
   "source": [
    "std::map<std::string,TH1D *> Plotter(TChain * chain1, Bool_t Debug=0, std::vector<std::string> Branches={},Double_t Max=100.0, Double_t Min=0.0, Int_t NBines=100)\n",
    "{\n",
    "    std::map<std::string,TChain*> ChainMap;\n",
    "    std::map<std::string,void*> ptrMap;\n",
    "    std::map<std::string,TH1D *> HistoMap;\n",
    "    std::vector<std::pair <std::string,std::string>> NamesArray;\n",
    "    \n",
    "    auto Array=chain1->GetListOfBranches();\n",
    "    Int_t ArrayEntries=Array->GetEntries();\n",
    "    for ( Int_t j=0 ; j<ArrayEntries ; j++ ){\n",
    "        auto object = Array->At(j);\n",
    "        std::string name = object->GetName();\n",
    "        std::string nameplus = name+chain1->GetTitle();\n",
    "\n",
    "        if(Debug){\n",
    "            object->Print();\n",
    "            std:cout<<\"Name: \"<<nameplus<<std::endl;\n",
    "        }\n",
    "        //See if name is in the list of the user\n",
    "        if(!Branches.empty()){\n",
    "            Bool_t flag=0;\n",
    "            for (auto it: Branches){\n",
    "                if(it==name)  flag=1;\n",
    "            }\n",
    "            if(!flag) continue;\n",
    "        }\n",
    "        //Getting the type of the branch\n",
    "        std::string Title=object->GetTitle();\n",
    "        std::size_t found=Title.find_last_of('/');\n",
    "        if (found!=std::string::npos){\n",
    "            std::string Type = Title.substr(found+1);\n",
    "            //   Specify address where to read the event object\n",
    "            if(Debug) std::cout<<\"Type: \"<<Type<<std::endl;\n",
    "            //Aloco un puntero al tipo de dato del branch, y lo guardo en el map, con el key nombre\n",
    "            ptrMap[name]=TypeAllocate(Type);\n",
    "            if(Debug) std::cout<<\"ptr: \"<<ptrMap[name]<<std::endl;\n",
    "            //El branch se va a leer de la dirección del puntero gurdado en el PointMap[name]\n",
    "            chain1->SetBranchAddress(name.c_str(), ptrMap[name]);\n",
    "            //   Create an histogram\n",
    "            HistoMap[nameplus] = new TH1D(nameplus.c_str(),Title.c_str(),NBines,Min,Max);\n",
    "            //Saving the names\n",
    "            NamesArray.push_back(std::make_pair(name,nameplus));\n",
    "\n",
    "        }\n",
    "        else{\n",
    "            std::cout<<\"Error no type defined in \"<<Title<<std::endl;\n",
    "        }\n",
    "    }\n",
    "    \n",
    "    \n",
    "    //Filling the Histograms\n",
    "    for (Int_t j=0;j<chain1->GetEntries();j++) {\n",
    "        chain1->GetEvent(j);              //read complete accepted event in memory\n",
    "        if(Debug) if(j==10) break;\n",
    "        for (auto it:NamesArray){            \n",
    "            HistoMap[it.second]->Fill(*((Double_t*)ptrMap[it.first]) /*, el peso va acá*/);  //Fill histogram with \n",
    "            if(Debug) {\n",
    "                std::cout<<\"Name: \"<<it.second<<std::endl;\n",
    "                std::cout<<\"Pointer: \"<<ptrMap[it.first]<<std::endl;\n",
    "            }\n",
    "        }                            //iterar sobre Sobre los branches del mapa              \n",
    "    }\n",
    "    \n",
    " return HistoMap;\n",
    "}"
   ]
  },
  {
   "cell_type": "code",
   "execution_count": null,
   "metadata": {},
   "outputs": [],
   "source": [
    "mapa = Plotter(chain1)"
   ]
  },
  {
   "cell_type": "code",
   "execution_count": null,
   "metadata": {
    "collapsed": true
   },
   "outputs": [],
   "source": [
    "//To ask for just a branch\n",
    "std::vector<std::string> branches;\n",
    "branches.push_back(\"px\");\n",
    "branches.push_back(\"py\");"
   ]
  },
  {
   "cell_type": "code",
   "execution_count": null,
   "metadata": {},
   "outputs": [],
   "source": [
    "auto mapa1 = Plotter(chain2,0,branches)"
   ]
  },
  {
   "cell_type": "code",
   "execution_count": null,
   "metadata": {},
   "outputs": [],
   "source": [
    "mapa[\"px1\"]"
   ]
  },
  {
   "cell_type": "code",
   "execution_count": null,
   "metadata": {
    "collapsed": true
   },
   "outputs": [],
   "source": [
    "//y = new TH1D(\"pp\",\"Marica\",100,0,1);\n",
    "//pp->Print()"
   ]
  },
  {
   "cell_type": "markdown",
   "metadata": {},
   "source": [
    "Entrego varias chains en un array."
   ]
  },
  {
   "cell_type": "code",
   "execution_count": null,
   "metadata": {
    "collapsed": true
   },
   "outputs": [],
   "source": [
    "THStack *hs = new THStack();"
   ]
  },
  {
   "cell_type": "code",
   "execution_count": null,
   "metadata": {
    "collapsed": true
   },
   "outputs": [],
   "source": [
    "hs->Add(mapa[\"px1\"]);\n",
    "hs->Add(mapa[\"py1\"]);\n",
    "hs->Add(mapa[\"pz1\"]);"
   ]
  },
  {
   "cell_type": "code",
   "execution_count": null,
   "metadata": {
    "collapsed": true
   },
   "outputs": [],
   "source": [
    "TCanvas *cst = new TCanvas();\n",
    "cst->Divide(2,2);"
   ]
  },
  {
   "cell_type": "code",
   "execution_count": null,
   "metadata": {
    "collapsed": true
   },
   "outputs": [],
   "source": [
    "cst->cd(1);\n",
    "hs->Draw();"
   ]
  },
  {
   "cell_type": "code",
   "execution_count": null,
   "metadata": {
    "collapsed": true
   },
   "outputs": [],
   "source": [
    "cst->cd(2);\n",
    "gPad->SetGrid();\n",
    "hs->Draw(\"nostack,e1p\");"
   ]
  },
  {
   "cell_type": "code",
   "execution_count": null,
   "metadata": {
    "collapsed": true
   },
   "outputs": [],
   "source": [
    "cst->cd(3);\n",
    "gPad->SetFrameFillColor(17);\n",
    "gPad->SetTheta(3.77);\n",
    "gPad->SetPhi(2.9);\n",
    "hs->Draw(\"lego1\");"
   ]
  },
  {
   "cell_type": "code",
   "execution_count": null,
   "metadata": {},
   "outputs": [],
   "source": [
    "gROOT->GetListOfCanvases()->Draw()"
   ]
  },
  {
   "cell_type": "markdown",
   "metadata": {
    "collapsed": true
   },
   "source": [
    "Hay una propiedad de los plots que es integrate, y se puede normalizar sobre eso, Ver el codigo de Jose (Nelson)    TemHisto1.Scale(1./TemHisto1.Integral())"
   ]
  },
  {
   "cell_type": "code",
   "execution_count": null,
   "metadata": {},
   "outputs": [],
   "source": [
    "mapa[\"px1\"]->GetEntries()"
   ]
  },
  {
   "cell_type": "code",
   "execution_count": null,
   "metadata": {
    "collapsed": true
   },
   "outputs": [],
   "source": []
  }
 ],
 "metadata": {
  "kernelspec": {
   "display_name": "ROOT C++",
   "language": "c++",
   "name": "root"
  },
  "language_info": {
   "codemirror_mode": "text/x-c++src",
   "file_extension": ".C",
   "mimetype": " text/x-c++src",
   "name": "c++"
  }
 },
 "nbformat": 4,
 "nbformat_minor": 2
}
