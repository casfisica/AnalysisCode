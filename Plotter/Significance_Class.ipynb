{
 "cells": [
  {
   "cell_type": "code",
   "execution_count": null,
   "metadata": {
    "collapsed": true
   },
   "outputs": [],
   "source": [
    "#include \"TFile.h\"\n",
    "#include \"TTree.h\"\n",
    "#include \"TBrowser.h\"\n",
    "#include \"TH1.h\"\n",
    "#include \"TRandom.h\"\n",
    "#include \"TCanvas.h\"\n",
    "#include \"TMath.h\"\n",
    "#include \"TROOT.h\"\n",
    "#include <string>\n",
    "#include <iostream>\n",
    "#include \"TTreeReader.h\"\n",
    "#include <tuple>\n",
    "#include <vector>\n",
    "#include <utility>      // std::pair, std::make_pair\n",
    "//#include \"../test/Event.h\""
   ]
  },
  {
   "cell_type": "code",
   "execution_count": null,
   "metadata": {
    "collapsed": true
   },
   "outputs": [],
   "source": [
    "//TDRStyle\n",
    "gSystem->Load(\"style-CMSTDR.C\");"
   ]
  },
  {
   "cell_type": "code",
   "execution_count": null,
   "metadata": {
    "collapsed": true
   },
   "outputs": [],
   "source": [
    "int CreateRandomTree(std::string name){\n",
    "    /*\n",
    "    Create trees for tries   \n",
    "    */\n",
    "    gROOT->Reset();\n",
    "    /*\n",
    "    Create Ttrees for tries \n",
    "    */\n",
    "    std::string Name = name+\".root\";\n",
    "    //convierto en cadena de caracteres constante (es lo que recibe la función)\n",
    "    const char * constName = Name.c_str();\n",
    "    //const char * constname = name.c_str();\n",
    "    TFile hfile(constName,\"RECREATE\");\n",
    "    //The Ttrees must to have the same name \"tree\" in this case, \"Delphes\"\n",
    "    TTree *T = new TTree(\"tree\",\"test Ttree\");\n",
    "    Double_t px,py,pz;\n",
    "    UShort_t i;\n",
    "    T->Branch(\"px\",&px,\"px/D\");\n",
    "    T->Branch(\"py\",&py,\"py/D\");\n",
    "    T->Branch(\"pz\",&pz,\"pz/D\");\n",
    "    T->Branch(\"i\",&i,\"i/s\");\n",
    "    for (i = 0; i < 65000; i++) {\n",
    "        px = (Double_t) gRandom->Binomial(500,0.05);\n",
    "        pz = (Double_t) gRandom->Landau(-10,100);\n",
    "        py = (Double_t) gRandom->Gaus(0,1000);\n",
    "        T->Fill();\n",
    "    }\n",
    "\n",
    "    //T->Print();\n",
    "    hfile.Write();\n",
    "    hfile.Close();\n",
    "   return 0;\n",
    "}"
   ]
  },
  {
   "cell_type": "code",
   "execution_count": null,
   "metadata": {
    "collapsed": true
   },
   "outputs": [],
   "source": [
    "void* TypeAllocate(std::string str){\n",
    "    /*\n",
    "    C : a character string terminated by the 0 character\n",
    "    B : an 8 bit signed integer (Char_t)\n",
    "    b : an 8 bit unsigned integer (UChar_t)\n",
    "    S : a 16 bit signed integer (Short_t)\n",
    "    s : a 16 bit unsigned integer (UShort_t)\n",
    "    I : a 32 bit signed integer (Int_t)\n",
    "    i : a 32 bit unsigned integer (UInt_t)\n",
    "    F : a 32 bit floating point (Float_t)\n",
    "    D : a 64 bit floating point (Double_t)\n",
    "    L : a 64 bit signed integer (Long64_t)\n",
    "    l : a 64 bit unsigned integer (ULong64_t)\n",
    "    O : [the letter o, not a zero] a boolean (Bool_t)\n",
    "    */ \n",
    "    if (str==\"C\") {\n",
    "        char *ptr=new char;\n",
    "        return (void*)ptr;\n",
    "    }\n",
    "    if (str==\"B\"){\n",
    "        Char_t *ptr=new Char_t;\n",
    "        return (void*)ptr;\n",
    "    }\n",
    "    if (str==\"b\"){\n",
    "        UChar_t *ptr=new UChar_t;\n",
    "        return (void*)ptr;\n",
    "    }\n",
    "    if (str==\"S\"){\n",
    "        Short_t *ptr=new Short_t;\n",
    "        return (void*)ptr;\n",
    "    }\n",
    "    if (str==\"s\"){\n",
    "        UShort_t *ptr=new UShort_t;\n",
    "        return (void*)ptr;\n",
    "    }\n",
    "    if (str==\"I\"){\n",
    "        Int_t *ptr=new Int_t;\n",
    "        return (void*)ptr;\n",
    "    }\n",
    "    if (str==\"i\"){\n",
    "        UInt_t *ptr=new UInt_t;\n",
    "        return (void*)ptr;\n",
    "    }\n",
    "    if (str==\"F\"){\n",
    "        Float_t *ptr=new Float_t;\n",
    "        return (void*)ptr;\n",
    "    }\n",
    "    if (str==\"D\"){\n",
    "        Double_t *ptr=new Double_t;\n",
    "        return (void*)ptr;\n",
    "    }\n",
    "    if (str==\"L\"){\n",
    "        Long64_t *ptr=new Long64_t;\n",
    "        return (void*)ptr;\n",
    "    }\n",
    "    if (str==\"l\"){\n",
    "        ULong64_t *ptr=new ULong64_t;\n",
    "        return (void*)ptr;\n",
    "    }\n",
    "    if (str==\"O\"){\n",
    "        Bool_t *ptr=new Bool_t;\n",
    "        return (void*)ptr;\n",
    "    }\n",
    "    return NULL;\n",
    "}\n"
   ]
  },
  {
   "cell_type": "code",
   "execution_count": null,
   "metadata": {
    "collapsed": true
   },
   "outputs": [],
   "source": [
    "//CreateRandomTree(\"tree1\");\n",
    "//CreateRandomTree(\"tree2\");\n",
    "//CreateRandomTree(\"tree3\");\n",
    "//CreateRandomTree(\"tree4\");"
   ]
  },
  {
   "cell_type": "code",
   "execution_count": null,
   "metadata": {
    "collapsed": true
   },
   "outputs": [],
   "source": [
    "TChain * chain1 = new TChain(\"tree\",\"1\");\n",
    "TChain * chain2 = new TChain(\"tree\",\"2\");\n",
    "chain1->Add(\"tree1.root\");\n",
    "chain1->Add(\"tree2.root\");\n",
    "chain2->Add(\"tree3.root\");\n",
    "chain2->Add(\"tree4.root\");"
   ]
  },
  {
   "cell_type": "code",
   "execution_count": null,
   "metadata": {
    "collapsed": true
   },
   "outputs": [],
   "source": [
    "std::map<std::string,TH1D *> Plotter(TChain * chain1, Bool_t Debug=0, std::vector<std::string> Branches={},Double_t Max=100.0, Double_t Min=0.0, Int_t NBines=100)\n",
    "{\n",
    "    std::map<std::string,TChain*> ChainMap;\n",
    "    std::map<std::string,void*> ptrMap;\n",
    "    std::map<std::string,TH1D *> HistoMap;\n",
    "    std::vector<std::pair <std::string,std::string>> NamesArray;\n",
    "    \n",
    "    auto Array=chain1->GetListOfBranches();\n",
    "    Int_t ArrayEntries=Array->GetEntries();\n",
    "    for ( Int_t j=0 ; j<ArrayEntries ; j++ ){\n",
    "        auto object = Array->At(j);\n",
    "        std::string name = object->GetName();\n",
    "        std::string nameplus = name+chain1->GetTitle();\n",
    "\n",
    "        if(Debug){\n",
    "            object->Print();\n",
    "            std:cout<<\"Name: \"<<nameplus<<std::endl;\n",
    "        }\n",
    "        //See if name is in the list of the user\n",
    "        if(!Branches.empty()){\n",
    "            Bool_t flag=0;\n",
    "            for (auto it: Branches){\n",
    "                if(it==name)  flag=1;\n",
    "            }\n",
    "            if(!flag) continue;\n",
    "        }\n",
    "        //Getting the type of the branch\n",
    "        std::string Title=object->GetTitle();\n",
    "        std::size_t found=Title.find_last_of('/');\n",
    "        if (found!=std::string::npos){\n",
    "            std::string Type = Title.substr(found+1);\n",
    "            //   Specify address where to read the event object\n",
    "            if(Debug) std::cout<<\"Type: \"<<Type<<std::endl;\n",
    "            //Aloco un puntero al tipo de dato del branch, y lo guardo en el map, con el key nombre\n",
    "            ptrMap[name]=TypeAllocate(Type);\n",
    "            if(Debug) std::cout<<\"ptr: \"<<ptrMap[name]<<std::endl;\n",
    "            //El branch se va a leer de la dirección del puntero gurdado en el PointMap[name]\n",
    "            chain1->SetBranchAddress(name.c_str(), ptrMap[name]);\n",
    "            //   Create an histogram\n",
    "            HistoMap[nameplus] = new TH1D(nameplus.c_str(),Title.c_str(),NBines,Min,Max);\n",
    "            //Saving the names\n",
    "            NamesArray.push_back(std::make_pair(name,nameplus));\n",
    "\n",
    "        }\n",
    "        else{\n",
    "            std::cout<<\"Error no type defined in \"<<Title<<std::endl;\n",
    "        }\n",
    "    }\n",
    "    \n",
    "    \n",
    "    //Filling the Histograms\n",
    "    for (Int_t j=0;j<chain1->GetEntries();j++) {\n",
    "        chain1->GetEvent(j);              //read complete accepted event in memory\n",
    "        if(Debug) if(j==10) break;\n",
    "        for (auto it:NamesArray){            \n",
    "            HistoMap[it.second]->Fill(*((Double_t*)ptrMap[it.first]) /*, el peso va acá*/);  //Fill histogram with \n",
    "            if(Debug) {\n",
    "                std::cout<<\"Name: \"<<it.second<<std::endl;\n",
    "                std::cout<<\"Pointer: \"<<ptrMap[it.first]<<std::endl;\n",
    "            }\n",
    "        }                            //iterar sobre Sobre los branches del mapa              \n",
    "    }\n",
    "    \n",
    " return HistoMap;\n",
    "}"
   ]
  },
  {
   "cell_type": "code",
   "execution_count": null,
   "metadata": {
    "collapsed": true
   },
   "outputs": [],
   "source": [
    "mapa = Plotter(chain1)"
   ]
  },
  {
   "cell_type": "code",
   "execution_count": null,
   "metadata": {
    "collapsed": true
   },
   "outputs": [],
   "source": [
    "//To ask for just a branch\n",
    "std::vector<std::string> branches;\n",
    "branches.push_back(\"px\");\n",
    "branches.push_back(\"py\");"
   ]
  },
  {
   "cell_type": "code",
   "execution_count": null,
   "metadata": {
    "collapsed": true
   },
   "outputs": [],
   "source": [
    "auto mapa1 = Plotter(chain2,0,branches)"
   ]
  },
  {
   "cell_type": "code",
   "execution_count": null,
   "metadata": {
    "collapsed": true
   },
   "outputs": [],
   "source": [
    "mapa1[\"px2\"]"
   ]
  },
  {
   "cell_type": "code",
   "execution_count": null,
   "metadata": {
    "collapsed": true
   },
   "outputs": [],
   "source": [
    "//y = new TH1D(\"pp\",\"Marica\",100,0,1);\n",
    "//pp->Print()"
   ]
  },
  {
   "cell_type": "markdown",
   "metadata": {},
   "source": [
    "Entrego varias chains en un array."
   ]
  },
  {
   "cell_type": "code",
   "execution_count": null,
   "metadata": {
    "collapsed": true
   },
   "outputs": [],
   "source": [
    "std::vector<TChain *> ChainVec;\n",
    "ChainVec.push_back(chain1);\n",
    "ChainVec.push_back(chain2);"
   ]
  },
  {
   "cell_type": "code",
   "execution_count": null,
   "metadata": {
    "collapsed": true
   },
   "outputs": [],
   "source": [
    "for (auto it=ChainVec.begin(); it!=ChainVec.end(); it++){\n",
    "\n",
    "    std::cout<< \"llamada al programa que crea los \" <<std::endl;\n",
    "\n",
    "}"
   ]
  },
  {
   "cell_type": "markdown",
   "metadata": {},
   "source": [
    "# Solo un canvas"
   ]
  },
  {
   "cell_type": "code",
   "execution_count": null,
   "metadata": {
    "collapsed": true
   },
   "outputs": [],
   "source": [
    "class Significance {\n",
    "   private:\n",
    "    TH1D *    SigTH1;\n",
    "    TH1D *    BackTH1;\n",
    "    std::vector<TH1D *> _ArBackTH1;\n",
    "   \n",
    "    public: \n",
    "    /*Constructors*/\n",
    "    Significance(void):SigTH1(NULL),BackTH1(NULL){}\n",
    "    Significance(TH1D * _SigTH1, TH1D * _BackTH1):SigTH1(_SigTH1),BackTH1(_BackTH1){}\n",
    "    Significance(TH1D * _SigTH1, std::vector<TH1D *> _ArBackTH1):SigTH1(_SigTH1){\n",
    "        TH1D *    TH1Copy=(TH1D *) _SigTH1->Clone();\n",
    "        BackTH1=(TH1D *) _SigTH1->Clone();\n",
    "        BackTH1->Sumw2();//To get good error\n",
    "        for (auto it:_ArBackTH1){\n",
    "            BackTH1->Add(it);\n",
    "         }\n",
    "    }\n",
    "    /*Destructor*/\n",
    "    ~Significance(){}\n",
    "    \n",
    "    /*Set Metodes*/\n",
    "    void SetSignal(TH1D * _SigTH1){\n",
    "        SigTH1= _SigTH1;\n",
    "    }//end SetBackground\n",
    "    \n",
    "    void SetBackground(TH1D * _BackTH1){\n",
    "        BackTH1= _BackTH1;\n",
    "    }//end SetBackground\n",
    "    \n",
    "    /*Get Metodes*/\n",
    "    TH1D * GetSignificance(void){\n",
    "        int Nbines=BackTH1->GetNbinsX();\n",
    "        TH1D *    TH1Copy=(TH1D *) SigTH1->Clone();\n",
    "        for (int l=0; l<Nbines; l++){\n",
    "            Double_t Zig=0;\n",
    "            if ((SigTH1->GetBinContent(l)+BackTH1->GetBinContent(l))>0){\n",
    "                Zig=((SigTH1->GetBinContent(l))/(TMath::Sqrt(SigTH1->GetBinContent(l)+BackTH1->GetBinContent(l))));\n",
    "            }else{\n",
    "                Zig=0;\n",
    "            }\n",
    "            //Using Cuadrature\n",
    "            Double_t sumSB=SigTH1->GetBinContent(l)+BackTH1->GetBinContent(l);\n",
    "            Double_t ZigErr=TMath::Sqrt(((((TMath::Power(BackTH1->GetBinContent(l),2))*(TMath::Power(SigTH1->GetBinError(l),2)))/4)+((TMath::Power(BackTH1->GetBinContent(l),2))*(TMath::Power(SigTH1->GetBinError(l),2))))/(TMath::Power(sumSB,3)));\n",
    "            TH1Copy->SetBinContent(l,Zig);\n",
    "            if (!std::isnan(ZigErr)){\n",
    "                TH1Copy->SetBinError(l,ZigErr);\n",
    "            }else{\n",
    "                //Esto es correcto??\n",
    "                TH1Copy->SetBinError(l,0);\n",
    "                //TH1Copy->SetMarkerStyle(kOpenCircle);\n",
    "            }\n",
    "            std::cout<<\"Value: \"<<TH1Copy->GetBinError(l)<<std::endl;\n",
    "            std::cout<<\"ZigErr: \"<<TH1Copy->GetBinContent(l)<<std::endl;\n",
    "\n",
    "        }\n",
    "        return TH1Copy;\n",
    "    }//End GetSignificance\n",
    "    \n",
    "    TH1D * GetSigLessThan(void){\n",
    "        int Nbines=BackTH1->GetNbinsX();\n",
    "        TH1D *    TH1Copy=(TH1D *) SigTH1->Clone();\n",
    "        for (int l=Nbines; l>=0; l--){\n",
    "            Double_t intZig=0;\n",
    "            if ((SigTH1->Integral(0,l)+BackTH1->Integral(0,l))>0){\n",
    "                intZig=(SigTH1->Integral(0,l))/(TMath::Sqrt(SigTH1->Integral(0,l)+BackTH1->Integral(0,l)));\n",
    "            }else{\n",
    "                intZig=0;\n",
    "            }\n",
    "            //std::cout<<\"l: \"<<l<<std::endl;\n",
    "            //std::cout<<\"intZig: \"<<intZig<<std::endl;\n",
    "            TH1Copy->SetBinContent(l,intZig);\n",
    "            //TH1Copy->SetMarkerStyle(kOpenCircle);\n",
    "        }\n",
    "        return TH1Copy; \n",
    "    }//End GetSigLessThan\n",
    "};"
   ]
  },
  {
   "cell_type": "code",
   "execution_count": null,
   "metadata": {
    "collapsed": true
   },
   "outputs": [],
   "source": [
    "SigTH1=mapa[\"px1\"];\n",
    "BackTH1=mapa1[\"px2\"];"
   ]
  },
  {
   "cell_type": "code",
   "execution_count": null,
   "metadata": {
    "collapsed": true
   },
   "outputs": [],
   "source": []
  },
  {
   "cell_type": "code",
   "execution_count": null,
   "metadata": {
    "collapsed": true
   },
   "outputs": [],
   "source": [
    "std::vector<TH1D *> Ejemplo;\n"
   ]
  },
  {
   "cell_type": "code",
   "execution_count": null,
   "metadata": {
    "collapsed": true
   },
   "outputs": [],
   "source": [
    "Ejemplo.push_back(SigTH1);\n",
    "Ejemplo.push_back(BackTH1);"
   ]
  },
  {
   "cell_type": "code",
   "execution_count": null,
   "metadata": {
    "collapsed": true
   },
   "outputs": [],
   "source": []
  },
  {
   "cell_type": "code",
   "execution_count": null,
   "metadata": {
    "collapsed": true
   },
   "outputs": [],
   "source": [
    "TCanvas *canv = new TCanvas();\n",
    "cas=Significance(SigTH1,BackTH1);\n",
    "casDraw=cas.GetSignificance();\n",
    "casDraw->Draw();\n",
    "canv->Draw();"
   ]
  },
  {
   "cell_type": "code",
   "execution_count": null,
   "metadata": {
    "collapsed": true
   },
   "outputs": [],
   "source": [
    "TCanvas *ca = new TCanvas();\n",
    "casArr=Significance(SigTH1,Ejemplo);\n",
    "casDrawArr=casArr.GetSigLessThan();\n",
    "casDrawArr->Draw();\n",
    "ca->Draw();"
   ]
  },
  {
   "cell_type": "markdown",
   "metadata": {},
   "source": [
    "# Varios Canvas"
   ]
  },
  {
   "cell_type": "code",
   "execution_count": null,
   "metadata": {
    "collapsed": true
   },
   "outputs": [],
   "source": [
    "THStack *hs = new THStack();"
   ]
  },
  {
   "cell_type": "code",
   "execution_count": null,
   "metadata": {
    "collapsed": true
   },
   "outputs": [],
   "source": [
    "hs->Add(mapa[\"px1\"]);\n",
    "hs->Add(mapa[\"py1\"]);\n",
    "hs->Add(mapa[\"pz1\"]);"
   ]
  },
  {
   "cell_type": "code",
   "execution_count": null,
   "metadata": {
    "collapsed": true
   },
   "outputs": [],
   "source": [
    "TCanvas *cst = new TCanvas();\n",
    "cst->Divide(2,2);"
   ]
  },
  {
   "cell_type": "code",
   "execution_count": null,
   "metadata": {
    "collapsed": true
   },
   "outputs": [],
   "source": [
    "cst->cd(1);\n",
    "hs->Draw();"
   ]
  },
  {
   "cell_type": "code",
   "execution_count": null,
   "metadata": {
    "collapsed": true
   },
   "outputs": [],
   "source": [
    "cst->cd(2);\n",
    "gPad->SetGrid();\n",
    "hs->Draw(\"nostack,e1p\");"
   ]
  },
  {
   "cell_type": "code",
   "execution_count": null,
   "metadata": {
    "collapsed": true
   },
   "outputs": [],
   "source": [
    "cst->cd(3);\n",
    "gPad->SetFrameFillColor(17);\n",
    "gPad->SetTheta(3.77);\n",
    "gPad->SetPhi(2.9);\n",
    "hs->Draw(\"lego1\");"
   ]
  },
  {
   "cell_type": "code",
   "execution_count": null,
   "metadata": {
    "collapsed": true
   },
   "outputs": [],
   "source": [
    "cst->Draw()"
   ]
  },
  {
   "cell_type": "markdown",
   "metadata": {
    "collapsed": true
   },
   "source": [
    "Hay una propiedad de los plots que es integrate, y se puede normalizar sobre eso, Ver el codigo de Jose (Nelson)    TemHisto1.Scale(1./TemHisto1.Integral())"
   ]
  },
  {
   "cell_type": "code",
   "execution_count": null,
   "metadata": {
    "collapsed": true
   },
   "outputs": [],
   "source": [
    "//mapa[\"px\"]->GetEntries()"
   ]
  },
  {
   "cell_type": "markdown",
   "metadata": {
    "collapsed": true
   },
   "source": [
    "Double_t Max=100.0;\n",
    "Double_t Min=0.0;\n",
    "Int_t NBines=100;\n",
    "Bool_t Debug=1;\n",
    "std::map<std::string,TChain*> ChainMap;\n",
    "std::map<std::string,void*> ptrMap;\n",
    "std::map<std::string,TH1D *> HistoMap;\n",
    "std::vector<std::string> NamesArray;\n",
    "auto Array=chain1->GetListOfBranches();\n",
    "Int_t ArrayEntries=Array->GetEntries();\n",
    "for ( Int_t j=0 ; j<ArrayEntries ; j++ ){\n",
    "    auto object = Array->At(j);\n",
    "    std::string name=object->GetName();\n",
    "    if(Debug){\n",
    "        object->Print();\n",
    "        std:cout<<\"Name: \"<<name<<std::endl;\n",
    "    }\n",
    "    //Getting the type of the branch\n",
    "    std::string Title=object->GetTitle();\n",
    "    std::size_t found=Title.find_last_of('/');\n",
    "    if (found!=std::string::npos){\n",
    "        std::string Type = Title.substr(found+1);\n",
    "        //   Specify address where to read the event object\n",
    "        if(Debug) std::cout<<\"Type: \"<<Type<<std::endl;\n",
    "        //Aloco un puntero al tipo de dato del branch, y lo guardo en el map, con el key nombre\n",
    "        ptrMap[name]=TypeAllocate(Type);\n",
    "        if(Debug) std::cout<<\"ptr: \"<<ptrMap[name]<<std::endl;\n",
    "        //El branch se va a leer de la dirección del puntero gurdado en el PointMap[name]\n",
    "        chain1->SetBranchAddress(name.c_str(), ptrMap[name]);\n",
    "        //   Create an histogram\n",
    "        HistoMap[name] = new TH1D(name.c_str(),Title.c_str(),NBines,Min,Max);\n",
    "        //Saving the names\n",
    "        NamesArray.push_back(name);\n",
    "    }\n",
    "    else{\n",
    "        std::cout<<\"Error no type defined in \"<<Title<<std::endl;\n",
    "    }\n",
    "    \n",
    "}"
   ]
  },
  {
   "cell_type": "code",
   "execution_count": null,
   "metadata": {
    "collapsed": true
   },
   "outputs": [],
   "source": []
  },
  {
   "cell_type": "markdown",
   "metadata": {
    "collapsed": true
   },
   "source": [
    "//Filling the Histograms\n",
    "for (Int_t j=0;j<chain1->GetEntries();j++) {\n",
    "        chain1->GetEvent(j);              //read complete accepted event in memory\n",
    "        if(Debug) if(j==10) break;\n",
    "        for (auto it=NamesArray.begin(); it!=NamesArray.end(); it++){            \n",
    "            HistoMap[*it]->Fill(*((Double_t*)ptrMap[\"pz\"]) /*, el peso va acá*/);  //Fill histogram with \n",
    "            if(Debug) {\n",
    "                std::cout<<\"Name: \"<<*it<<std::endl;\n",
    "                std::cout<<\"Pointer: \"<<ptrMap[*it]<<std::endl;\n",
    "            }\n",
    "        }                            //iterar sobre Sobre los branches del mapa\n",
    "                  \n",
    "    }"
   ]
  },
  {
   "cell_type": "code",
   "execution_count": null,
   "metadata": {
    "collapsed": true
   },
   "outputs": [],
   "source": []
  }
 ],
 "metadata": {
  "kernelspec": {
   "display_name": "ROOT C++",
   "language": "c++",
   "name": "root"
  },
  "language_info": {
   "codemirror_mode": "text/x-c++src",
   "file_extension": ".C",
   "mimetype": " text/x-c++src",
   "name": "c++"
  }
 },
 "nbformat": 4,
 "nbformat_minor": 2
}
