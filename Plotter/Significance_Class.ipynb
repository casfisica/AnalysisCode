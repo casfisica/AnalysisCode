{
 "cells": [
  {
   "cell_type": "code",
   "execution_count": null,
   "metadata": {},
   "outputs": [],
   "source": [
    "#include \"TFile.h\"\n",
    "#include \"TH1.h\"\n",
    "#include \"TCanvas.h\"\n",
    "#include \"TMath.h\"\n",
    "#include \"TROOT.h\"\n",
    "#include <string>\n",
    "#include <iostream>\n",
    "#include \"TTreeReader.h\"\n",
    "#include <tuple>\n",
    "#include <vector>\n",
    "#include <utility>      \n",
    "// std::pair, std::make_pair\n",
    "//#include \"../test/Event.h\""
   ]
  },
  {
   "cell_type": "code",
   "execution_count": null,
   "metadata": {},
   "outputs": [],
   "source": [
    "class Error_Propagation{\n",
    "    \n",
    "    protected:\n",
    "\n",
    "    \n",
    "    private:\n",
    "    \n",
    "    public:\n",
    "    \n",
    "    static Double_t SumErr(Double_t _x, Double_t _y,Double_t  _dx, Double_t _dy, Double_t & Error2){\n",
    "        /*Return de x+y and the error in the reference Error */\n",
    "        Error2= TMath::Sqrt(_dx*_dx+_dy*_dy);\n",
    "        return _x+_y;\n",
    "    }\n",
    "    \n",
    "    static Double_t MultErr(Double_t _x, Double_t _y,Double_t  _dx, Double_t _dy, Double_t & Error2){\n",
    "        /*Return de x*y and the error in the reference Error */\n",
    "        Error2= (_x*_y)*TMath::Sqrt((_dx/_x)*(_dx/_x)+(_dy/_y)*(_dy/_y));\n",
    "        return _x*_y;\n",
    "    }\n",
    "    \n",
    "    static Double_t DivErr(Double_t _x, Double_t _y,Double_t  _dx, Double_t _dy, Double_t & Error2){\n",
    "        /*Return de x/y and the error in the reference Error */\n",
    "        Error2= (_x/_y)*TMath::Sqrt((_dx/_x)*(_dx/_x)+(_dy/_y)*(_dy/_y));\n",
    "        return _x/_y;\n",
    "    }\n",
    "    \n",
    "    static Double_t PowErr(Double_t _x, Double_t _y,Double_t  _dx, Double_t & Error2){\n",
    "        /*Return de x^y and the error in the reference Error */\n",
    "        Error2= TMath::Power(_x,_y-1.0)*_y*_dx;\n",
    "        return TMath::Power(_x,_y);\n",
    "    }\n",
    "    \n",
    "}"
   ]
  },
  {
   "cell_type": "code",
   "execution_count": null,
   "metadata": {},
   "outputs": [],
   "source": [
    "class Significance {\n",
    "   private:\n",
    "    TH1D *    SigTH1;\n",
    "    TH1D *    BackTH1;\n",
    "    std::vector<TH1D *> ArBackTH1;\n",
    "   \n",
    "    public: \n",
    "    /*Constructors*/\n",
    "    Significance(void):SigTH1(NULL),BackTH1(NULL){}\n",
    "    Significance(TH1D * _SigTH1, TH1D * _BackTH1):SigTH1(_SigTH1),BackTH1(_BackTH1){}\n",
    "    Significance(TH1D * _SigTH1, std::vector<TH1D *> _ArBackTH1):SigTH1(_SigTH1),ArBackTH1(_ArBackTH1){\n",
    "        TH1D *    TH1Copy=(TH1D *) _SigTH1->Clone();\n",
    "        BackTH1=(TH1D *) _SigTH1->Clone();\n",
    "        BackTH1->Sumw2();//To get good error\n",
    "        for (auto it:_ArBackTH1){\n",
    "            \n",
    "            BackTH1->Add(it);\n",
    "         }\n",
    "    }\n",
    "    /*Destructor*/\n",
    "    ~Significance(){}\n",
    "    \n",
    "    /*Set Methods*/\n",
    "    void SetSignal(TH1D * _SigTH1){\n",
    "        SigTH1= _SigTH1;\n",
    "    }//end SetBackground\n",
    "    \n",
    "    void SetBackground(TH1D * _BackTH1){\n",
    "        BackTH1= _BackTH1;\n",
    "    }//end SetBackground\n",
    "    \n",
    "    /*Get Methods*/\n",
    "    std::vector<TH1D *> GetVector(void){\n",
    "        \n",
    "        return ArBackTH1;\n",
    "    }\n",
    "    \n",
    "    TH1D * GetBackground(void){\n",
    "        return BackTH1;\n",
    "    }\n",
    "    \n",
    "    TH1D * GetSignificance(void){\n",
    "        int Nbines=BackTH1->GetNbinsX();\n",
    "        TH1D *    TH1Copy=(TH1D *) SigTH1->Clone();\n",
    "        for (int l=0; l<Nbines; l++){\n",
    "            Double_t Zig=0;\n",
    "            Double_t tmpErr;\n",
    "            Double_t sumSB=Error_Propagation::SumErr(SigTH1->GetBinContent(l),BackTH1->GetBinContent(l), SigTH1->GetBinContent(l), BackTH1->GetBinContent(l),tmpErr);\n",
    "            if (sumSB>0){\n",
    "                Zig=((SigTH1->GetBinContent(l))/(TMath::Sqrt(sumSB)));\n",
    "            }else{\n",
    "                Zig=0;\n",
    "            }\n",
    "            Double_t ZigErr;\n",
    "            TH1Copy->SetBinContent(l,Zig);\n",
    "            if (!std::isnan(ZigErr)){\n",
    "                TH1Copy->SetBinError(l,ZigErr);\n",
    "            }else{\n",
    "                //Esto es correcto??\n",
    "                TH1Copy->SetBinError(l,0);\n",
    "                //TH1Copy->SetMarkerStyle(kOpenCircle);\n",
    "            }\n",
    "            //std::cout<<\"Value: \"<<TH1Copy->GetBinError(l)<<std::endl;\n",
    "            //std::cout<<\"ZigErr: \"<<TH1Copy->GetBinContent(l)<<std::endl;\n",
    "\n",
    "        }\n",
    "        return TH1Copy;\n",
    "    }//End GetSignificance\n",
    "    \n",
    "    TH1D * GetSigLessThan(void){\n",
    "        int Nbines=BackTH1->GetNbinsX();       \n",
    "        TH1D *    TH1CopyInt=(TH1D *) SigTH1->Clone();\n",
    "        for (int l=Nbines; l>=0; l--){\n",
    "            Double_t intZig=0;\n",
    "            Double_t SigErr,BacErr;\n",
    "            Double_t IntSignal=SigTH1->IntegralAndError(0,l,SigErr);\n",
    "            Double_t IntBackground=BackTH1->IntegralAndError(0,l,BacErr);\n",
    "            Double_t sumSB=IntSignal+IntBackground;\n",
    "            if (sumSB>0){\n",
    "                intZig=IntSignal/(TMath::Sqrt(sumSB));\n",
    "            }else{\n",
    "                intZig=0;\n",
    "            }\n",
    "            //std::cout<<\"l: \"<<l<<std::endl;\n",
    "            //std::cout<<\"intZig: \"<<intZig<<std::endl;\n",
    "            TH1CopyInt->SetBinContent(l,intZig);\n",
    "            //TH1Copy->SetMarkerStyle(kOpenCircle);           \n",
    "            //Using Cuadrature to calculate the error\n",
    "            Double_t IntZigErr=TMath::Sqrt(((((TMath::Power(IntBackground,2))*(TMath::Power(SigErr,2)))/4)+((TMath::Power(IntSignal,2))*(TMath::Power(BacErr,2))))/(TMath::Power(sumSB,3)));\n",
    "            TH1CopyInt->SetBinContent(l,intZig);\n",
    "            if (!std::isnan(intZig)){\n",
    "                TH1CopyInt->SetBinError(l,IntZigErr);\n",
    "            }else{\n",
    "                TH1CopyInt->SetBinError(l,0);\n",
    "                //TH1Copy->SetMarkerStyle(kOpenCircle);\n",
    "            }\n",
    "              \n",
    "        }\n",
    "        return TH1CopyInt; \n",
    "    }//End GetSigLessThan\n",
    "    \n",
    "    std::vector<TH1D *> GetEffLessThan(void){\n",
    "        Int_t Nbines=SigTH1->GetNbinsX();       \n",
    "        std::vector<TH1D *> arrTH1Copy;\n",
    "        std::vector<TH1D *> arrTH1Imput;\n",
    "        arrTH1Imput =ArBackTH1; //Put the back\n",
    "        arrTH1Imput.push_back(SigTH1);\n",
    "        //std::cout<<ArBackTH1.size()<<std::endl; \n",
    "        //std::cout<<arrTH1Imput.size()<<std::endl; \n",
    "        //Int_t cont=0;\n",
    "        \n",
    "        for (auto it:arrTH1Imput){\n",
    "            TH1D * TH1CopyInt=(TH1D *) it->Clone();\n",
    "            //std::cout<<cont<<std::endl;\n",
    "            //cont++;\n",
    "            for (int l=0; l<=Nbines; l++){\n",
    "                Double_t intEff=0;\n",
    "                Double_t EffErr;\n",
    "                Double_t IntSignal=it->IntegralAndError(0,l,EffErr);\n",
    "                Double_t IntSignalTot=it->IntegralAndError(0,Nbines,EffErr);\n",
    "                //std::cout<<IntSignal<<std::endl;\n",
    "                //std::cout<<IntSignalTot<<std::endl;\n",
    "                \n",
    "                if (IntSignalTot>0){\n",
    "                    intEff=IntSignal/IntSignalTot;\n",
    "                    //std::cout<<intEff<<std::endl;\n",
    "                }else{\n",
    "                    intEff=0;\n",
    "                }\n",
    "                //std::cout<<\"Before: \"<<TH1CopyInt->GetBinContent(l)<<std::endl;\n",
    "                TH1CopyInt->SetBinContent(l,intEff);\n",
    "                //std::cout<<\"After: \"<<TH1CopyInt->GetBinContent(l)<<std::endl;\n",
    "                Double_t IntEffErr=0;\n",
    "                if (!std::isnan(IntEffErr)){\n",
    "                    TH1CopyInt->SetBinError(l,IntEffErr);\n",
    "                }else{\n",
    "                    TH1CopyInt->SetBinError(l,0);\n",
    "                }  \n",
    "            }\n",
    "            //std::cout<<TH1CopyInt->GetBinContent(TH1CopyInt->GetMaximumBin())<<std::endl;\n",
    "            arrTH1Copy.push_back(TH1CopyInt);\n",
    "           \n",
    "        }        \n",
    "        //std::cout<<arrTH1Copy[0]->GetBinContent(arrTH1Copy[0]->GetMaximumBin())<<std::endl;\n",
    "        return arrTH1Copy;\n",
    "    }//End GetEffLessThan\n",
    "       \n",
    "};"
   ]
  },
  {
   "cell_type": "markdown",
   "metadata": {},
   "source": [
    "# Solo un canvas"
   ]
  },
  {
   "cell_type": "code",
   "execution_count": null,
   "metadata": {},
   "outputs": [],
   "source": [
    "TH1D *histo1 = new TH1D(\"histo1\",\"Flat distribution\", 100, 0, 100);\n",
    "histo1->FillRandom(\"pol0\",100000);"
   ]
  },
  {
   "cell_type": "code",
   "execution_count": null,
   "metadata": {},
   "outputs": [],
   "source": [
    "TCanvas *tempcanv = new TCanvas();\n",
    "histo1->Draw();\n",
    "tempcanv->Draw();"
   ]
  },
  {
   "cell_type": "code",
   "execution_count": null,
   "metadata": {},
   "outputs": [],
   "source": [
    "TH1D *histo2 = new TH1D(\"histo2\",\"Gauss distribution\", 100, 0, 100);\n",
    "for (int i=0;i<100000;i++) {\n",
    "    histo2->Fill(gRandom->Gaus(0,25));\n",
    "}"
   ]
  },
  {
   "cell_type": "code",
   "execution_count": null,
   "metadata": {},
   "outputs": [],
   "source": [
    "histo2->Draw();\n",
    "tempcanv->Draw();"
   ]
  },
  {
   "cell_type": "code",
   "execution_count": null,
   "metadata": {},
   "outputs": [],
   "source": [
    "TH1D *histo3 = new TH1D(\"histo3\",\"Gauss distribution2\", 100, 0, 100);\n",
    "for (int i=0;i<100000;i++) {\n",
    "    histo3->Fill(gRandom->Gaus(100,25));\n",
    "}"
   ]
  },
  {
   "cell_type": "code",
   "execution_count": null,
   "metadata": {},
   "outputs": [],
   "source": [
    "histo3->Draw();\n",
    "tempcanv->Draw();"
   ]
  },
  {
   "cell_type": "code",
   "execution_count": null,
   "metadata": {},
   "outputs": [],
   "source": [
    "std::vector<TH1D *> Ejemplo;\n",
    "Ejemplo.push_back(histo1);\n",
    "Ejemplo.push_back(histo2);\n",
    "Ejemplo.push_back(histo3);"
   ]
  },
  {
   "cell_type": "code",
   "execution_count": null,
   "metadata": {},
   "outputs": [],
   "source": [
    "Ejemplo.size()"
   ]
  },
  {
   "cell_type": "code",
   "execution_count": null,
   "metadata": {},
   "outputs": [],
   "source": [
    "TCanvas *canv = new TCanvas();\n",
    "casee=Significance(histo2,Ejemplo);\n"
   ]
  },
  {
   "cell_type": "code",
   "execution_count": null,
   "metadata": {},
   "outputs": [],
   "source": [
    "casDrawe = casee.GetEffLessThan();"
   ]
  },
  {
   "cell_type": "code",
   "execution_count": null,
   "metadata": {},
   "outputs": [],
   "source": [
    "TCanvas *canv1 = new TCanvas();\n",
    "casDrawe[0]->Draw();\n",
    "canv1->Draw();"
   ]
  },
  {
   "cell_type": "code",
   "execution_count": null,
   "metadata": {},
   "outputs": [],
   "source": [
    "//TCanvas *canv = new TCanvas();\n",
    "cas=Significance(histo2,histo2);\n",
    "casDraw=cas.GetSignificance();\n",
    "casDraw->Draw();\n",
    "canv->Draw();"
   ]
  },
  {
   "cell_type": "code",
   "execution_count": null,
   "metadata": {},
   "outputs": [],
   "source": [
    "casDraw->GetMaximumBin()"
   ]
  },
  {
   "cell_type": "code",
   "execution_count": null,
   "metadata": {},
   "outputs": [],
   "source": [
    "TCanvas *canv2 = new TCanvas();\n",
    "cas2=Significance(histo1,histo2);\n",
    "casDraw2=cas2.GetSignificance();\n",
    "casDraw2->Draw();\n",
    "canv2->Draw();"
   ]
  },
  {
   "cell_type": "code",
   "execution_count": null,
   "metadata": {},
   "outputs": [],
   "source": [
    "casDraw2->GetMaximum()"
   ]
  },
  {
   "cell_type": "code",
   "execution_count": null,
   "metadata": {},
   "outputs": [],
   "source": [
    "TCanvas *ca1 = new TCanvas();\n",
    "casArr=Significance(histo1,histo3);\n",
    "casDrawArr=casArr.GetSigLessThan();\n",
    "casDrawArr->Draw();\n",
    "ca1->Draw();"
   ]
  },
  {
   "cell_type": "code",
   "execution_count": null,
   "metadata": {},
   "outputs": [],
   "source": [
    "casDrawArr->GetMaximumBin()"
   ]
  },
  {
   "cell_type": "code",
   "execution_count": null,
   "metadata": {},
   "outputs": [],
   "source": [
    "casDrawArr->GetBinContent(casDrawArr->GetBinContent(2))"
   ]
  },
  {
   "cell_type": "code",
   "execution_count": null,
   "metadata": {},
   "outputs": [],
   "source": []
  }
 ],
 "metadata": {
  "kernelspec": {
   "display_name": "ROOT C++",
   "language": "c++",
   "name": "root"
  },
  "language_info": {
   "codemirror_mode": "text/x-c++src",
   "file_extension": ".C",
   "mimetype": " text/x-c++src",
   "name": "c++"
  }
 },
 "nbformat": 4,
 "nbformat_minor": 2
}
