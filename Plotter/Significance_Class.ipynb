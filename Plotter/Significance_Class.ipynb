{
 "cells": [
  {
   "cell_type": "code",
   "execution_count": 1,
   "metadata": {},
   "outputs": [],
   "source": [
    "#include \"TFile.h\"\n",
    "#include \"TH1.h\"\n",
    "#include \"TCanvas.h\"\n",
    "#include \"TMath.h\"\n",
    "#include \"TROOT.h\"\n",
    "#include <string>\n",
    "#include <iostream>\n",
    "#include \"TTreeReader.h\"\n",
    "#include <tuple>\n",
    "#include <vector>\n",
    "#include <utility>      \n",
    "// std::pair, std::make_pair\n",
    "//#include \"../test/Event.h\""
   ]
  },
  {
   "cell_type": "code",
   "execution_count": 2,
   "metadata": {},
   "outputs": [],
   "source": [
    "class Error_Propagation{\n",
    "    \n",
    "    protected:\n",
    "\n",
    "    \n",
    "    private:\n",
    "    \n",
    "    public:\n",
    "    \n",
    "    static Double_t SumErr(Double_t _x, Double_t _y,Double_t  _dx, Double_t _dy, Double_t & Error2){\n",
    "        /*Return de x+y and the error in the reference Error */\n",
    "        Error2= TMath::Sqrt(_dx*_dx+_dy*_dy);\n",
    "        return _x+_y;\n",
    "    }\n",
    "    \n",
    "    static Double_t MultErr(Double_t _x, Double_t _y,Double_t  _dx, Double_t _dy, Double_t & Error2){\n",
    "        /*Return de x*y and the error in the reference Error */\n",
    "        Error2= (_x*_y)*TMath::Sqrt((_dx/_x)*(_dx/_x)+(_dy/_y)*(_dy/_y));\n",
    "        return _x*_y;\n",
    "    }\n",
    "    \n",
    "    static Double_t DivErr(Double_t _x, Double_t _y,Double_t  _dx, Double_t _dy, Double_t & Error2){\n",
    "        /*Return de x/y and the error in the reference Error */\n",
    "        Error2= (_x/_y)*TMath::Sqrt((_dx/_x)*(_dx/_x)+(_dy/_y)*(_dy/_y));\n",
    "        return _x/_y;\n",
    "    }\n",
    "    \n",
    "    static Double_t PowErr(Double_t _x, Double_t _y,Double_t  _dx, Double_t & Error2){\n",
    "        /*Return de x^y and the error in the reference Error */\n",
    "        Error2= TMath::Power(_x,_y-1.0)*_y*_dx;\n",
    "        return TMath::Power(_x,_y);\n",
    "    }\n",
    "    \n",
    "}"
   ]
  },
  {
   "cell_type": "code",
   "execution_count": 3,
   "metadata": {},
   "outputs": [],
   "source": [
    "class Significance {\n",
    "   private:\n",
    "    TH1D *    SigTH1;\n",
    "    TH1D *    BackTH1;\n",
    "    std::vector<TH1D *> ArBackTH1;\n",
    "   \n",
    "    public: \n",
    "    /*Constructors*/\n",
    "    Significance(void):SigTH1(NULL),BackTH1(NULL){}\n",
    "    Significance(TH1D * _SigTH1, TH1D * _BackTH1):SigTH1(_SigTH1),BackTH1(_BackTH1){}\n",
    "    Significance(TH1D * _SigTH1, std::vector<TH1D *> _ArBackTH1):SigTH1(_SigTH1),ArBackTH1(_ArBackTH1){\n",
    "        TH1D *    TH1Copy=(TH1D *) _SigTH1->Clone();\n",
    "        BackTH1=(TH1D *) _SigTH1->Clone();\n",
    "        BackTH1->Sumw2();//To get good error\n",
    "        for (auto it:_ArBackTH1){\n",
    "            \n",
    "            BackTH1->Add(it);\n",
    "         }\n",
    "    }\n",
    "    /*Destructor*/\n",
    "    ~Significance(){}\n",
    "    \n",
    "    /*Set Methods*/\n",
    "    void SetSignal(TH1D * _SigTH1){\n",
    "        SigTH1= _SigTH1;\n",
    "    }//end SetBackground\n",
    "    \n",
    "    void SetBackground(TH1D * _BackTH1){\n",
    "        BackTH1= _BackTH1;\n",
    "    }//end SetBackground\n",
    "    \n",
    "    /*Get Methods*/\n",
    "    std::vector<TH1D *> GetVector(void){\n",
    "        \n",
    "        return ArBackTH1;\n",
    "    }\n",
    "    \n",
    "    TH1D * GetBackground(void){\n",
    "        return BackTH1;\n",
    "    }\n",
    "    \n",
    "    TH1D * GetSignificance(void){\n",
    "        int Nbines=BackTH1->GetNbinsX();\n",
    "        TH1D *    TH1Copy=(TH1D *) SigTH1->Clone();\n",
    "        TH1Copy->SetNameTitle(\"Significance\", \"Significance\");\n",
    "        gStyle->SetOptStat(0);\n",
    "        for (int l=0; l<Nbines; l++){\n",
    "            Double_t Zig=0;\n",
    "            Double_t tmpErr;\n",
    "            Double_t sumSB=Error_Propagation::SumErr(SigTH1->GetBinContent(l),BackTH1->GetBinContent(l), SigTH1->GetBinContent(l), BackTH1->GetBinContent(l),tmpErr);\n",
    "            if (sumSB>0){\n",
    "                Zig=((SigTH1->GetBinContent(l))/(TMath::Sqrt(sumSB)));\n",
    "            }else{\n",
    "                Zig=0;\n",
    "            }\n",
    "            Double_t ZigErr;\n",
    "            TH1Copy->SetBinContent(l,Zig);\n",
    "            if (!std::isnan(ZigErr)){\n",
    "                TH1Copy->SetBinError(l,ZigErr);\n",
    "            }else{\n",
    "                //Esto es correcto??\n",
    "                TH1Copy->SetBinError(l,0);\n",
    "                //TH1Copy->SetMarkerStyle(kOpenCircle);\n",
    "            }\n",
    "            //std::cout<<\"Value: \"<<TH1Copy->GetBinError(l)<<std::endl;\n",
    "            //std::cout<<\"ZigErr: \"<<TH1Copy->GetBinContent(l)<<std::endl;\n",
    "\n",
    "        }\n",
    "        return TH1Copy;\n",
    "    }//End GetSignificance\n",
    "    \n",
    "    TH1D * GetSigLessThan(void){\n",
    "        int Nbines=BackTH1->GetNbinsX();       \n",
    "        TH1D *    TH1CopyInt=(TH1D *) SigTH1->Clone();\n",
    "        TH1CopyInt->SetNameTitle(\"Significance Less Than\", \"Significance\");\n",
    "        gStyle->SetOptStat(0);\n",
    "        for (int l=Nbines; l>=0; l--){\n",
    "            Double_t intZig=0;\n",
    "            Double_t SigErr,BacErr;\n",
    "            Double_t IntSignal=SigTH1->IntegralAndError(0,l,SigErr);\n",
    "            Double_t IntBackground=BackTH1->IntegralAndError(0,l,BacErr);\n",
    "            Double_t sumSB=IntSignal+IntBackground;\n",
    "            if (sumSB>0){\n",
    "                intZig=IntSignal/(TMath::Sqrt(sumSB));\n",
    "            }else{\n",
    "                intZig=0;\n",
    "            }\n",
    "            //std::cout<<\"l: \"<<l<<std::endl;\n",
    "            //std::cout<<\"intZig: \"<<intZig<<std::endl;\n",
    "            TH1CopyInt->SetBinContent(l,intZig);\n",
    "            //TH1Copy->SetMarkerStyle(kOpenCircle);           \n",
    "            //Using Cuadrature to calculate the error\n",
    "            Double_t IntZigErr=TMath::Sqrt(((((TMath::Power(IntBackground,2))*(TMath::Power(SigErr,2)))/4)+((TMath::Power(IntSignal,2))*(TMath::Power(BacErr,2))))/(TMath::Power(sumSB,3)));\n",
    "            TH1CopyInt->SetBinContent(l,intZig);\n",
    "            if (!std::isnan(intZig)){\n",
    "                TH1CopyInt->SetBinError(l,IntZigErr);\n",
    "            }else{\n",
    "                TH1CopyInt->SetBinError(l,0);\n",
    "                //TH1Copy->SetMarkerStyle(kOpenCircle);\n",
    "            }\n",
    "              \n",
    "        }\n",
    "        return TH1CopyInt; \n",
    "    }//End GetSigLessThan\n",
    "    \n",
    "    std::vector<TH1D *> GetEffLessThan(void){\n",
    "        Int_t Nbines=SigTH1->GetNbinsX();       \n",
    "        std::vector<TH1D *> arrTH1Copy;\n",
    "        std::vector<TH1D *> arrTH1Imput;\n",
    "        arrTH1Imput =ArBackTH1; //Put the back\n",
    "        arrTH1Imput.push_back(SigTH1);\n",
    "        //std::cout<<ArBackTH1.size()<<std::endl; \n",
    "        //std::cout<<arrTH1Imput.size()<<std::endl; \n",
    "        //Int_t cont=0;\n",
    "        \n",
    "        for (auto it:arrTH1Imput){\n",
    "            TH1D * TH1CopyInt=(TH1D *) it->Clone();\n",
    "            TH1CopyInt->SetNameTitle(\"Efficiency Less Than\", \"Efficiency\");\n",
    "            gStyle->SetOptStat(0);\n",
    "            //std::cout<<cont<<std::endl;\n",
    "            //cont++;\n",
    "            for (int l=0; l<=Nbines; l++){\n",
    "                Double_t intEff=0;\n",
    "                Double_t EffErr;\n",
    "                Double_t IntSignal=it->IntegralAndError(0,l,EffErr);\n",
    "                Double_t IntSignalTot=it->IntegralAndError(0,Nbines,EffErr);\n",
    "                //std::cout<<IntSignal<<std::endl;\n",
    "                //std::cout<<IntSignalTot<<std::endl;\n",
    "                \n",
    "                if (IntSignalTot>0){\n",
    "                    intEff=IntSignal/IntSignalTot;\n",
    "                    //std::cout<<intEff<<std::endl;\n",
    "                }else{\n",
    "                    intEff=0;\n",
    "                }\n",
    "                //std::cout<<\"Before: \"<<TH1CopyInt->GetBinContent(l)<<std::endl;\n",
    "                TH1CopyInt->SetBinContent(l,intEff);\n",
    "                //std::cout<<\"After: \"<<TH1CopyInt->GetBinContent(l)<<std::endl;\n",
    "                Double_t IntEffErr=0;\n",
    "                if (!std::isnan(IntEffErr)){\n",
    "                    TH1CopyInt->SetBinError(l,IntEffErr);\n",
    "                }else{\n",
    "                    TH1CopyInt->SetBinError(l,0);\n",
    "                }  \n",
    "            }\n",
    "            //std::cout<<TH1CopyInt->GetBinContent(TH1CopyInt->GetMaximumBin())<<std::endl;\n",
    "            arrTH1Copy.push_back(TH1CopyInt);\n",
    "           \n",
    "        }        \n",
    "        //std::cout<<arrTH1Copy[0]->GetBinContent(arrTH1Copy[0]->GetMaximumBin())<<std::endl;\n",
    "        return arrTH1Copy;\n",
    "    }//End GetEffLessThan\n",
    "       \n",
    "};"
   ]
  },
  {
   "cell_type": "markdown",
   "metadata": {},
   "source": [
    "# Solo un canvas"
   ]
  },
  {
   "cell_type": "code",
   "execution_count": 4,
   "metadata": {},
   "outputs": [],
   "source": [
    "TH1D *histo1 = new TH1D(\"histo1\",\"Flat distribution\", 100, 0, 100);\n",
    "histo1->FillRandom(\"pol0\",100000);"
   ]
  },
  {
   "cell_type": "code",
   "execution_count": 5,
   "metadata": {},
   "outputs": [
    {
     "data": {
      "image/png": "[encoded data removed]",
      "text/plain": [
       "<IPython.core.display.Image object>"
      ]
     },
     "metadata": {},
     "output_type": "display_data"
    }
   ],
   "source": [
    "TCanvas *tempcanv = new TCanvas();\n",
    "histo1->Draw();\n",
    "tempcanv->Draw();"
   ]
  },
  {
   "cell_type": "code",
   "execution_count": 6,
   "metadata": {},
   "outputs": [],
   "source": [
    "TH1D *histo2 = new TH1D(\"histo2\",\"Gauss distribution\", 100, 0, 100);\n",
    "for (int i=0;i<100000;i++) {\n",
    "    histo2->Fill(gRandom->Gaus(0,25));\n",
    "}"
   ]
  },
  {
   "cell_type": "code",
   "execution_count": 7,
   "metadata": {},
   "outputs": [
    {
     "data": {
      "image/png": "[encoded data removed]",
      "text/plain": [
       "<IPython.core.display.Image object>"
      ]
     },
     "metadata": {},
     "output_type": "display_data"
    }
   ],
   "source": [
    "histo2->Draw();\n",
    "tempcanv->Draw();"
   ]
  },
  {
   "cell_type": "code",
   "execution_count": 8,
   "metadata": {},
   "outputs": [],
   "source": [
    "TH1D *histo3 = new TH1D(\"histo3\",\"Gauss distribution2\", 100, 0, 100);\n",
    "for (int i=0;i<100000;i++) {\n",
    "    histo3->Fill(gRandom->Gaus(100,25));\n",
    "}"
   ]
  },
  {
   "cell_type": "code",
   "execution_count": 9,
   "metadata": {},
   "outputs": [
    {
     "data": {
      "image/png": "[encoded data removed]",
      "text/plain": [
       "<IPython.core.display.Image object>"
      ]
     },
     "metadata": {},
     "output_type": "display_data"
    }
   ],
   "source": [
    "histo3->Draw();\n",
    "tempcanv->Draw();"
   ]
  },
  {
   "cell_type": "code",
   "execution_count": 10,
   "metadata": {},
   "outputs": [
    {
     "name": "stdout",
     "output_type": "stream",
     "text": [
      "==> Dumping object at: 0x00007f501c74a7e0, name=c1, class=TCanvas\n",
      "\n",
      "fCatt                         ->7f501c74aa88      Canvas attributes\n",
      "fCatt.fXBetween               2                   X distance between pads\n",
      "fCatt.fYBetween               2                   Y distance between pads\n",
      "fCatt.fTitleFromTop           1.2                 Y distance of Global Title from top\n",
      "fCatt.fXdate                  0.2                 X position where to draw the date\n",
      "fCatt.fYdate                  0.3                 X position where to draw the date\n",
      "fCatt.fAdate                  1                   Alignment for the date\n",
      "fDISPLAY                      $DISPLAY            Name of destination screen\n",
      "fDISPLAY.fRep                 ->7f501c74aab0      ! String data\n",
      "fDISPLAY.fRep.                ->7f501c74aab0      \n",
      "fXsizeUser                    0                   User specified size of canvas along X in CM\n",
      "fYsizeUser                    0                   User specified size of canvas along Y in CM\n",
      "fXsizeReal                    20                  Current size of canvas along X in CM\n",
      "fYsizeReal                    14.2857             Current size of canvas along Y in CM\n",
      "fHighLightColor               2                   Highlight color of active pad\n",
      "fDoubleBuffer                 0                   Double buffer flag (0=off, 1=on)\n",
      "fWindowTopX                   0                   Top X position of window (in pixels)\n",
      "fWindowTopY                   0                   Top Y position of window (in pixels)\n",
      "fWindowWidth                  700                 Width of window (including borders, etc.)\n",
      "fWindowHeight                 500                 Height of window (including menubar, borders, etc.)\n",
      "fCw                           696                 Width of the canvas along X (pixels)\n",
      "fCh                           472                 Height of the canvas along Y (pixels)\n",
      "fEvent                        -1                  ! Type of current or last handled event\n",
      "fEventX                       -1                  ! Last X mouse position in canvas\n",
      "fEventY                       -1                  ! Last Y mouse position in canvas\n",
      "fCanvasID                     0                   ! Canvas identifier\n",
      "*fSelected                    ->0                 ! Currently selected object\n",
      "*fClickSelected               ->0                 ! Currently click-selected object\n",
      "fSelectedX                    0                   ! X of selected object\n",
      "fSelectedY                    0                   ! Y of selected object\n",
      "fSelectedOpt                                      ! Drawing option of selected object\n",
      "fSelectedOpt.fRep             ->7f501c74ab20      ! String data\n",
      "fSelectedOpt.fRep.            ->7f501c74ab20      \n",
      "*fSelectedPad                 ->0                 ! Pad containing currently selected object\n",
      "*fClickSelectedPad            ->0                 ! Pad containing currently click-selected object\n",
      "*fPadSave                     ->0                 ! Pointer to saved pad in HandleInput\n",
      "*fCanvasImp                   ->7f501c6f9ab0      ! Window system specific canvas implementation\n",
      "*fContextMenu                 ->0                 ! Context menu pointer\n",
      "fBatch                        true                ! True when in batchmode\n",
      "fUpdating                     false               ! True when Updating the canvas\n",
      "fRetained                     true                Retain structure flag\n",
      "fUseGL                        false               ! True when rendering is with GL\n",
      "fDrawn                        false               ! Set to True when the Draw method is called\n",
      "*fPainter                     ->7f501c71b410      ! Canvas (pad) painter.\n",
      "*fTip                         ->0                 ! tool tip associated with box\n",
      "fX1                           -12.5               X of lower X coordinate\n",
      "fY1                           -207.769            Y of lower Y coordinate\n",
      "fX2                           112.5               X of upper X coordinate\n",
      "fY2                           1869.92             Y of upper Y coordinate\n",
      "fXtoAbsPixelk                 69.6001             Conversion coefficient for X World to absolute pixel\n",
      "fXtoPixelk                    69.6001             Conversion coefficient for X World to pixel\n",
      "fXtoPixel                     5.568               xpixel = fXtoPixelk + fXtoPixel*xworld\n",
      "fYtoAbsPixelk                 424.8               Conversion coefficient for Y World to absolute pixel\n",
      "fYtoPixelk                    424.8               Conversion coefficient for Y World to pixel\n",
      "fYtoPixel                     -0.227176           ypixel = fYtoPixelk + fYtoPixel*yworld\n",
      "fUtoAbsPixelk                 5e-05               Conversion coefficient for U NDC to absolute pixel\n",
      "fUtoPixelk                    5e-05               Conversion coefficient for U NDC to pixel\n",
      "fUtoPixel                     696                 xpixel = fUtoPixelk + fUtoPixel*undc\n",
      "fVtoAbsPixelk                 472                 Conversion coefficient for V NDC to absolute pixel\n",
      "fVtoPixelk                    472                 Conversion coefficient for V NDC to pixel\n",
      "fVtoPixel                     -472                ypixel = fVtoPixelk + fVtoPixel*vndc\n",
      "fAbsPixeltoXk                 -12.5               Conversion coefficient for absolute pixel to X World\n",
      "fPixeltoXk                    -12.5               Conversion coefficient for pixel to X World\n",
      "fPixeltoX                     0.179598            xworld = fPixeltoXk + fPixeltoX*xpixel\n",
      "fAbsPixeltoYk                 1869.92             Conversion coefficient for absolute pixel to Y World\n",
      "fPixeltoYk                    -207.769            Conversion coefficient for pixel to Y World\n",
      "fPixeltoY                     -4.40188            yworld = fPixeltoYk + fPixeltoY*ypixel\n",
      "fXlowNDC                      0                   X bottom left corner of pad in NDC [0,1]\n",
      "fYlowNDC                      0                   Y bottom left corner of pad in NDC [0,1]\n",
      "fXUpNDC                       0                   \n",
      "fYUpNDC                       0                   \n",
      "fWNDC                         1                   Width of pad along X in NDC\n",
      "fHNDC                         1                   Height of pad along Y in NDC\n",
      "fAbsXlowNDC                   0                   Absolute X top left corner of pad in NDC [0,1]\n",
      "fAbsYlowNDC                   0                   Absolute Y top left corner of pad in NDC [0,1]\n",
      "fAbsWNDC                      1                   Absolute Width of pad along X in NDC\n",
      "fAbsHNDC                      1                   Absolute Height of pad along Y in NDC\n",
      "fUxmin                        0                   Minimum value on the X axis\n",
      "fUymin                        0                   Minimum value on the Y axis\n",
      "fUxmax                        100                 Maximum value on the X axis\n",
      "fUymax                        1662.15             Maximum value on the Y axis\n",
      "fTheta                        30                  theta angle to view as lego/surface\n",
      "fPhi                          30                  phi angle   to view as lego/surface\n",
      "fAspectRatio                  0                   ratio of w/h in case of fixed ratio\n",
      "fPixmapID                     0                   ! Off-screen pixmap identifier\n",
      "fGLDevice                     -1                  ! OpenGL off-screen pixmap identifier\n",
      "fCopyGLDevice                 false               !\n",
      "fEmbeddedGL                   false               !\n",
      "fNumber                       0                   pad number identifier\n",
      "fTickx                        0                   Set to 1 if tick marks along X\n",
      "fTicky                        0                   Set to 1 if tick marks along Y\n",
      "fLogx                         0                   (=0 if X linear scale, =1 if log scale)\n",
      "fLogy                         0                   (=0 if Y linear scale, =1 if log scale)\n",
      "fLogz                         0                   (=0 if Z linear scale, =1 if log scale)\n",
      "fPadPaint                     0                   Set to 1 while painting the pad\n",
      "fCrosshair                    0                   Crosshair type (0 if no crosshair requested)\n",
      "fCrosshairPos                 0                   Position of crosshair\n",
      "fBorderSize                   2                   pad bordersize in pixels\n",
      "fBorderMode                   0                   Bordermode (-1=down, 0 = no border, 1=up)\n",
      "fModified                     false               Set to true when pad is modified\n",
      "fGridx                        false               Set to true if grid along X\n",
      "fGridy                        false               Set to true if grid along Y\n",
      "fAbsCoord                     false               Use absolute coordinates\n",
      "fEditable                     true                True if canvas is editable\n",
      "fFixedAspectRatio             false               True if fixed aspect ratio\n",
      "*fMother                      ->7f501c74a7e0      ! pointer to mother of the list\n",
      "*fCanvas                      ->7f501c74a7e0      ! Pointer to mother canvas\n",
      "*fPrimitives                  ->7f501c749250      ->List of primitives (subpads)\n",
      "*fExecs                       ->0                 List of commands to be executed when a pad event occurs\n",
      "fName                         c1                  Pad name\n",
      "fName.fRep                    ->7f501c74aa20      ! String data\n",
      "fName.fRep.                   ->7f501c74aa20      \n",
      "fTitle                        c1                  Pad title\n",
      "fTitle.fRep                   ->7f501c74aa38      ! String data\n",
      "fTitle.fRep.                  ->7f501c74aa38      \n",
      "*fFrame                       ->7f501c813ca0      ! Pointer to 2-D frame (if one exists)\n",
      "*fView                        ->0                 ! Pointer to 3-D view (if one exists)\n",
      "*fPadPointer                  ->0                 ! free pointer\n",
      "*fPadView3D                   ->0                 ! 3D View of this TPad\n",
      "fNumPaletteColor              0                   Number of objects with an automatic color\n",
      "fNextPaletteColor             0                   Next automatic color\n",
      "*fCollideGrid                 ->0                 ! Grid used to find empty space when adding a box (Legend) in a pad\n",
      "fCGnx                         0                   ! Size of the collide grid along x\n",
      "fCGny                         0                   ! Size of the collide grid along y\n",
      "*fViewer3D                    ->0                 ! Current 3D viewer\n",
      "fResizing                     false               !true when resizing the pad\n",
      "fUniqueID                     0                   object unique identifier\n",
      "fBits                         0x03330008          bit field status word\n",
      "fLineColor                    1                   Line color\n",
      "fLineStyle                    1                   Line style\n",
      "fLineWidth                    1                   Line width\n",
      "fFillColor                    0                   Fill area color\n",
      "fFillStyle                    1001                Fill area style\n",
      "fLeftMargin                   0.1                 LeftMargin\n",
      "fRightMargin                  0.1                 RightMargin\n",
      "fBottomMargin                 0.1                 BottomMargin\n",
      "fTopMargin                    0.1                 TopMargin\n",
      "fXfile                        2                   X position where to draw the file name\n",
      "fYfile                        2                   Y position where to draw the file name\n",
      "fAfile                        1                   Alignment for the file name\n",
      "fXstat                        0.99                X position where to draw the statistics\n",
      "fYstat                        0.99                Y position where to draw the statistics\n",
      "fAstat                        2                   Alignment for the statistics\n",
      "fFrameFillColor               0                   Pad frame fill color\n",
      "fFrameLineColor               1                   Pad frame line color\n",
      "fFrameFillStyle               1001                Pad frame fill style\n",
      "fFrameLineStyle               1                   Pad frame line style\n",
      "fFrameLineWidth               1                   Pad frame line width\n",
      "fFrameBorderSize              1                   Pad frame border size\n",
      "fFrameBorderMode              0                   Pad frame border mode\n",
      "*fListOfSignals               ->0                 ! list of signals from this object\n",
      "*fListOfConnections           ->0                 ! list of connections to this object\n",
      "fSignalsBlocked               false               ! flag used for suppression of signals\n"
     ]
    }
   ],
   "source": [
    "tempcanv->Dump()"
   ]
  },
  {
   "cell_type": "code",
   "execution_count": 11,
   "metadata": {},
   "outputs": [],
   "source": [
    "std::vector<TH1D *> Ejemplo;\n",
    "Ejemplo.push_back(histo1);\n",
    "Ejemplo.push_back(histo2);\n",
    "Ejemplo.push_back(histo3);"
   ]
  },
  {
   "cell_type": "code",
   "execution_count": 12,
   "metadata": {},
   "outputs": [
    {
     "name": "stdout",
     "output_type": "stream",
     "text": [
      "(unsigned long) 3\n"
     ]
    }
   ],
   "source": [
    "Ejemplo.size()"
   ]
  },
  {
   "cell_type": "code",
   "execution_count": 13,
   "metadata": {},
   "outputs": [],
   "source": [
    "TCanvas *canv = new TCanvas();\n",
    "casee=Significance(histo2,Ejemplo);\n"
   ]
  },
  {
   "cell_type": "code",
   "execution_count": 14,
   "metadata": {},
   "outputs": [],
   "source": [
    "casDrawe = casee.GetEffLessThan();"
   ]
  },
  {
   "cell_type": "code",
   "execution_count": 15,
   "metadata": {},
   "outputs": [
    {
     "data": {
      "image/png": "[encoded data removed]",
      "text/plain": [
       "<IPython.core.display.Image object>"
      ]
     },
     "metadata": {},
     "output_type": "display_data"
    }
   ],
   "source": [
    "TCanvas *canv1 = new TCanvas();\n",
    "casDrawe[0]->Draw();\n",
    "canv1->Draw();"
   ]
  },
  {
   "cell_type": "code",
   "execution_count": 16,
   "metadata": {},
   "outputs": [
    {
     "data": {
      "image/png": "[encoded data removed]",
      "text/plain": [
       "<IPython.core.display.Image object>"
      ]
     },
     "metadata": {},
     "output_type": "display_data"
    }
   ],
   "source": [
    "//TCanvas *canv = new TCanvas();\n",
    "cas=Significance(histo2,histo2);\n",
    "casDraw=cas.GetSignificance();\n",
    "casDraw->Draw();\n",
    "canv->Draw();"
   ]
  },
  {
   "cell_type": "code",
   "execution_count": 17,
   "metadata": {},
   "outputs": [
    {
     "name": "stdout",
     "output_type": "stream",
     "text": [
      "(int) 1\n"
     ]
    }
   ],
   "source": [
    "casDraw->GetMaximumBin()"
   ]
  },
  {
   "cell_type": "code",
   "execution_count": 18,
   "metadata": {},
   "outputs": [
    {
     "data": {
      "image/png": "[encoded data removed]",
      "text/plain": [
       "<IPython.core.display.Image object>"
      ]
     },
     "metadata": {},
     "output_type": "display_data"
    }
   ],
   "source": [
    "TCanvas *canv2 = new TCanvas();\n",
    "cas2=Significance(histo1,histo2);\n",
    "casDraw2=cas2.GetSignificance();\n",
    "casDraw2->Draw();\n",
    "canv2->Draw();"
   ]
  },
  {
   "cell_type": "code",
   "execution_count": 19,
   "metadata": {},
   "outputs": [
    {
     "name": "stdout",
     "output_type": "stream",
     "text": [
      "(double) 991.00000\n"
     ]
    }
   ],
   "source": [
    "casDraw2->GetMaximum()"
   ]
  },
  {
   "cell_type": "code",
   "execution_count": 20,
   "metadata": {},
   "outputs": [
    {
     "data": {
      "image/png": "[encoded data removed]",
      "text/plain": [
       "<IPython.core.display.Image object>"
      ]
     },
     "metadata": {},
     "output_type": "display_data"
    }
   ],
   "source": [
    "TCanvas *ca1 = new TCanvas();\n",
    "casArr=Significance(histo1,histo3);\n",
    "casDrawArr=casArr.GetSigLessThan();\n",
    "casDrawArr->Draw();\n",
    "ca1->Draw();"
   ]
  },
  {
   "cell_type": "code",
   "execution_count": 21,
   "metadata": {},
   "outputs": [
    {
     "name": "stdout",
     "output_type": "stream",
     "text": [
      "(int) 100\n"
     ]
    }
   ],
   "source": [
    "casDrawArr->GetMaximumBin()"
   ]
  },
  {
   "cell_type": "code",
   "execution_count": 22,
   "metadata": {},
   "outputs": [
    {
     "name": "stdout",
     "output_type": "stream",
     "text": [
      "(double) 206.82386\n"
     ]
    }
   ],
   "source": [
    "casDrawArr->GetBinContent(casDrawArr->GetBinContent(2))"
   ]
  },
  {
   "cell_type": "code",
   "execution_count": 23,
   "metadata": {},
   "outputs": [],
   "source": [
    "casDrawArr->SetNameTitle(\"Camilo\", \"Andres\")"
   ]
  },
  {
   "cell_type": "code",
   "execution_count": 24,
   "metadata": {},
   "outputs": [],
   "source": [
    "gStyle->SetOptStat(0);"
   ]
  },
  {
   "cell_type": "code",
   "execution_count": 25,
   "metadata": {},
   "outputs": [],
   "source": [
    "//casDrawArr->Dump();\n",
    "TLegend * leg = new TLegend(0.1,0.7,0.3,.09);"
   ]
  },
  {
   "cell_type": "code",
   "execution_count": 26,
   "metadata": {},
   "outputs": [],
   "source": [
    "leg->SetFillColor(3);\n",
    "leg->AddEntry(\"casDrawArr\",\"Nombre\");\n",
    "leg->Draw();"
   ]
  },
  {
   "cell_type": "code",
   "execution_count": 27,
   "metadata": {},
   "outputs": [],
   "source": [
    "TPave * leg2 = new TPave(0.1,0.7,0.3,.09);"
   ]
  },
  {
   "cell_type": "code",
   "execution_count": 28,
   "metadata": {},
   "outputs": [],
   "source": [
    "leg2->Draw();"
   ]
  },
  {
   "cell_type": "code",
   "execution_count": 29,
   "metadata": {},
   "outputs": [
    {
     "data": {
      "image/png": "[encoded data removed]",
      "text/plain": [
       "<IPython.core.display.Image object>"
      ]
     },
     "metadata": {},
     "output_type": "display_data"
    }
   ],
   "source": [
    "casDrawArr->Draw();\n",
    "ca1->Draw(\"same\");"
   ]
  },
  {
   "cell_type": "code",
   "execution_count": null,
   "metadata": {},
   "outputs": [],
   "source": []
  }
 ],
 "metadata": {
  "kernelspec": {
   "display_name": "ROOT C++",
   "language": "c++",
   "name": "root"
  },
  "language_info": {
   "codemirror_mode": "text/x-c++src",
   "file_extension": ".C",
   "mimetype": " text/x-c++src",
   "name": "c++"
  }
 },
 "nbformat": 4,
 "nbformat_minor": 2
}
