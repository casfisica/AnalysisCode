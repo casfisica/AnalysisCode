{
 "cells": [
  {
   "cell_type": "code",
   "execution_count": 1,
   "metadata": {},
   "outputs": [],
   "source": [
    "TCanvas *c1 = new TCanvas(\"c1\",\"Poisson\",200,10,700,500);\n",
    "gStyle->SetOptStat(0);"
   ]
  },
  {
   "cell_type": "code",
   "execution_count": 2,
   "metadata": {},
   "outputs": [],
   "source": [
    "#include \"TF1.h\"\n",
    "#include \"TSystem.h\"\n",
    "#include \"TCanvas.h\""
   ]
  },
  {
   "cell_type": "code",
   "execution_count": 3,
   "metadata": {},
   "outputs": [],
   "source": [
    "//gSystem->Load(\"libMathCore\");\n",
    "TF1 *f0 = new TF1(\"f0\",\"ROOT::Math::poisson_pdf(x,100)\",40,150);\n",
    "TF1 *f1 = new TF1(\"f1\",\"ROOT::Math::poisson_pdf(x,80)\",40,150);"
   ]
  },
  {
   "cell_type": "code",
   "execution_count": 4,
   "metadata": {},
   "outputs": [],
   "source": [
    "f1->SetTitle(\"\");\n",
    "f0->SetTitle(\"\");"
   ]
  },
  {
   "cell_type": "code",
   "execution_count": 5,
   "metadata": {},
   "outputs": [],
   "source": [
    "f0->SetLineColor(2);//Red\n",
    "f1->SetLineColor(4);//Blue"
   ]
  },
  {
   "cell_type": "code",
   "execution_count": 6,
   "metadata": {},
   "outputs": [],
   "source": [
    "TLegend *legend = new TLegend(0.65,0.67,0.94,0.86);\n",
    "legend->SetFillStyle(0);\n",
    "legend->SetBorderSize(0);\n",
    "legend->SetTextSize(0.039);\n",
    "legend->SetTextFont(32);\n",
    "legend->AddEntry(\"f0\", \"P(k;100)\",\"l\");\n",
    "legend->AddEntry(\"f1\", \"P(k;80)\",\"l\");"
   ]
  },
  {
   "cell_type": "code",
   "execution_count": 7,
   "metadata": {},
   "outputs": [],
   "source": [
    "f1->Draw(\"H\");\n",
    "f0->Draw(\"H SAME\");\n",
    "legend->Draw(\"SAME\");"
   ]
  },
  {
   "cell_type": "code",
   "execution_count": 8,
   "metadata": {},
   "outputs": [
    {
     "data": {
      "image/png": "[encoded data removed]",
      "text/plain": [
       "<IPython.core.display.Image object>"
      ]
     },
     "metadata": {},
     "output_type": "display_data"
    }
   ],
   "source": [
    "c1->Draw()"
   ]
  },
  {
   "cell_type": "code",
   "execution_count": 10,
   "metadata": {},
   "outputs": [
    {
     "name": "stderr",
     "output_type": "stream",
     "text": [
      "Info in <TCanvas::Print>: pdf file TwoPoisson.pdf has been created\n"
     ]
    }
   ],
   "source": [
    "//c1->SaveAs(\"TwoPoisson.pdf\",\"pdf\");"
   ]
  },
  {
   "cell_type": "code",
   "execution_count": null,
   "metadata": {},
   "outputs": [],
   "source": []
  }
 ],
 "metadata": {
  "kernelspec": {
   "display_name": "ROOT C++",
   "language": "c++",
   "name": "root"
  },
  "language_info": {
   "codemirror_mode": "text/x-c++src",
   "file_extension": ".C",
   "mimetype": " text/x-c++src",
   "name": "c++"
  }
 },
 "nbformat": 4,
 "nbformat_minor": 4
}
