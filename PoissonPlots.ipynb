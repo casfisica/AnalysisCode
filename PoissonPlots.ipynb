{
 "cells": [
  {
   "cell_type": "code",
   "execution_count": 1,
   "metadata": {},
   "outputs": [],
   "source": [
    "#include \"TF1.h\"\n",
    "#include \"TSystem.h\"\n",
    "#include \"TCanvas.h\""
   ]
  },
  {
   "cell_type": "code",
   "execution_count": 2,
   "metadata": {},
   "outputs": [],
   "source": [
    "TCanvas *c1 = new TCanvas(\"c1\",\"Poisson\",200,10,700,500);\n",
    "gStyle->SetOptStat(0);"
   ]
  },
  {
   "cell_type": "code",
   "execution_count": 3,
   "metadata": {},
   "outputs": [],
   "source": [
    "//gSystem->Load(\"libMathCore\");\n",
    "TF1 *f0 = new TF1(\"f0\",\"ROOT::Math::poisson_pdf(x,100)\",40,150);\n",
    "TF1 *f1 = new TF1(\"f1\",\"ROOT::Math::poisson_pdf(x,80)\",40,150);"
   ]
  },
  {
   "cell_type": "code",
   "execution_count": 4,
   "metadata": {},
   "outputs": [],
   "source": [
    "f1->SetTitle(\"\");\n",
    "f0->SetTitle(\"\");\n",
    "f0->SetLineColor(2);//Red\n",
    "f0->SetFillColor(2);\n",
    "f1->SetLineColor(4);//Blue\n",
    "f1->SetFillColor(4);"
   ]
  },
  {
   "cell_type": "code",
   "execution_count": 5,
   "metadata": {},
   "outputs": [],
   "source": [
    "TLegend *legend = new TLegend(0.65,0.67,0.94,0.86);\n",
    "legend->SetFillStyle(0);\n",
    "legend->SetBorderSize(0);\n",
    "legend->SetTextSize(0.039);\n",
    "legend->SetTextFont(32);\n",
    "legend->AddEntry(\"f0\", \"P(k;100)\",\"l\");\n",
    "legend->AddEntry(\"f1\", \"P(k;80)\",\"l\");"
   ]
  },
  {
   "cell_type": "code",
   "execution_count": 6,
   "metadata": {},
   "outputs": [],
   "source": [
    "f1->GetYaxis()->SetTitle(\"P(k;n)\");\n",
    "f0->GetYaxis()->SetTitle(\"P(k;n)\");\n",
    "f1->GetXaxis()->SetTitle(\"k\");\n",
    "f0->GetXaxis()->SetTitle(\"k\");"
   ]
  },
  {
   "cell_type": "code",
   "execution_count": 7,
   "metadata": {},
   "outputs": [],
   "source": [
    "f1->Draw(\"H\");\n",
    "f0->Draw(\"H SAME\");\n",
    "legend->Draw(\"SAME\");"
   ]
  },
  {
   "cell_type": "code",
   "execution_count": 8,
   "metadata": {},
   "outputs": [],
   "source": [
    "//TLine *l=new TLine(90.0,c1->GetUymin(),90.0,c1->GetUxmax());\n",
    "TLine *l=new TLine(95.0,-0.001,95.0,0.047);\n",
    "l->SetLineStyle(2);\n",
    "l->SetLineWidth(2);\n",
    "l->Draw();"
   ]
  },
  {
   "cell_type": "code",
   "execution_count": 9,
   "metadata": {},
   "outputs": [],
   "source": [
    "tex = new TLatex(0.5,0.05,\"N_{c}\");\n",
    "tex->SetNDC();\n",
    "tex->SetTextAlign(23);\n",
    "tex->SetTextFont(42);\n",
    "tex->SetTextSize(0.04);\n",
    "tex->SetLineWidth(2);\n",
    "tex->Draw(\"Same\");"
   ]
  },
  {
   "cell_type": "markdown",
   "metadata": {},
   "source": [
    "Get the area to shadow"
   ]
  },
  {
   "cell_type": "code",
   "execution_count": 10,
   "metadata": {},
   "outputs": [],
   "source": [
    "//Graph 1 Limites\n",
    "Double_t XMin1 = 70;\n",
    "Double_t XMax1 = 95.5;\n",
    "Double_t YMin1 = 0;\n",
    "//Double_t YMax1 = 50;\n",
    "\n",
    "const Int_t n = 200;\n",
    "Double_t x[n],ymin[n], ymax[n];\n",
    "Double_t dx = (XMax1-XMin1)/n; "
   ]
  },
  {
   "cell_type": "code",
   "execution_count": 11,
   "metadata": {},
   "outputs": [],
   "source": [
    "for (Int_t i=0;i<n;i++) {\n",
    "    x[i] = XMin1+i*dx;\n",
    "    ymax[i] = f0->Eval(x[i]);\n",
    "    ymin[i] = YMin1;\n",
    "}\n",
    "TGraph *grshade = new TGraph(2*n);\n",
    "\n",
    "for (Int_t i=0;i<n;i++) {\n",
    "    grshade->SetPoint(i,x[i],ymin[i]);\n",
    "    grshade->SetPoint(n+i,x[n-i-1],ymax[n-i-1]);\n",
    "}\n",
    "grshade->SetFillStyle(3002);\n",
    "grshade->SetFillColor(2);\n",
    "grshade->SetName(\"grshade\");\n",
    "grshade->Draw(\"F\");\n",
    "//dm1->SetLineColor(16);\n",
    "//dm1->SetName(\"dm1\");\n",
    "//dm1->Draw(\"L, Same\");"
   ]
  },
  {
   "cell_type": "code",
   "execution_count": 12,
   "metadata": {},
   "outputs": [],
   "source": [
    "//Graph 2 Limites\n",
    "Double_t XMin2 = 95;\n",
    "Double_t XMax2 = 120;\n",
    "Double_t YMin2 = 0;\n",
    "//Double_t YMax1 = 50;\n",
    "\n",
    "const Int_t m = 100;\n",
    "Double_t x2[m],ymin2[m], ymax2[m];\n",
    "Double_t dx2 = (XMax2-XMin2)/m; "
   ]
  },
  {
   "cell_type": "code",
   "execution_count": 13,
   "metadata": {},
   "outputs": [],
   "source": [
    "for (Int_t i=0;i<m;i++) {\n",
    "    x2[i] = XMin2+i*dx2;\n",
    "    ymax2[i] = f1->Eval(x2[i]);\n",
    "    ymin2[i] = YMin2;\n",
    "}\n",
    "TGraph *grshade2 = new TGraph(2*m);\n",
    "\n",
    "for (Int_t i=0;i<m;i++) {\n",
    "    grshade2->SetPoint(i,x2[i],ymin2[i]);\n",
    "    grshade2->SetPoint(m+i,x2[m-i-1],ymax2[m-i-1]);\n",
    "}\n",
    "grshade2->SetFillStyle(3002);\n",
    "grshade2->SetFillColor(4);\n",
    "grshade2->SetName(\"grshade2\");\n",
    "grshade2->Draw(\"F\");"
   ]
  },
  {
   "cell_type": "code",
   "execution_count": 14,
   "metadata": {},
   "outputs": [],
   "source": [
    "tex2 = new TLatex(0.3,0.15,\"1-#beta            #alpha      #beta         1-#alpha\");\n",
    "tex2->SetNDC();\n",
    "//tex2->SetTextAlign(23);\n",
    "tex2->SetTextFont(42);\n",
    "tex2->SetTextSize(0.04);\n",
    "tex2->SetLineWidth(2);\n",
    "tex2->Draw(\"Same\");"
   ]
  },
  {
   "cell_type": "code",
   "execution_count": 15,
   "metadata": {},
   "outputs": [
    {
     "data": {
      "image/png": "[encoded data removed]",
      "text/plain": [
       "<IPython.core.display.Image object>"
      ]
     },
     "metadata": {},
     "output_type": "display_data"
    }
   ],
   "source": [
    "c1->Draw();"
   ]
  },
  {
   "cell_type": "code",
   "execution_count": 16,
   "metadata": {},
   "outputs": [],
   "source": [
    "//c1->SaveAs(\"TwoPoisson.pdf\",\"pdf\");"
   ]
  },
  {
   "cell_type": "code",
   "execution_count": 17,
   "metadata": {},
   "outputs": [],
   "source": [
    "TCanvas *c2 = new TCanvas(\"c2\",\"Poisson\",200,10,700,500);"
   ]
  },
  {
   "cell_type": "code",
   "execution_count": 18,
   "metadata": {},
   "outputs": [],
   "source": [
    "Double_t x3[100], y3[100];\n",
    "Int_t n3 = 140;"
   ]
  },
  {
   "cell_type": "code",
   "execution_count": 19,
   "metadata": {},
   "outputs": [],
   "source": [
    "for (Int_t i=40;i<n3;i++) {\n",
    "    x3[i] = -2*log(y3[i]);\n",
    "    y3[i] = f1->Eval(i); \n",
    "\n",
    "\n",
    "}\n",
    "TGraph* gr3 = new TGraph(n3,x3,y3);\n",
    "gr3->Draw(\"\");"
   ]
  },
  {
   "cell_type": "code",
   "execution_count": 20,
   "metadata": {},
   "outputs": [
    {
     "data": {
      "image/png": "[encoded data removed]",
      "text/plain": [
       "<IPython.core.display.Image object>"
      ]
     },
     "metadata": {},
     "output_type": "display_data"
    }
   ],
   "source": [
    "c2->Draw()"
   ]
  },
  {
   "cell_type": "code",
   "execution_count": 21,
   "metadata": {},
   "outputs": [
    {
     "name": "stdout",
     "output_type": "stream",
     "text": [
      "(double) -9.8832848\n"
     ]
    }
   ],
   "source": [
    "-2*log(140)"
   ]
  },
  {
   "cell_type": "code",
   "execution_count": 22,
   "metadata": {},
   "outputs": [],
   "source": [
    "TF1 *f3 = new TF1(\"f0\",\"log(x)\",0,1);"
   ]
  },
  {
   "cell_type": "code",
   "execution_count": 23,
   "metadata": {},
   "outputs": [],
   "source": [
    "f3->Draw()"
   ]
  },
  {
   "cell_type": "code",
   "execution_count": 24,
   "metadata": {},
   "outputs": [
    {
     "data": {
      "image/png": "[encoded data removed]",
      "text/plain": [
       "<IPython.core.display.Image object>"
      ]
     },
     "metadata": {},
     "output_type": "display_data"
    }
   ],
   "source": [
    "c2->Draw()"
   ]
  },
  {
   "cell_type": "code",
   "execution_count": null,
   "metadata": {},
   "outputs": [],
   "source": []
  }
 ],
 "metadata": {
  "kernelspec": {
   "display_name": "ROOT C++",
   "language": "c++",
   "name": "root"
  },
  "language_info": {
   "codemirror_mode": "text/x-c++src",
   "file_extension": ".C",
   "mimetype": " text/x-c++src",
   "name": "c++"
  }
 },
 "nbformat": 4,
 "nbformat_minor": 4
}
