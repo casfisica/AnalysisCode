{
 "cells": [
  {
   "cell_type": "code",
   "execution_count": 1,
   "metadata": {},
   "outputs": [],
   "source": [
    "/*!!!!!!!!!!!!!!!!!!!!!!!!!!!!!!!!!!!!!!!!!!!!!!!!!!!!!!!!!!!!!!!!!!!!!!*/\n",
    "/*                                                                      */\n",
    "/*To use this script, first you have to sourse the LocalConfig.sh file. */\n",
    "/*                                                                      */\n",
    "/*!!!!!!!!!!!!!!!!!!!!!!!!!!!!!!!!!!!!!!!!!!!!!!!!!!!!!!!!!!!!!!!!!!!!!!*/"
   ]
  },
  {
   "cell_type": "code",
   "execution_count": 2,
   "metadata": {},
   "outputs": [],
   "source": [
    "//gSystem->Load(\"/home/camilo/HEPTools/MADGRAPH/MG5_aMC_v2_5_5_Root6/ExRootAnalysis/libExRootAnalysis.so\");\n",
    "gSystem->Load(\"/home/camilo/HEPTools/MADGRAPH/MG5_aMC_v2_5_5_Root6/Delphes/libDelphes.so\");\n",
    "//If you run sourse DelphesEnv.sh\n",
    "//gSystem->Load(\"libDelphes.so\");"
   ]
  },
  {
   "cell_type": "code",
   "execution_count": 3,
   "metadata": {},
   "outputs": [
    {
     "name": "stdout",
     "output_type": "stream",
     "text": [
      "(int) 1\n"
     ]
    }
   ],
   "source": [
    "TChain chain(\"Delphes\");\n",
    "chain.AddFile(\"/home/camilo/cms/Scripts_MadGraph_VLFTEO/Datos/BackGround-WJetTau/Events/run_01/tag_1_delphes_events.root\")"
   ]
  },
  {
   "cell_type": "code",
   "execution_count": 4,
   "metadata": {},
   "outputs": [],
   "source": [
    "// Create object of class ExRootTreeReader\n",
    "ExRootTreeReader *treeReader = new ExRootTreeReader(&chain);"
   ]
  },
  {
   "cell_type": "code",
   "execution_count": 5,
   "metadata": {},
   "outputs": [
    {
     "name": "stdout",
     "output_type": "stream",
     "text": [
      "** WARNING: cannot access branch 'GenParticle', return NULL pointer\n"
     ]
    }
   ],
   "source": [
    "// Number of entries access\n",
    "long int numberOfEntries = treeReader->GetEntries();\n",
    "  \n",
    "// Get pointers to branches used in this analysis \n",
    "TClonesArray *branchJet = treeReader->UseBranch(\"Jet\");\n",
    "TClonesArray *branchMuon = treeReader->UseBranch(\"Muon\");\n",
    "TClonesArray *branchMissingET = treeReader->UseBranch(\"MissingET\");\n",
    "TClonesArray *branchTrack = treeReader->UseBranch(\"Track\");"
   ]
  },
  {
   "cell_type": "code",
   "execution_count": 6,
   "metadata": {},
   "outputs": [],
   "source": [
    "Long64_t allEntries = treeReader->GetEntries();  \n",
    "Int_t MuonCounter = 0;\n",
    "Int_t MuonTightCounter = 0;"
   ]
  },
  {
   "cell_type": "markdown",
   "metadata": {},
   "source": [
    "// now do the loop\n",
    "\n",
    "  for(Long64_t currentevent = 0; currentevent < allEntries; currentevent++){\n",
    "    treeReader->ReadEntry(currentevent);\n",
    "    if ( branchMuon->GetEntries() == 1){\n",
    "        MuonCounter++;\n",
    "        Muon *muon = (Muon *) branchMuon->At(0);\n",
    "        GenParticle *particle = (GenParticle*) muon->Particle.GetObject();\n",
    "       // std::cout<<currentevent<<std::endl;\n",
    "        if( ( particle->D0 < 2.0 ) && (particle->DZ < 5.0)){//2mm and 5mm\n",
    "            MuonTightCounter++;\n",
    "        }\n",
    "        delete particle;\n",
    "        delete muon;\n",
    "    }    \n",
    "      \n",
    "      \n",
    "  }       "
   ]
  },
  {
   "cell_type": "code",
   "execution_count": 7,
   "metadata": {},
   "outputs": [
    {
     "name": "stdout",
     "output_type": "stream",
     "text": [
      "(Muon *) 0x7feb7d39ae10\n"
     ]
    }
   ],
   "source": [
    "treeReader->ReadEntry(3);\n",
    "Muon *muon = (Muon *) branchMuon->At(0)"
   ]
  },
  {
   "cell_type": "code",
   "execution_count": 12,
   "metadata": {},
   "outputs": [],
   "source": [
    "particle = (GenParticle*) muon->Particle.GetObject()"
   ]
  },
  {
   "cell_type": "code",
   "execution_count": 13,
   "metadata": {},
   "outputs": [
    {
     "name": "stdout",
     "output_type": "stream",
     "text": [
      "(GenParticle *) nullptr\n"
     ]
    }
   ],
   "source": [
    "particle"
   ]
  },
  {
   "cell_type": "code",
   "execution_count": null,
   "metadata": {},
   "outputs": [],
   "source": []
  }
 ],
 "metadata": {
  "kernelspec": {
   "display_name": "ROOT C++",
   "language": "c++",
   "name": "root"
  },
  "language_info": {
   "codemirror_mode": "text/x-c++src",
   "file_extension": ".C",
   "mimetype": " text/x-c++src",
   "name": "c++"
  }
 },
 "nbformat": 4,
 "nbformat_minor": 2
}
