{
 "cells": [
  {
   "cell_type": "code",
   "execution_count": 1,
   "metadata": {},
   "outputs": [],
   "source": [
    "/*!!!!!!!!!!!!!!!!!!!!!!!!!!!!!!!!!!!!!!!!!!!!!!!!!!!!!!!!!!!!!!!!!!!!!!*/\n",
    "/*                                                                      */\n",
    "/*To use this script, first you have to sourse the LocalConfig.sh file. */\n",
    "/* i.e. source HEPTools/LocalConfigDelphes.sh                           */\n",
    "/*!!!!!!!!!!!!!!!!!!!!!!!!!!!!!!!!!!!!!!!!!!!!!!!!!!!!!!!!!!!!!!!!!!!!!!*/"
   ]
  },
  {
   "cell_type": "code",
   "execution_count": 2,
   "metadata": {},
   "outputs": [],
   "source": [
    "#include \"TMath.h\""
   ]
  },
  {
   "cell_type": "code",
   "execution_count": 3,
   "metadata": {},
   "outputs": [],
   "source": [
    "//gSystem->Load(\"/home/camilo/HEPTools/MADGRAPH/MG5_aMC_v2_5_5_Root6/ExRootAnalysis/libExRootAnalysis.so\");\n",
    "gSystem->Load(\"/home/camilo/HEPTools/MADGRAPH/MG5_aMC_v2_5_5_Root6/Delphes/libDelphes.so\");\n",
    "//If you run sourse DelphesEnv.sh\n",
    "//gSystem->Load(\"libDelphes.so\");"
   ]
  },
  {
   "cell_type": "code",
   "execution_count": 4,
   "metadata": {},
   "outputs": [],
   "source": [
    "TChain chain(\"Delphes\");\n",
    "\n",
    "//chain.Add(\"/home/camilo/cms/Scripts_MadGraph_VLFTEO/Datos/BackGround-lW/Events/run_01/*.root\");\n",
    "//chain.AddFile(\"/home/camilo/cms/Scripts_MadGraph_VLFTEO/Datos/BackGround-mumuW/Events/run_01/tag_1_delphes_events.root\");\n",
    "chain.AddFile(\"/home/camilo/cms/Scripts_MadGraph_VLFTEO/Datos/BackGround-mumuW_normal/Events/run_01/tag_1_delphes_events.root\");\n",
    "//chain.AddFile(\"/home/camilo/cms/Scripts_MadGraph_VLFTEO/Datos/BackGround-mumuW/Events/run_03/tag_1_delphes_events.root\");\n"
   ]
  },
  {
   "cell_type": "code",
   "execution_count": 5,
   "metadata": {},
   "outputs": [],
   "source": [
    "//chain.Print()"
   ]
  },
  {
   "cell_type": "code",
   "execution_count": 6,
   "metadata": {},
   "outputs": [],
   "source": [
    "TCut MuonCut1 = \"\" ;\n",
    "TCut MuonCut2 = \"\" ;\n",
    "TCut MuonCut3 = \"\" ;\n",
    "TCut JetCut1  = \"\" ;\n",
    "TCut MTCut    = \"\" ;\n",
    "TCut AllCuts  = \"\" ;\n",
    "TCut W        = \"1\";"
   ]
  },
  {
   "cell_type": "code",
   "execution_count": 7,
   "metadata": {},
   "outputs": [],
   "source": [
    "nMC = chain.GetEntries();"
   ]
  },
  {
   "cell_type": "code",
   "execution_count": 8,
   "metadata": {},
   "outputs": [
    {
     "name": "stdout",
     "output_type": "stream",
     "text": [
      "(long long) 3873\n"
     ]
    }
   ],
   "source": [
    "nMC"
   ]
  },
  {
   "cell_type": "code",
   "execution_count": 9,
   "metadata": {},
   "outputs": [],
   "source": [
    "Double_t WeightL = 3740.26291*1000*2.5/nMC;"
   ]
  },
  {
   "cell_type": "code",
   "execution_count": 10,
   "metadata": {},
   "outputs": [],
   "source": [
    "//W        = \"4031811.0\";\n",
    "W = std::to_string(WeightL).c_str();\n",
    "MuonCut1 = \"Muon_size==1\";\n",
    "MuonCut2 = \"Muon.PT>25\"  ;\n",
    "MuonCut3 = \"Muon.Eta<2.4&&Muon.Eta>-2.4\"  ;\n",
    "JetCut1  = \"Jet.PT>30\"   ;\n",
    "MTCut    = \"sqrt(2*Muon.PT*MissingET.MET*(1-cos((2*TMath::Pi()+Muon.Phi-MissingET.Phi)%(2*TMath::Pi()))))>50\";\n",
    "BCut     = \"Jet.BTag==0\";\n",
    "AllCuts  = MuonCut1&&MuonCut2&&MuonCut3&&JetCut1&&MTCut&&BCut;"
   ]
  },
  {
   "cell_type": "code",
   "execution_count": 11,
   "metadata": {},
   "outputs": [],
   "source": [
    "//chain.Draw(\"Jet_size\",AllCuts*W);"
   ]
  },
  {
   "cell_type": "code",
   "execution_count": 12,
   "metadata": {},
   "outputs": [
    {
     "name": "stdout",
     "output_type": "stream",
     "text": [
      "(TCut &) Name: CUT Title: 2414.318945\n"
     ]
    }
   ],
   "source": [
    "W"
   ]
  },
  {
   "cell_type": "code",
   "execution_count": 13,
   "metadata": {},
   "outputs": [],
   "source": [
    "chain.Draw(\"Jet_size>>myh\",AllCuts*W,\"goff\");//send the histogram to the obget myh\n",
    "auto h = (TH1F *)gROOT->FindObject(\"myh\");"
   ]
  },
  {
   "cell_type": "code",
   "execution_count": 14,
   "metadata": {},
   "outputs": [
    {
     "name": "stderr",
     "output_type": "stream",
     "text": [
      "Info in <TCanvas::MakeDefCanvas>:  created default TCanvas with name c1\n"
     ]
    }
   ],
   "source": [
    "h->Draw()"
   ]
  },
  {
   "cell_type": "code",
   "execution_count": 15,
   "metadata": {},
   "outputs": [
    {
     "data": {
      "image/png": "[encoded data removed]",
      "text/plain": [
       "<IPython.core.display.Image object>"
      ]
     },
     "metadata": {},
     "output_type": "display_data"
    }
   ],
   "source": [
    "c1->SetLogy();\n",
    "c1->Draw()"
   ]
  },
  {
   "cell_type": "code",
   "execution_count": 16,
   "metadata": {},
   "outputs": [
    {
     "name": "stdout",
     "output_type": "stream",
     "text": [
      "(double) 0.0000000\n"
     ]
    }
   ],
   "source": [
    "h->GetBinLowEdge(1)"
   ]
  },
  {
   "cell_type": "code",
   "execution_count": 17,
   "metadata": {},
   "outputs": [
    {
     "name": "stdout",
     "output_type": "stream",
     "text": [
      "(double) 0.0000000\n"
     ]
    }
   ],
   "source": [
    "h->GetBinContent(1)"
   ]
  },
  {
   "cell_type": "code",
   "execution_count": 18,
   "metadata": {},
   "outputs": [
    {
     "name": "stdout",
     "output_type": "stream",
     "text": [
      "(double) 1.0000000\n"
     ]
    }
   ],
   "source": [
    "h->GetBinLowEdge(2)"
   ]
  },
  {
   "cell_type": "code",
   "execution_count": 19,
   "metadata": {},
   "outputs": [
    {
     "name": "stdout",
     "output_type": "stream",
     "text": [
      "(double) 400776.28\n"
     ]
    }
   ],
   "source": [
    "h->GetBinContent(2)"
   ]
  },
  {
   "cell_type": "code",
   "execution_count": 20,
   "metadata": {},
   "outputs": [
    {
     "name": "stdout",
     "output_type": "stream",
     "text": [
      "(double) 193145.41\n"
     ]
    }
   ],
   "source": [
    "h->GetBinContent(3)"
   ]
  },
  {
   "cell_type": "code",
   "execution_count": 21,
   "metadata": {},
   "outputs": [
    {
     "name": "stdout",
     "output_type": "stream",
     "text": [
      "(double) 106230.07\n"
     ]
    }
   ],
   "source": [
    "h->GetBinContent(4)"
   ]
  },
  {
   "cell_type": "code",
   "execution_count": 22,
   "metadata": {},
   "outputs": [
    {
     "name": "stdout",
     "output_type": "stream",
     "text": [
      "(double) 14485.912\n"
     ]
    }
   ],
   "source": [
    "h->GetBinContent(5)"
   ]
  },
  {
   "cell_type": "code",
   "execution_count": null,
   "metadata": {},
   "outputs": [],
   "source": []
  }
 ],
 "metadata": {
  "kernelspec": {
   "display_name": "ROOT C++",
   "language": "c++",
   "name": "root"
  },
  "language_info": {
   "codemirror_mode": "text/x-c++src",
   "file_extension": ".C",
   "mimetype": " text/x-c++src",
   "name": "c++"
  }
 },
 "nbformat": 4,
 "nbformat_minor": 2
}
