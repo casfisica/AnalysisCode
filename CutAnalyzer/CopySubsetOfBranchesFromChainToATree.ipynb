{
 "cells": [
  {
   "cell_type": "code",
   "execution_count": null,
   "metadata": {},
   "outputs": [],
   "source": [
    "/*!!!!!!!!!!!!!!!!!!!!!!!!!!!!!!!!!!!!!!!!!!!!!!!!!!!!!!!!!!!!!!!!!!!!!!*/\n",
    "/*                                                                      */\n",
    "/*To use this script, first you have to sourse the LocalConfig.sh file. */\n",
    "/*                                                                      */\n",
    "/*!!!!!!!!!!!!!!!!!!!!!!!!!!!!!!!!!!!!!!!!!!!!!!!!!!!!!!!!!!!!!!!!!!!!!!*/"
   ]
  },
  {
   "cell_type": "code",
   "execution_count": null,
   "metadata": {},
   "outputs": [],
   "source": [
    "gSystem->Load(\"/home/camilo/HEPTools/MADGRAPH/MG5_aMC_v2_5_5_Root6/Delphes/libDelphes.so\");"
   ]
  },
  {
   "cell_type": "code",
   "execution_count": null,
   "metadata": {},
   "outputs": [],
   "source": [
    "TChain chain(\"Delphes\");\n",
    "chain.AddFile(\"/home/camilo/cms/Scripts_MadGraph_VLFTEO/Datos/BackGround-WJetTau/Events/run_01/tag_1_delphes_events.root\")"
   ]
  },
  {
   "cell_type": "code",
   "execution_count": null,
   "metadata": {},
   "outputs": [],
   "source": [
    "//Create a new file + a clone of old tree in new file\n",
    "TFile *newfile = new TFile(\"small.root\",\"recreate\");\n",
    "TTree *newtree = chain.CloneTree(0);"
   ]
  },
  {
   "cell_type": "code",
   "execution_count": null,
   "metadata": {},
   "outputs": [],
   "source": [
    "// Create object of class ExRootTreeReader\n",
    "ExRootTreeReader *treeReader = new ExRootTreeReader(&chain);"
   ]
  },
  {
   "cell_type": "code",
   "execution_count": null,
   "metadata": {},
   "outputs": [],
   "source": [
    "// Get pointers to branches used in this analysis\n",
    "TClonesArray *branchJet = treeReader->UseBranch(\"Jet\");\n",
    "TClonesArray *branchMuon = treeReader->UseBranch(\"Muon\");\n",
    "TClonesArray *branchMissingET = treeReader->UseBranch(\"MissingET\");\n",
    "TClonesArray *branchTrack = treeReader->UseBranch(\"Track\");"
   ]
  },
  {
   "cell_type": "code",
   "execution_count": null,
   "metadata": {},
   "outputs": [],
   "source": [
    "// now do the loop\n",
    "  Long64_t allEntries = treeReader->GetEntries(); \n",
    "  for(Long64_t currentevent = 0; currentevent < allEntries; currentevent++)\n",
    "    {\n",
    "        treeReader->ReadEntry(currentevent);\n",
    "        Track *track = (Track *)branchTrack->At(0);\n",
    "      // If event contains at least 1 jet\n",
    "        if((branchJet->GetEntries() > 0)){\n",
    "           //std::cout<<\"Good\"<<std::endl;\n",
    "            newtree->Fill(); \n",
    "        }         \n",
    "  } // end event loop"
   ]
  },
  {
   "cell_type": "code",
   "execution_count": null,
   "metadata": {},
   "outputs": [],
   "source": [
    "//newfile->Write();\n",
    "//delete newfile;"
   ]
  },
  {
   "cell_type": "code",
   "execution_count": null,
   "metadata": {},
   "outputs": [],
   "source": [
    "chain->SetBranchStatus(\"*\", 0);"
   ]
  },
  {
   "cell_type": "code",
   "execution_count": null,
   "metadata": {},
   "outputs": [],
   "source": []
  }
 ],
 "metadata": {
  "kernelspec": {
   "display_name": "ROOT C++",
   "language": "c++",
   "name": "root"
  },
  "language_info": {
   "codemirror_mode": "text/x-c++src",
   "file_extension": ".C",
   "mimetype": " text/x-c++src",
   "name": "c++"
  }
 },
 "nbformat": 4,
 "nbformat_minor": 2
}
