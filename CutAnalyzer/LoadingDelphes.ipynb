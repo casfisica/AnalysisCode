{
 "cells": [
  {
   "cell_type": "code",
   "execution_count": 1,
   "metadata": {},
   "outputs": [
    {
     "name": "stderr",
     "output_type": "stream",
     "text": [
      "In file included from input_line_29:11:\n",
      "\u001b[1m/home/camilo/HEPTools/DELPHES/Delphes_3_2_0_R6/external/ExRootAnalysis/ExRootTask.h:14:10: \u001b[0m\u001b[0;1;31mfatal error: \u001b[0m\u001b[1m'ExRootAnalysis/ExRootConfReader.h' file not found\u001b[0m\n",
      "#include \"ExRootAnalysis/ExRootConfReader.h\"\n",
      "\u001b[0;1;32m         ^~~~~~~~~~~~~~~~~~~~~~~~~~~~~~~~~~~\n",
      "\u001b[0m"
     ]
    }
   ],
   "source": [
    "#include \"classes/DelphesClasses.h\"\n",
    "#include \"external/ExRootAnalysis/ExRootTreeReader.h\"\n",
    "#include \"external/ExRootAnalysis/ExRootTreeWriter.h\"\n",
    "#include \"external/ExRootAnalysis/ExRootTreeBranch.h\"\n",
    "#include \"external/ExRootAnalysis/ExRootResult.h\"\n",
    "#include \"external/ExRootAnalysis/ExRootClassifier.h\"\n",
    "#include \"external/ExRootAnalysis/ExRootFilter.h\"\n",
    "#include \"external/ExRootAnalysis/ExRootProgressBar.h\"\n",
    "#include \"external/ExRootAnalysis/ExRootConfReader.h\"\n",
    "#include \"external/ExRootAnalysis/ExRootConfReader.h\"\n",
    "#include \"external/ExRootAnalysis/ExRootTask.h\""
   ]
  },
  {
   "cell_type": "code",
   "execution_count": 2,
   "metadata": {},
   "outputs": [
    {
     "name": "stderr",
     "output_type": "stream",
     "text": [
      "Error in cling::AutoloadingVisitor::InsertIntoAutoloadingState:\n",
      "   Missing FileEntry for ExRootAnalysis/ExRootTreeReader.h\n",
      "   requested to autoload type ExRootTreeReader\n",
      "Error in cling::AutoloadingVisitor::InsertIntoAutoloadingState:\n",
      "   Missing FileEntry for ExRootAnalysis/ExRootTreeWriter.h\n",
      "   requested to autoload type ExRootTreeWriter\n",
      "Error in cling::AutoloadingVisitor::InsertIntoAutoloadingState:\n",
      "   Missing FileEntry for ExRootAnalysis/ExRootTreeBranch.h\n",
      "   requested to autoload type ExRootTreeBranch\n",
      "Error in cling::AutoloadingVisitor::InsertIntoAutoloadingState:\n",
      "   Missing FileEntry for ExRootAnalysis/ExRootResult.h\n",
      "   requested to autoload type ExRootResult\n",
      "Error in cling::AutoloadingVisitor::InsertIntoAutoloadingState:\n",
      "   Missing FileEntry for ExRootAnalysis/ExRootClassifier.h\n",
      "   requested to autoload type ExRootClassifier\n",
      "Error in cling::AutoloadingVisitor::InsertIntoAutoloadingState:\n",
      "   Missing FileEntry for ExRootAnalysis/ExRootFilter.h\n",
      "   requested to autoload type ExRootFilter\n",
      "Error in cling::AutoloadingVisitor::InsertIntoAutoloadingState:\n",
      "   Missing FileEntry for ExRootAnalysis/ExRootProgressBar.h\n",
      "   requested to autoload type ExRootProgressBar\n",
      "Error in cling::AutoloadingVisitor::InsertIntoAutoloadingState:\n",
      "   Missing FileEntry for ExRootAnalysis/ExRootConfReader.h\n",
      "   requested to autoload type ExRootConfParam\n",
      "Error in cling::AutoloadingVisitor::InsertIntoAutoloadingState:\n",
      "   Missing FileEntry for ExRootAnalysis/ExRootConfReader.h\n",
      "   requested to autoload type ExRootConfReader\n",
      "Error in cling::AutoloadingVisitor::InsertIntoAutoloadingState:\n",
      "   Missing FileEntry for ExRootAnalysis/ExRootTask.h\n",
      "   requested to autoload type ExRootTask\n"
     ]
    }
   ],
   "source": [
    "gSystem->Load(\"/home/camilo/HEPTools/DELPHES/Delphes_3_2_0_R6/libDelphes.so\");"
   ]
  },
  {
   "cell_type": "code",
   "execution_count": null,
   "metadata": {},
   "outputs": [],
   "source": []
  }
 ],
 "metadata": {
  "kernelspec": {
   "display_name": "ROOT C++",
   "language": "c++",
   "name": "root"
  },
  "language_info": {
   "codemirror_mode": "text/x-c++src",
   "file_extension": ".C",
   "mimetype": " text/x-c++src",
   "name": "c++"
  }
 },
 "nbformat": 4,
 "nbformat_minor": 2
}
