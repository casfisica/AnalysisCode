{
 "cells": [
  {
   "cell_type": "code",
   "execution_count": 1,
   "metadata": {},
   "outputs": [
    {
     "name": "stdout",
     "output_type": "stream",
     "text": [
      "Welcome to JupyROOT 6.15/01\n"
     ]
    }
   ],
   "source": [
    "#from IPython.core.interactiveshell import InteractiveShell\n",
    "import ROOT\n",
    "import os\n",
    "import commands\n",
    "import math\n",
    "import pickle"
   ]
  },
  {
   "cell_type": "code",
   "execution_count": 2,
   "metadata": {},
   "outputs": [],
   "source": [
    "ROOT.gROOT.ProcessLine(\"#include <math.h>\");\n",
    "ROOT.gSystem.Load(\"libDelphes\");"
   ]
  },
  {
   "cell_type": "code",
   "execution_count": 3,
   "metadata": {},
   "outputs": [],
   "source": [
    "from CutAnalyzer_lib import save_obj"
   ]
  },
  {
   "cell_type": "code",
   "execution_count": 4,
   "metadata": {},
   "outputs": [],
   "source": [
    "%jsroot on"
   ]
  },
  {
   "cell_type": "code",
   "execution_count": 5,
   "metadata": {},
   "outputs": [],
   "source": [
    "#If input samples is a list use 0 if is just one file use 1 on TSam variable\n",
    "def ChainConstructor(path, ListOfFolders):\n",
    "    DTrees={};\n",
    "    for Folder in ListOfFolders:\n",
    "        #Path=path+Folder+\"/*_events1.root\"\n",
    "        Path=path+Folder+\"/*.root\"\n",
    "        MainChain=ROOT.TChain(\"Delphes\");\n",
    "        MainChain.Add(Path)\n",
    "        print \"add \", Path\n",
    "        DTrees[Folder]=MainChain;\n",
    "    return DTrees"
   ]
  },
  {
   "cell_type": "code",
   "execution_count": 6,
   "metadata": {},
   "outputs": [],
   "source": [
    "#The backgrounds\n",
    "#Path1= \"/home/rsiii/SSSFDM/VLF/Background/\"; \n",
    "Path1= \"/home/camilo/cms/Scripts_MadGraph_VLFTEO/Datos/BackGround-llW/Events/\"\n",
    "ListOfFolders = [\"run_01\",\"run_02\"];\n",
    "#The Signal\n",
    "Path2= \"/home/camilo/cms/Scripts_MadGraph_VLFTEO/Datos/BackGround-tW/Events\"; \n",
    "FolderSignal=[\"run_01\",\"run_02\"];"
   ]
  },
  {
   "cell_type": "code",
   "execution_count": 8,
   "metadata": {},
   "outputs": [
    {
     "data": {
      "text/plain": [
       "{'run_01': <ROOT.TChain object (\"Delphes\") at 0x55761a3cf1b0>,\n",
       " 'run_02': <ROOT.TChain object (\"Delphes\") at 0x557617fee140>}"
      ]
     },
     "execution_count": 8,
     "metadata": {},
     "output_type": "execute_result"
    }
   ],
   "source": [
    "DBack"
   ]
  },
  {
   "cell_type": "code",
   "execution_count": 9,
   "metadata": {},
   "outputs": [
    {
     "name": "stdout",
     "output_type": "stream",
     "text": [
      "add  /home/camilo/cms/Scripts_MadGraph_VLFTEO/Datos/BackGround-llW/Events/run_01/*.root\n",
      "add  /home/camilo/cms/Scripts_MadGraph_VLFTEO/Datos/BackGround-llW/Events/run_02/*.root\n",
      "add  /home/camilo/cms/Scripts_MadGraph_VLFTEO/Datos/BackGround-tW/Eventsrun_01/*.root\n",
      "add  /home/camilo/cms/Scripts_MadGraph_VLFTEO/Datos/BackGround-tW/Eventsrun_02/*.root\n"
     ]
    }
   ],
   "source": [
    "DBack={}\n",
    "DTrees={}\n",
    "DSignal={}\n",
    "DBack=ChainConstructor(Path1,ListOfFolders)\n",
    "DSignal=ChainConstructor(Path2,FolderSignal)\n",
    "DTrees[\"BckgndW+Jets\"]=DBack[\"run_01\"]\n",
    "#DTrees[\"BckgndSingleTop\"]=DBack[\"singletop\"]\n",
    "DTrees[\"Signal\"]=DSignal[\"run_01\"]"
   ]
  },
  {
   "cell_type": "code",
   "execution_count": 10,
   "metadata": {},
   "outputs": [],
   "source": [
    "LsOfCuts={\n",
    "            \"Jet\":\n",
    "                {\n",
    "                    #Leading Jet PT greater than 60GeV, and all of them less than 100\n",
    "                    \"PT\":[(0,\">60\"), \"<100\"],\n",
    "                    \"Entries\":[\">1\",\"<3\"]\n",
    "                },\n",
    "            \"Muon\":\n",
    "                {\n",
    "                    #Leading Muon PT greater than 5GeV\n",
    "                    \"PT\":[(0,\">5\")],\n",
    "                    #number of Muon equal to one\n",
    "                    \"Entries\":[\"==1\"]\n",
    "                },\n",
    "            \"MissingET\":\n",
    "                {\n",
    "                    #\n",
    "                    \"MET\":[\">60\"]\n",
    "                }\n",
    "        }"
   ]
  },
  {
   "cell_type": "code",
   "execution_count": null,
   "metadata": {},
   "outputs": [],
   "source": [
    "LsOfCuts={\n",
    "            \"Jet\":\n",
    "                {\n",
    "                    #Leading Jet PT greater than 60GeV, and all of them less than 100\n",
    "                    \"PT\":[(0,\">60\")]\n",
    "                },\n",
    "            \"Muon\":\n",
    "                {\n",
    "                    #Leading Muon PT greater than 5GeV\n",
    "                    \"PT\":[(0,\">5\")],\n",
    "                    #number of Muon equal to one\n",
    "                    \"Entries\":[\"==1\"]\n",
    "                },\n",
    "            \"MissingET\":\n",
    "                {\n",
    "                    #\n",
    "                    \"MET\":[\">60\"]\n",
    "                }\n",
    "        }"
   ]
  },
  {
   "cell_type": "code",
   "execution_count": 11,
   "metadata": {},
   "outputs": [
    {
     "data": {
      "text/plain": [
       "{'Jet': {'Entries': ['>1', '<3'], 'PT': [(0, '>60'), '<100']},\n",
       " 'MissingET': {'MET': ['>60']},\n",
       " 'Muon': {'Entries': ['==1'], 'PT': [(0, '>5')]}}"
      ]
     },
     "execution_count": 11,
     "metadata": {},
     "output_type": "execute_result"
    }
   ],
   "source": [
    "LsOfCuts"
   ]
  },
  {
   "cell_type": "code",
   "execution_count": 12,
   "metadata": {},
   "outputs": [],
   "source": [
    "Chain=DTrees[\"Signal\"]"
   ]
  },
  {
   "cell_type": "code",
   "execution_count": 13,
   "metadata": {},
   "outputs": [],
   "source": [
    "LsOfPOandVOI={\n",
    "                \"Jet\":[(0,\"PT\"),(1,\"PT\"),\"Entries\"],\n",
    "                \"Muon\":[(0,\"PT\"),\"Entries\"],\n",
    "                \"MissingET\":[\"MET\"]\n",
    "                }"
   ]
  },
  {
   "cell_type": "code",
   "execution_count": 14,
   "metadata": {},
   "outputs": [
    {
     "data": {
      "text/plain": [
       "{'Jet': [(0, 'PT'), (1, 'PT'), 'Entries'],\n",
       " 'MissingET': ['MET'],\n",
       " 'Muon': [(0, 'PT'), 'Entries']}"
      ]
     },
     "execution_count": 14,
     "metadata": {},
     "output_type": "execute_result"
    }
   ],
   "source": [
    "LsOfPOandVOI"
   ]
  },
  {
   "cell_type": "code",
   "execution_count": 19,
   "metadata": {},
   "outputs": [],
   "source": [
    "Debug=False\n",
    "Debug=True"
   ]
  },
  {
   "cell_type": "code",
   "execution_count": 20,
   "metadata": {},
   "outputs": [
    {
     "name": "stdout",
     "output_type": "stream",
     "text": [
      "** WARNING: cannot access branch 'Muon', return NULL pointer\n",
      "** WARNING: cannot access branch 'MissingET', return NULL pointer\n",
      "** WARNING: cannot access branch 'Jet', return NULL pointer\n"
     ]
    }
   ],
   "source": [
    "    #CutFlow dictionary, to keep the track of the cuts the events pass or fail \n",
    "    CutFlow={}\n",
    "    #Set the deafault cutflow \n",
    "    CutFlowUser=[]\n",
    "    PhOb=LsOfCuts.keys()\n",
    "    #print \"PhOb\", PhOb\n",
    "    #If is empty return error\n",
    "    for i in PhOb:\n",
    "        VaOfIn=LsOfCuts[i]\n",
    "        #If is empty return error\n",
    "        #print VaOfIn\n",
    "        Cuts=VaOfIn.keys()\n",
    "        #If is empty return error\n",
    "        #print \"Cuts\", Cuts\n",
    "        for j in Cuts:\n",
    "            cut_base=VaOfIn[j]\n",
    "            for cut_ in cut_base:\n",
    "                if isinstance(cut_, tuple):\n",
    "                    #print i+j+cut_[1]\n",
    "                    CutFlowUser.append(\"Count_\"+i+\"[\"+str(cut_[0])+\"]\"+j+cut_[1])\n",
    "                else:\n",
    "                    #print i+j+cut_\n",
    "                    if i==\"Jet\" or i==\"Muon\" or i==\"Electron\" or i==\"Photon\":\n",
    "                        if j != \"Entries\":\n",
    "                            CutFlowUser.append(\"Count_\"+i+\"[0]\"+j+cut_)\n",
    "                        else:\n",
    "                            CutFlowUser.append(\"Count_\"+i+j+cut_)\n",
    "                    else:\n",
    "                        CutFlowUser.append(\"Count_\"+i+j+cut_)\n",
    "    #If the cutflow have this number of Trues entries \n",
    "    Validationlen=len(CutFlowUser)\n",
    "    \n",
    "    \n",
    "    #Create the plots\n",
    "    Histograms={}\n",
    "    CutUserFlagsObj= LsOfPOandVOI.keys()\n",
    "    \n",
    "    #The ExRootTreeReader objet\n",
    "    treeReader = ROOT.ExRootTreeReader(Chain)\n",
    "    numberOfEntries = treeReader.GetEntries()\n",
    "        \n",
    "   \n",
    "    counts={}\n",
    "    #PhOb=LsOfCuts.keys()\n",
    "    PhyObj={}\n",
    "    #Branches=[\"Jet\",\"Muon\",\"MissingET\",\"ScalarHT\",\"Photon\",\"Electron\"]\n",
    "    #get the branches I am going to use\n",
    "    for branch in PhOb:\n",
    "        PhyObj[branch] = treeReader.UseBranch(branch)\n",
    "        \n",
    "    # Loop over events\n",
    "    for entry in range(0, numberOfEntries):\n",
    "        if Debug: \n",
    "            if entry==100:\n",
    "                break\n",
    "        flags={}\n",
    "        #Get the entry\n",
    "        treeReader.ReadEntry(entry)\n",
    "        \n",
    "        # Cuts over jets\n",
    "        if LsOfCuts.has_key('Jet'):                         #Cuts over Jets?\n",
    "            if Debug:\n",
    "                print \"Jet\"\n",
    "            if PhyObj[\"Jet\"].GetEntries() > 0:              #There are any Jets in the data\n",
    "                VaOfIn=LsOfCuts['Jet']                      #Which cuts over jets\n",
    "                \n",
    "                if VaOfIn.has_key('Entries'):\n",
    "                    if Debug:\n",
    "                        print \"Entries\"\n",
    "                    Cuts=VaOfIn['Entries']\n",
    "                    for cut_ in Cuts:               #run over all the Entries cuts \n",
    "                        flag=False\n",
    "                        filt=cut_\n",
    "                        #Evaluate the condition\n",
    "                        mycode=\"flag = True if PhyObj['Jet'].GetEntries() \"+filt+\" else False\" \n",
    "                        if Debug:\n",
    "                            print mycode\n",
    "                        exec(mycode)\n",
    "                        name=\"Count_JetEntries\"+filt\n",
    "                        if flag:\n",
    "                            if Debug:\n",
    "                                print \"Pass: \"+filt\n",
    "                            #Counts\n",
    "                            if counts.has_key(name):\n",
    "                                counts[name] += 1\n",
    "                            else:\n",
    "                                counts[name] = 1\n",
    "                        #CutFlow    \n",
    "                            flags[name] = True  \n",
    "                        else:\n",
    "                            if Debug:\n",
    "                                print \"Fail: \"+filt\n",
    "                            flags[name] = False \n",
    "                                            \n",
    "                if VaOfIn.has_key('PT') and PhyObj[\"Jet\"].GetEntries() > 0:                    #If ther are cut over PT\n",
    "                    if Debug:\n",
    "                        print \"PT\"\n",
    "                    Cuts=VaOfIn['PT']\n",
    "                    for cut_ in Cuts:               #run over all the PT cuts \n",
    "                        if isinstance(cut_, tuple):     #See if is tuple\n",
    "                            if Debug:\n",
    "                                print \"Tuple\"\n",
    "                            flag=False\n",
    "                            filt=cut_[1]\n",
    "                            #See if there are enough entries to evaluate\n",
    "                            if(PhyObj[\"Jet\"].GetEntries() > cut_[0]):\n",
    "                                jet= PhyObj[\"Jet\"].At(cut_[0])\n",
    "                                #Evaluate the condition\n",
    "                                mycode=\"flag = True if jet.PT \"+filt+\" else False\" \n",
    "                                exec(mycode)\n",
    "                                name=\"Count_Jet[\"+str(cut_[0])+\"]PT\"+cut_[1]   \n",
    "                            if flag:                    #Counts\n",
    "                                if counts.has_key(name):\n",
    "                                    counts[name] += 1\n",
    "                                else:\n",
    "                                    counts[name] = 1\n",
    "                                #CutFlow    \n",
    "                                flags[name] = True  \n",
    "                            else:\n",
    "                                flags[name] = False \n",
    "                            \n",
    "                        else:           #Evaluate the condition for the avaible jets \n",
    "                            for l in range(0, PhyObj[\"Jet\"].GetEntries() ):\n",
    "                                jet = PhyObj[\"Jet\"].At(l)\n",
    "                                flag=False\n",
    "                                filt=cut_\n",
    "                                #Evaluate the condition\n",
    "                                mycode=\"flag = True if jet.PT \"+filt+\" else False\" \n",
    "                                exec(mycode)\n",
    "                                name=\"Count_Jet[\"+str(l)+\"]PT\"+filt\n",
    "                                if flag:                    #Counts\n",
    "                                    if counts.has_key(name):\n",
    "                                        counts[name] += 1\n",
    "                                    else:\n",
    "                                        counts[name] = 1\n",
    "                                #CutFlow    \n",
    "                                    flags[name] = True  \n",
    "                                else:\n",
    "                                    flags[name] = False\n",
    "                \n",
    "                if VaOfIn.has_key('Eta'):\n",
    "                    print \"Jet Eta Not implementet yet\"\n",
    "                if VaOfIn.has_key('Phi'):\n",
    "                    print \"Jet Phi Not implementet yet\"\n",
    "                if VaOfIn.has_key('Mass'):\n",
    "                    print \"Jet Mass Not implementet yet\"\n",
    "                if VaOfIn.has_key('Flavor'):\n",
    "                    print \"Jet Flavor Not implementet yet\"\n",
    "                if VaOfIn.has_key('FlavorAlgo'):\n",
    "                    print \"Jet FlavorAlgo Not implementet yet\"\n",
    "                if VaOfIn.has_key('FlavorPhys'):\n",
    "                    print \"Jet FlavorPhys Not implementet yet\"\n",
    "                if VaOfIn.has_key('BTag'):\n",
    "                    print \"Not BTag implementet yet\"\n",
    "                if VaOfIn.has_key('BTagAlgo'):\n",
    "                    print \"Jet BTagAlgo Not implementet yet\"\n",
    "                if VaOfIn.has_key('BTagPhys'):\n",
    "                    print \"Jet BTagPhys Not implementet yet\"\n",
    "                if VaOfIn.has_key('TauTag'):\n",
    "                    print \"Jet TauTag Not implementet yet\"\n",
    "                if VaOfIn.has_key('Charge'):\n",
    "                    print \"Jet Charge Not implementet yet\"\n",
    "                if VaOfIn.has_key('EhadOverEem'):\n",
    "                    print \"Jet EhadOverEem Not implementet yet\"\n",
    "                if VaOfIn.has_key('NCharged'):\n",
    "                    print \"Jet NCharged Not implementet yet\"\n",
    "                if VaOfIn.has_key('NNeutrals'):\n",
    "                    print \"Jet NNeutrals Not implementet yet\"\n",
    "            #END IF JETS >0\n",
    "        #END IF JET KEY\n",
    "\n",
    "        \n",
    "        # Cuts over Leptons and Photons\n",
    "        # Made general\n",
    "        #creo una lista de keys de leptones y corro sobre la lista\n",
    "        \"\"\"\n",
    "        Entries\tNumber of Muons in the event\n",
    "        PT\tmuon transverse momentum\n",
    "        Eta\tmuon pseudorapidity\n",
    "        Phi\tmuon azimuthal angle\n",
    "        T\tparticle arrival time of flight\n",
    "        Charge\tmuon charge\n",
    "        Particle\treference to generated particle\n",
    "        IsolationVar\tisolation variable\n",
    "        IsolationVarRhoCorr\tisolation variable\n",
    "        SumPtCharged\tisolation variable\n",
    "        SumPtNeutral\tisolation variable\n",
    "        SumPtChargedPU\tisolation variable\n",
    "        SumPt\tisolation variable\n",
    "        \"\"\"\n",
    "        if LsOfCuts.has_key('Muon'): \n",
    "            VaOfIn=LsOfCuts['Muon']                      #Which cuts over jets\n",
    "            if VaOfIn.has_key('Entries'):\n",
    "                Cuts=VaOfIn['Entries']\n",
    "                for cut_ in Cuts:               #run over all the Entries cuts \n",
    "                    flag=False\n",
    "                    filt=cut_\n",
    "                    #Evaluate the condition\n",
    "                    mycode=\"flag = True if PhyObj['Muon'].GetEntries() \"+filt+\" else False\" \n",
    "                    exec(mycode)\n",
    "                    name=\"Count_MuonEntries\"+filt\n",
    "                    if flag:                    #Counts\n",
    "                        if counts.has_key(name):\n",
    "                            counts[name] += 1\n",
    "                        else:\n",
    "                            counts[name] = 1\n",
    "                    #CutFlow    \n",
    "                        flags[name] = True  \n",
    "                    else:\n",
    "                        flags[name] = False        \n",
    "                            \n",
    "            if VaOfIn.has_key('PT') and PhyObj[\"Muon\"].GetEntries() > 0:        #If ther are cut over PT\n",
    "                Cuts=VaOfIn['PT']\n",
    "                for cut_ in Cuts:               #run over all the PT cuts \n",
    "                    if isinstance(cut_, tuple):     #See if is tuple\n",
    "                        flag=False\n",
    "                        filt=cut_[1]\n",
    "                        #See if there are enough entries to evaluate\n",
    "                        if(PhyObj[\"Muon\"].GetEntries() > cut_[0]):\n",
    "                            muon= PhyObj[\"Muon\"].At(cut_[0])\n",
    "                            #Evaluate the condition\n",
    "                            mycode=\"flag = True if muon.PT \"+filt+\" else False\" \n",
    "                            exec(mycode)\n",
    "                            name=\"Count_Muon[\"+str(cut_[0])+\"]PT\"+cut_[1]\n",
    "                        if flag:                    #Counts\n",
    "                            if counts.has_key(name):\n",
    "                                counts[name] += 1\n",
    "                            else:\n",
    "                                counts[name] = 1\n",
    "                        #CutFlow    \n",
    "                            flags[name] = True  \n",
    "                        else:\n",
    "                            flags[name] = False     \n",
    "                                \n",
    "                    else:           #Evaluate the condition for the avaible jets \n",
    "                        for l in range(0, PhyObj[\"Muon\"].GetEntries() ):\n",
    "                            muon = PhyObj[\"Muon\"].At(l)\n",
    "                            flag=False\n",
    "                            filt=cut_\n",
    "                            #Evaluate the condition\n",
    "                            mycode=\"flag = True if muon.PT \"+filt+\" else False\" \n",
    "                            exec(mycode)\n",
    "                            name=\"Count_Muon[\"+str(l)+\"]PT\"+filt\n",
    "                            if flag:                    #Counts\n",
    "                                if counts.has_key(name):\n",
    "                                    counts[name] += 1\n",
    "                                else:\n",
    "                                    counts[name] = 1\n",
    "                            #CutFlow    \n",
    "                                flags[name] = True  \n",
    "                            else:\n",
    "                                flags[name] = False       \n",
    "                                    \n",
    "     \n",
    "            if VaOfIn.has_key('Eta'):\n",
    "                print \"Muon  Not implementet yet\"\n",
    "            if VaOfIn.has_key('Phi'):\n",
    "                print \"Muon  Not implementet yet\"\n",
    "            if VaOfIn.has_key('T'):\n",
    "                print \"Muon  Not implementet yet\"\n",
    "            if VaOfIn.has_key('Charge'):\n",
    "                print \"Muon  Not implementet yet\"\n",
    "            if VaOfIn.has_key('Particle'):\n",
    "                print \"Muon  Not implementet yet\"\n",
    "            if VaOfIn.has_key('IsolationVar'):\n",
    "                print \"Muon  Not implementet yet\"\n",
    "            if VaOfIn.has_key('IsolationVarRhoCorr'):\n",
    "                print \"Muon  Not implementet yet\"\n",
    "            if VaOfIn.has_key('SumPtCharged'):\n",
    "                print \"Muon  Not implementet yet\"\n",
    "            if VaOfIn.has_key('SumPtNeutral'):\n",
    "                print \"Muon  Not implementet yet\"\n",
    "            if VaOfIn.has_key('SumPtChargedPU'):\n",
    "                print \"Muon  Not implementet yet\"\n",
    "            if VaOfIn.has_key('SumPt'):\n",
    "                print \"Muon  Not implementet yet\"\n",
    "         \n",
    "        \n",
    "        # Cuts over MET\n",
    "        \"\"\" \n",
    "        MET\tmising transverse energy\n",
    "        Eta\tmising energy pseudorapidity\n",
    "        Phi\tmising energy azimuthal angle\n",
    "        \"\"\"\n",
    "        if LsOfCuts.has_key('MissingET'):                   #Cuts over MissingET?\n",
    "            VaOfIn=LsOfCuts['MissingET']                      #Which cuts over jets\n",
    "            if VaOfIn.has_key('MET') and PhyObj[\"MissingET\"].GetEntries() > 0:        #If ther are cut over PT\n",
    "                Cuts=VaOfIn['MET']\n",
    "                for cut_ in Cuts:               #run over all the PT cuts \n",
    "                    flag=False\n",
    "                    filt=cut_\n",
    "                    met= PhyObj[\"MissingET\"].At(0)\n",
    "                    #Evaluate the condition\n",
    "                    mycode=\"flag = True if met.MET \"+filt+\" else False\" \n",
    "                    exec(mycode)\n",
    "                    name=\"Count_MissingETMET\"+filt\n",
    "                    if flag:                    #Counts\n",
    "                        if counts.has_key(name):\n",
    "                            counts[name] += 1\n",
    "                        else:\n",
    "                            counts[name] = 1     \n",
    "                        #CutFlow    \n",
    "                        flags[name] = True  \n",
    "                    else:\n",
    "                        flags[name] = False      \n",
    "\n",
    "            if VaOfIn.has_key('Eta'):\n",
    "                print \"MissingET Eta Not implementet yet\"\n",
    "            if VaOfIn.has_key('Phi'):\n",
    "                print \"MissingET Phi Not implementet yet\"\n",
    "\n",
    "       \n",
    "\n",
    "        #Calue vector, see how many of the conditions are fulfilled\n",
    "        value=[]\n",
    "        flagFlow={}\n",
    "        if Debug:\n",
    "            print \"\\n FlagFLOW...\"\n",
    "        for i in CutFlowUser:\n",
    "            if Debug:\n",
    "                print \"CutFlowUser\"+i\n",
    "            if flags.has_key(i):\n",
    "                if Debug:\n",
    "                    print \"Flag: \"+str(flags[i])\n",
    "                if flags[i]:\n",
    "                    value.append(True)\n",
    "                    flagFlow[i]=True\n",
    "                else:\n",
    "                    value.append(False)\n",
    "                    flagFlow[i]=False\n",
    "            else:\n",
    "                value.append(False)\n",
    "                flagFlow[i]=False\n",
    "        \n",
    "        #Sumary of all\n",
    "        CutFlow[entry]=flagFlow\n",
    "        \n",
    "        #Fill the histograms\n",
    "        if Debug:\n",
    "            print \"Filling the Histograms...\"\n",
    "        if sum(value)==Validationlen:\n",
    "            if Debug:\n",
    "                print \"Pass\"\n",
    "            for m in CutUserFlagsObj:\n",
    "                if Debug:\n",
    "                    print \"\\nObjet: \"+m\n",
    "                for l in range(len(LsOfPOandVOI[m])):\n",
    "                    if Debug:\n",
    "                        print \"Variable Of Interes: \"+str(LsOfPOandVOI[m][l])\n",
    "                    tmpval=0\n",
    "                    tmpval1=0\n",
    "                    tmpval2=0\n",
    "                    if isinstance(LsOfPOandVOI[m][l], tuple):\n",
    "                        if Debug:\n",
    "                            print \"Tuple\"\n",
    "                        name=m+\"[\"+str(LsOfPOandVOI[m][l][0])+\"]\"+LsOfPOandVOI[m][l][1]\n",
    "                        tmpval1=\"tmpval = PhyObj['\"+m+\"'].At(\"+str(LsOfPOandVOI[m][l][0])+\")\"\n",
    "                        exec(tmpval1)\n",
    "                        mycode=\"tmpval2 = tmpval.\"+LsOfPOandVOI[m][l][1]\n",
    "                        if Debug:\n",
    "                            print \"name: \"+name\n",
    "                            print \"Command: \"+mycode\n",
    "                        try:   \n",
    "                            exec(mycode)\n",
    "                        except AttributeError:\n",
    "                            tmpval2=0\n",
    "                        if Histograms.has_key(name)==False:\n",
    "                            Histograms[name]=ROOT.TH1F()\n",
    "                            Histograms[name].SetName(name)\n",
    "                            Histograms[name].SetTitle(name)\n",
    "                        Histograms[name].Fill(tmpval2)\n",
    "                        \n",
    "                    else:\n",
    "                        if m==\"Jet\" or m==\"Muon\" or m==\"Electron\" or m==\"Photon\":\n",
    "                            if LsOfPOandVOI[m][l] != \"Entries\":\n",
    "                                name=m+\"[0]\"+LsOfPOandVOI[m][l]\n",
    "                                tmpval1=\"tmpval = PhyObj['\"+m+\"'].At(0)\"\n",
    "                                exec(tmpval1)\n",
    "                                mycode=\"tmpval2 = tmpval.\"+LsOfPOandVOI[m][l]\n",
    "                                if Debug:\n",
    "                                    print \"name: \"+name\n",
    "                                    print \"Command: \"+mycode\n",
    "                                try:   \n",
    "                                    exec(mycode)\n",
    "                                except AttributeError:\n",
    "                                    tmpval2=0\n",
    "                                if Histograms.has_key(name)==False:\n",
    "                                    Histograms[name]=ROOT.TH1F()\n",
    "                                    Histograms[name].SetName(name)\n",
    "                                    Histograms[name].SetTitle(name)\n",
    "                                Histograms[name].Fill(tmpval2)    \n",
    "                            else:\n",
    "                                name=m+LsOfPOandVOI[m][l]\n",
    "                                mycode=\"tmpval2 = PhyObj['\"+m+\"'].Get\"+LsOfPOandVOI[m][l]+\"()\"\n",
    "                                if Debug:\n",
    "                                    print \"name: \"+name\n",
    "                                    print \"Command: \"+mycode\n",
    "                                try:   \n",
    "                                    exec(mycode)\n",
    "                                except AttributeError:\n",
    "                                    tmpval2=0\n",
    "                                if Histograms.has_key(name)==False:\n",
    "                                    Histograms[name]=ROOT.TH1F()\n",
    "                                    Histograms[name].SetName(name)\n",
    "                                    Histograms[name].SetTitle(name)\n",
    "                                Histograms[name].Fill(tmpval2)\n",
    "                        else:\n",
    "                            if m==\"MissingET\":\n",
    "                                name=m+LsOfPOandVOI[m][l]\n",
    "                                tmpval1=\"tmpval = PhyObj['\"+m+\"']\"\n",
    "                                exec(tmpval1)\n",
    "                                mycode=\"tmpval2 = tmpval.At(0).\"+LsOfPOandVOI[m][l]\n",
    "                                if Debug:\n",
    "                                    print \"name: \"+name\n",
    "                                    print \"Command: \"+mycode\n",
    "                                try:   \n",
    "                                    exec(mycode)\n",
    "                                except AttributeError:\n",
    "                                    tmpval2=0\n",
    "                                if Histograms.has_key(name)==False:\n",
    "                                    Histograms[name]=ROOT.TH1F()\n",
    "                                    Histograms[name].SetName(name)\n",
    "                                    Histograms[name].SetTitle(name)\n",
    "                                Histograms[name].Fill(tmpval2)\n",
    "                            else:\n",
    "                                name=m+LsOfPOandVOI[m][l]\n",
    "                                tmpval1=\"tmpval = PhyObj['\"+m+\"']\"\n",
    "                                exec(tmpval1)\n",
    "                                mycode=\"tmpval2 = tmpval.\"+LsOfPOandVOI[m][l]\n",
    "                                if Debug:\n",
    "                                    print \"name: \"+name\n",
    "                                    print \"Command: \"+mycode\n",
    "                                try:   \n",
    "                                    exec(mycode)\n",
    "                                except AttributeError:\n",
    "                                    tmpval2=0\n",
    "                                if Histograms.has_key(name)==False:\n",
    "                                    Histograms[name]=ROOT.TH1F()\n",
    "                                    Histograms[name].SetName(name)\n",
    "                                    Histograms[name].SetTitle(name)\n",
    "                                Histograms[name].Fill(tmpval2)\n",
    "                    if Debug:\n",
    "                        print \"temp= \"+str(tmpval2)\n",
    "        \n",
    "     \n",
    "    #Save the info \n",
    "    #Save the cuts counts        \n",
    "    save_obj(counts, \"CutsCounts\" )\n",
    "    save_obj(CutFlow, \"CutFlow\" )"
   ]
  },
  {
   "cell_type": "code",
   "execution_count": 21,
   "metadata": {},
   "outputs": [
    {
     "ename": "KeyError",
     "evalue": "'JetEntries'",
     "output_type": "error",
     "traceback": [
      "\u001b[0;31m\u001b[0m",
      "\u001b[0;31mKeyError\u001b[0mTraceback (most recent call last)",
      "\u001b[0;32m<ipython-input-21-d460549b4d3f>\u001b[0m in \u001b[0;36m<module>\u001b[0;34m()\u001b[0m\n\u001b[0;32m----> 1\u001b[0;31m \u001b[0ma\u001b[0m\u001b[0;34m=\u001b[0m\u001b[0mHistograms\u001b[0m\u001b[0;34m[\u001b[0m\u001b[0;34m'JetEntries'\u001b[0m\u001b[0;34m]\u001b[0m\u001b[0;34m\u001b[0m\u001b[0m\n\u001b[0m",
      "\u001b[0;31mKeyError\u001b[0m: 'JetEntries'"
     ]
    }
   ],
   "source": [
    "a=Histograms['JetEntries']"
   ]
  },
  {
   "cell_type": "code",
   "execution_count": 18,
   "metadata": {},
   "outputs": [
    {
     "ename": "NameError",
     "evalue": "name 'a' is not defined",
     "output_type": "error",
     "traceback": [
      "\u001b[0;31m\u001b[0m",
      "\u001b[0;31mNameError\u001b[0mTraceback (most recent call last)",
      "\u001b[0;32m<ipython-input-18-38dbac323a01>\u001b[0m in \u001b[0;36m<module>\u001b[0;34m()\u001b[0m\n\u001b[0;32m----> 1\u001b[0;31m \u001b[0ma\u001b[0m\u001b[0;34m.\u001b[0m\u001b[0mDraw\u001b[0m\u001b[0;34m(\u001b[0m\u001b[0;34m)\u001b[0m\u001b[0;34m\u001b[0m\u001b[0m\n\u001b[0m",
      "\u001b[0;31mNameError\u001b[0m: name 'a' is not defined"
     ]
    }
   ],
   "source": [
    "a.Draw()"
   ]
  },
  {
   "cell_type": "code",
   "execution_count": null,
   "metadata": {},
   "outputs": [],
   "source": [
    "CutFlow"
   ]
  },
  {
   "cell_type": "code",
   "execution_count": null,
   "metadata": {},
   "outputs": [],
   "source": [
    "CutFlowUser"
   ]
  },
  {
   "cell_type": "code",
   "execution_count": null,
   "metadata": {},
   "outputs": [],
   "source": [
    "Validationlen"
   ]
  },
  {
   "cell_type": "code",
   "execution_count": null,
   "metadata": {},
   "outputs": [],
   "source": [
    "value=[True, True, True, True]"
   ]
  },
  {
   "cell_type": "code",
   "execution_count": null,
   "metadata": {},
   "outputs": [],
   "source": [
    "Debug"
   ]
  },
  {
   "cell_type": "code",
   "execution_count": null,
   "metadata": {},
   "outputs": [],
   "source": [
    "tmpval"
   ]
  },
  {
   "cell_type": "code",
   "execution_count": null,
   "metadata": {},
   "outputs": [],
   "source": [
    "CutUserFlagsObj"
   ]
  },
  {
   "cell_type": "code",
   "execution_count": null,
   "metadata": {},
   "outputs": [],
   "source": [
    "Histograms.has_key(\"camilo\")==False"
   ]
  },
  {
   "cell_type": "code",
   "execution_count": null,
   "metadata": {},
   "outputs": [],
   "source": [
    "histoKeys=Histograms.keys()\n",
    "for j in histoKeys:\n",
    "    #print Histograms[j]\n",
    "    mycode=\"flag = True if jet.PT \"+filt+\" else False\" \n",
    "    print mycode\n",
    "    #exec(mycode)"
   ]
  },
  {
   "cell_type": "code",
   "execution_count": null,
   "metadata": {},
   "outputs": [],
   "source": [
    "histoKeys[0]"
   ]
  },
  {
   "cell_type": "code",
   "execution_count": null,
   "metadata": {},
   "outputs": [],
   "source": [
    "a=Histograms[j]"
   ]
  },
  {
   "cell_type": "code",
   "execution_count": null,
   "metadata": {},
   "outputs": [],
   "source": [
    "a.Fill()"
   ]
  },
  {
   "cell_type": "code",
   "execution_count": null,
   "metadata": {},
   "outputs": [],
   "source": []
  },
  {
   "cell_type": "code",
   "execution_count": null,
   "metadata": {},
   "outputs": [],
   "source": [
    "CutUserFlagsObj= LsOfPOandVOI.keys()\n",
    "LsOfPOandVOI"
   ]
  },
  {
   "cell_type": "code",
   "execution_count": null,
   "metadata": {},
   "outputs": [],
   "source": [
    "LsOfPOandVOI['Muon']"
   ]
  },
  {
   "cell_type": "code",
   "execution_count": null,
   "metadata": {},
   "outputs": [],
   "source": [
    "CutUserFlagsObj= LsOfPOandVOI.keys()\n",
    "for m in CutUserFlagsObj:\n",
    "    #print m\n",
    "    #print LsOfPOandVOI[m]\n",
    "    for l in range(len(LsOfPOandVOI[m])):\n",
    "        #print\n",
    "        \n",
    "        if isinstance(LsOfPOandVOI[m][l], tuple):\n",
    "            tupla=LsOfPOandVOI[m][l]\n",
    "            name=\"Count_\"+m+\"[\"+str(LsOfPOandVOI[m][l][0])+\"]\"+LsOfPOandVOI[m][l][1]\n",
    "            print name\n",
    "        else:\n",
    "            name=\"Count_\"+m+LsOfPOandVOI[m][l]\n",
    "            print name\n"
   ]
  },
  {
   "cell_type": "code",
   "execution_count": null,
   "metadata": {},
   "outputs": [],
   "source": [
    "LsOfPOandVOI['Muon'][0][0]"
   ]
  },
  {
   "cell_type": "code",
   "execution_count": null,
   "metadata": {},
   "outputs": [],
   "source": [
    "LsOfPOandVOI[m][l]"
   ]
  },
  {
   "cell_type": "code",
   "execution_count": null,
   "metadata": {},
   "outputs": [],
   "source": [
    "len(LsOfPOandVOI[m])"
   ]
  },
  {
   "cell_type": "code",
   "execution_count": null,
   "metadata": {},
   "outputs": [],
   "source": [
    "CutUserFlagsObj=0"
   ]
  },
  {
   "cell_type": "code",
   "execution_count": null,
   "metadata": {},
   "outputs": [],
   "source": [
    "CutUserFlagsObj"
   ]
  },
  {
   "cell_type": "code",
   "execution_count": null,
   "metadata": {},
   "outputs": [],
   "source": [
    "CutFlags=flags.keys()"
   ]
  },
  {
   "cell_type": "code",
   "execution_count": null,
   "metadata": {},
   "outputs": [],
   "source": [
    "CutFlags"
   ]
  },
  {
   "cell_type": "code",
   "execution_count": null,
   "metadata": {},
   "outputs": [],
   "source": []
  },
  {
   "cell_type": "code",
   "execution_count": null,
   "metadata": {},
   "outputs": [],
   "source": [
    "CutFlowUser=[]\n",
    "PhOb=LsOfCuts.keys()\n",
    "#print \"PhOb\", PhOb\n",
    "#If is empty return error\n",
    "for i in PhOb:\n",
    "    VaOfIn=LsOfCuts[i]\n",
    "    #If is empty return error\n",
    "    #print VaOfIn\n",
    "    Cuts=VaOfIn.keys()\n",
    "    #If is empty return error\n",
    "    #print \"Cuts\", Cuts\n",
    "    for j in Cuts:\n",
    "        cut_base=VaOfIn[j]\n",
    "        for cut_ in cut_base:\n",
    "            if isinstance(cut_, tuple):\n",
    "                #print i+j+cut_[1]\n",
    "                CutFlowUser.append(\"Count_\"+i+\"[\"+str(cut_[0])+\"]\"+j+cut_[1])\n",
    "            else:\n",
    "                #print i+j+cut_\n",
    "                if i==\"Jet\" or i==\"Muon\" or i==\"Electron\" or i==\"Photon\":\n",
    "                    if j != \"Entries\":\n",
    "                        CutFlowUser.append(\"Count_\"+i+\"[0]\"+j+cut_)\n",
    "                    else:\n",
    "                        CutFlowUser.append(\"Count_\"+i+j+cut_)\n",
    "                else:\n",
    "                    CutFlowUser.append(\"Count_\"+i+j+cut_)\n"
   ]
  },
  {
   "cell_type": "code",
   "execution_count": null,
   "metadata": {},
   "outputs": [],
   "source": [
    "Validationlen=len(CutFlowUser)"
   ]
  },
  {
   "cell_type": "code",
   "execution_count": null,
   "metadata": {},
   "outputs": [],
   "source": [
    "flags"
   ]
  },
  {
   "cell_type": "code",
   "execution_count": null,
   "metadata": {},
   "outputs": [],
   "source": [
    "flags['Count_Muon[0]PT>5']"
   ]
  },
  {
   "cell_type": "code",
   "execution_count": null,
   "metadata": {},
   "outputs": [],
   "source": [
    "flags.keys()\n",
    "CutFlow={}\n",
    "value=[]\n",
    "for i in CutFlowUser:\n",
    "    print i\n",
    "    if flags.has_key(i):\n",
    "        print flags[i]\n",
    "        if flags[i]:\n",
    "            value.append(True)\n",
    "        else:\n",
    "            value.append(False)\n",
    "    else:\n",
    "        value.append(False)"
   ]
  },
  {
   "cell_type": "code",
   "execution_count": null,
   "metadata": {},
   "outputs": [],
   "source": [
    "sum(value)"
   ]
  },
  {
   "cell_type": "code",
   "execution_count": null,
   "metadata": {},
   "outputs": [],
   "source": [
    "        #Create the plots\n",
    "        Histograms={}\n",
    "        CutUserFlagsObj= LsOfPOandVOI.keys()\n",
    "        for m in CutUserFlagsObj:\n",
    "        #print m\n",
    "        #print LsOfPOandVOI[m]\n",
    "            for l in range(len(LsOfPOandVOI[m])):\n",
    "            #print\n",
    "                if isinstance(LsOfPOandVOI[m][l], tuple):\n",
    "                    name=m+\"[\"+str(LsOfPOandVOI[m][l][0])+\"]\"+LsOfPOandVOI[m][l][1]\n",
    "                    #print name\n",
    "                    Histograms[name]=ROOT.TH1F()\n",
    "                else:\n",
    "                    if m==\"Jet\" or m==\"Muon\" or m==\"Electron\" or m==\"Photon\":\n",
    "                        if LsOfPOandVOI[m][l] != \"Entries\":\n",
    "                            name=m+\"[0]\"+LsOfPOandVOI[m][l]\n",
    "                            #print name\n",
    "                            Histograms[name]=ROOT.TH1F()\n",
    "                            Histograms[name].SetName(name)\n",
    "                            Histograms[name].SetTitle(name)\n",
    "                        else:\n",
    "                            name=m+LsOfPOandVOI[m][l]\n",
    "                            #print name\n",
    "                            Histograms[name]=ROOT.TH1F()\n",
    "                    else:\n",
    "                        name=m+LsOfPOandVOI[m][l]\n",
    "                        #print name\n",
    "                        Histograms[name]=ROOT.TH1F()"
   ]
  },
  {
   "cell_type": "code",
   "execution_count": null,
   "metadata": {},
   "outputs": [],
   "source": [
    "Histograms"
   ]
  },
  {
   "cell_type": "code",
   "execution_count": null,
   "metadata": {},
   "outputs": [],
   "source": [
    "a=Histograms['JetEntries']"
   ]
  },
  {
   "cell_type": "code",
   "execution_count": null,
   "metadata": {},
   "outputs": [],
   "source": [
    "a.SetName('JetEntries')\n",
    "a.Fill"
   ]
  },
  {
   "cell_type": "code",
   "execution_count": null,
   "metadata": {},
   "outputs": [],
   "source": [
    "# Book histograms\n",
    "histJetPT = ROOT.TH1F(\"jet_pt\", \"jet P_{T}\", 100, 0.0, 100.0)\n",
    "histMass = ROOT.TH1F(\"mass\", \"M_{inv}(e_{1}, e_{2})\", 100, 40.0, 140.0)\n",
    "histJetPT.Fill(jet.PT)\n",
    "\n"
   ]
  }
 ],
 "metadata": {
  "kernelspec": {
   "display_name": "Python 2",
   "language": "python",
   "name": "python2"
  },
  "language_info": {
   "codemirror_mode": {
    "name": "ipython",
    "version": 2
   },
   "file_extension": ".py",
   "mimetype": "text/x-python",
   "name": "python",
   "nbconvert_exporter": "python",
   "pygments_lexer": "ipython2",
   "version": "2.7.16"
  }
 },
 "nbformat": 4,
 "nbformat_minor": 2
}
