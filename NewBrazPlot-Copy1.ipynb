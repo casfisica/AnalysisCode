{
 "cells": [
  {
   "cell_type": "code",
   "execution_count": 1,
   "metadata": {},
   "outputs": [
    {
     "name": "stdout",
     "output_type": "stream",
     "text": [
      "Welcome to JupyROOT 6.12/05\n"
     ]
    }
   ],
   "source": [
    "import ROOT\n",
    "from ROOT import TFile, TTree, TCanvas, TGraph, TMultiGraph, TGraphErrors, TLegend\n",
    "import subprocess # to execute shell command\n",
    "ROOT.gROOT.SetBatch(ROOT.kTRUE)"
   ]
  },
  {
   "cell_type": "code",
   "execution_count": 2,
   "metadata": {},
   "outputs": [],
   "source": [
    "x=[0, 1, 2, 3, 4];\n",
    "y=[0, 2, 4, 1, 3];\n",
    "sigma=0.1;\n",
    "Sigma1=[y[0]+sigma,y[1]+sigma,y[2]+sigma,y[3]+sigma,y[4]+sigma];\n",
    "Sigma2=[y[0]+2*sigma,y[1]+2*sigma,y[2]+2*sigma,y[3]+2*sigma,y[4]+2*sigma];\n",
    "NSigma1=[y[0]-sigma,y[1]-sigma,y[2]-sigma,y[3]-sigma,y[4]-sigma];\n",
    "NSigma2=[y[0]-2*sigma,y[1]-2*sigma,y[2]-2*sigma,y[3]-2*sigma,y[4]-2*sigma];\n"
   ]
  },
  {
   "cell_type": "code",
   "execution_count": 3,
   "metadata": {},
   "outputs": [],
   "source": [
    "N = len(x)\n",
    "yellow = TGraph(2*N)    # yellow band\n",
    "green = TGraph(2*N)     # green band\n",
    "median = TGraph(N)      # median line\n",
    " \n",
    "up2s = [ ]\n",
    "for i in range(N):\n",
    "    up2s.append(Sigma2[i])\n",
    "    yellow.SetPoint(    i,    x[i], Sigma2[i] ) # + 2 sigma\n",
    "    green.SetPoint(     i,    x[i], Sigma1[i] ) # + 1 sigma\n",
    "    median.SetPoint(    i,    x[i], y[i] ) # median\n",
    "    green.SetPoint(  2*N-1-i, x[i], NSigma1[i] ) # - 1 sigma\n",
    "    yellow.SetPoint( 2*N-1-i, x[i], NSigma2[i] ) # - 2 sigma"
   ]
  },
  {
   "cell_type": "code",
   "execution_count": 4,
   "metadata": {},
   "outputs": [],
   "source": [
    "W = 800\n",
    "H  = 600\n",
    "T = 0.08*H\n",
    "B = 0.12*H\n",
    "L = 0.12*W\n",
    "R = 0.04*W\n",
    "c = TCanvas(\"c\",\"c\",100,100,W,H)\n",
    "c.SetFillColor(0)\n",
    "c.SetBorderMode(0)\n",
    "c.SetFrameFillStyle(0)\n",
    "c.SetFrameBorderMode(0)\n",
    "c.SetLeftMargin( L/W )\n",
    "c.SetRightMargin( R/W )\n",
    "c.SetTopMargin( T/H )\n",
    "c.SetBottomMargin( B/H )\n",
    "c.SetTickx(0)\n",
    "c.SetTicky(0)\n",
    "c.SetGrid()\n",
    "c.cd()\n",
    "frame = c.DrawFrame(1.4,0.001, 4.1, 10)\n",
    "frame.GetYaxis().CenterTitle()\n",
    "frame.GetYaxis().SetTitleSize(0.05)\n",
    "frame.GetXaxis().SetTitleSize(0.05)\n",
    "frame.GetXaxis().SetLabelSize(0.04)\n",
    "frame.GetYaxis().SetLabelSize(0.04)\n",
    "frame.GetYaxis().SetTitleOffset(0.9)\n",
    "frame.GetXaxis().SetNdivisions(508)\n",
    "frame.GetYaxis().CenterTitle(True)\n",
    "frame.GetYaxis().SetTitle(\"#Delta M=M_{F} - M_{#Chi}\")\n",
    "#frame.GetYaxis().SetTitle(\"95% upper limit on #sigma #times BR / (#sigma #times BR)_{SM}\")\n",
    "frame.GetXaxis().SetTitle(\"M_{F}\")\n",
    "frame.SetMinimum(0)\n",
    "frame.SetMaximum(max(up2s)*1.05)\n",
    "frame.GetXaxis().SetLimits(min(x),max(x))\n",
    "\n",
    "yellow.SetFillColor(ROOT.kOrange)\n",
    "yellow.SetLineColor(ROOT.kOrange)\n",
    "yellow.SetFillStyle(1001)\n",
    "yellow.Draw('F')\n",
    " \n",
    "green.SetFillColor(ROOT.kGreen+1)\n",
    "green.SetLineColor(ROOT.kGreen+1)\n",
    "green.SetFillStyle(1001)\n",
    "green.Draw('Fsame')\n",
    " \n",
    "median.SetLineColor(1)\n",
    "median.SetLineWidth(2)\n",
    "median.SetLineStyle(2)\n",
    "median.Draw('Lsame')\n",
    " \n",
    "#CMS_lumi.CMS_lumi(c,14,11)\n",
    "#ROOT.gPad.SetTicks(1,1)\n",
    "frame.Draw('sameaxis')\n",
    " \n",
    "x1 = 0.15\n",
    "x2 = x1 + 0.24\n",
    "y2 = 0.76\n",
    "y1 = 0.60\n",
    "legend = TLegend(x1,y1,x2,y2)\n",
    "legend.SetFillStyle(0)\n",
    "legend.SetBorderSize(0)\n",
    "legend.SetTextSize(0.041)\n",
    "legend.SetTextFont(42)\n",
    "legend.AddEntry(median, \"Asymptotic CL_{s} expected\",'L')\n",
    "legend.AddEntry(green, \"#pm 1 std. deviation\",'f')\n",
    "#legend.AddEntry(green, \"Asymptotic CL_{s} #pm 1 std. deviation\",'f')\n",
    "legend.AddEntry(yellow,\"#pm 2 std. deviation\",'f')\n",
    "#legend.AddEntry(green, \"Asymptotic CL_{s} #pm 2 std. deviation\",'f')\n",
    "legend.Draw()"
   ]
  },
  {
   "cell_type": "code",
   "execution_count": 5,
   "metadata": {},
   "outputs": [
    {
     "data": {
      "image/png": "[encoded data removed]",
      "text/plain": [
       "<IPython.core.display.Image object>"
      ]
     },
     "metadata": {},
     "output_type": "display_data"
    }
   ],
   "source": [
    "c.Draw()"
   ]
  },
  {
   "cell_type": "code",
   "execution_count": null,
   "metadata": {},
   "outputs": [],
   "source": []
  }
 ],
 "metadata": {
  "kernelspec": {
   "display_name": "Python 2",
   "language": "python",
   "name": "python2"
  },
  "language_info": {
   "codemirror_mode": {
    "name": "ipython",
    "version": 2
   },
   "file_extension": ".py",
   "mimetype": "text/x-python",
   "name": "python",
   "nbconvert_exporter": "python",
   "pygments_lexer": "ipython2",
   "version": "2.7.13"
  }
 },
 "nbformat": 4,
 "nbformat_minor": 2
}
